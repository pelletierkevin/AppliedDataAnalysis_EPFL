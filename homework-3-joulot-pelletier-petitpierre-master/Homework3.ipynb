{
 "cells": [
  {
   "cell_type": "markdown",
   "metadata": {},
   "source": [
    "# ADA 2018 - Homework 3\n",
    "\n",
    "\n",
    "\n",
    "## Undestanding the StackOverflow community\n",
    "\n",
    "\n",
    "Deadline: Nov 7th 2018, 23:59:59\n",
    "\n",
    "Submission link: Check channel homework-3-public"
   ]
  },
  {
   "cell_type": "markdown",
   "metadata": {},
   "source": [
    "StackOverflow is the most popular programming-related Q&A website. It serves as a platform for users to ask and answer questions and to vote questions and answers up or down. Users of StackOverflow can earn reputation points and \"badges\"; for example, a person is awarded 10 reputation points for receiving an \"up\" vote on an answer given to a question, and 5 points for the \"up\" vote on a question asked. Also, users receive badges for their valued contributions, which represents a kind of gamification of the traditional Q&A site. \n",
    "\n",
    "[Learn more about StackOverflow on Wikipedia](https://en.wikipedia.org/wiki/Stack_Overflow)\n",
    "\n",
    "----\n",
    "\n",
    "Dataset link:\n",
    "\n",
    "https://drive.google.com/open?id=1POlGjqzw9v_pZ_bUnXGihOgk45kbvNjB\n",
    "\n",
    "http://iccluster053.iccluster.epfl.ch/Posts.json.zip (mirror 1)\n",
    "\n",
    "https://iloveadatas.com/datasets/Posts.json.zip (mirror 2)\n",
    "\n",
    "Dataset description:\n",
    "\n",
    "* **Id**: Id of the post\n",
    "* **CreationDate**: Creation date of the post (String format)\n",
    "* **PostTypeId**: Type of post (Question = 1, Answer = 2)\n",
    "* **ParentId**: The id of the question. Only present if PostTypeId = 2\n",
    "* **Score**: Points assigned by the users\n",
    "* **Tags**: Tags of the question. Only present if PostTypeId = 1\n",
    "* **Title**: Only present if PostTypeId = 1\n",
    "* **ViewCount**: Only present if PostTypeId = 1\n",
    "\n",
    "The dataset format is JSON. Here are examples of a question and an answer:\n",
    "\n",
    "Question:\n",
    "```json\n",
    "{\n",
    "    \"Id\": 10130734,\n",
    "    \"CreationDate\": \"2012-04-12T19:51:25.793+02:00\",\n",
    "    \"PostTypeId\": 1,\n",
    "    \"Score\": 4,\n",
    "    \"Tags\": \"<python><pandas>\",\n",
    "    \"Title\": \"Best way to insert a new value\",\n",
    "    \"ViewCount\": 3803\n",
    "}\n",
    "```\n",
    "\n",
    "Answer:\n",
    "```json\n",
    "{  \n",
    "   \"CreationDate\":\"2010-10-26T03:19:05.063+02:00\",\n",
    "   \"Id\":4020440,\n",
    "   \"ParentId\":4020214,\n",
    "   \"PostTypeId\":2,\n",
    "   \"Score\":1\n",
    "}\n",
    "```\n",
    "\n",
    "----\n",
    "Useful resources:\n",
    "\n",
    "**Spark SQL, DataFrames and Datasets Guide**\n",
    "\n",
    "https://spark.apache.org/docs/latest/sql-programming-guide.html\n",
    "\n",
    "**Database schema documentation for the public data dump**\n",
    "\n",
    "https://meta.stackexchange.com/questions/2677/database-schema-documentation-for-the-public-data-dump-and-sede\n",
    "\n",
    "----\n",
    "\n",
    "**Note:** Use Spark where possible. Some computations can take more than 10 minutes on a common notebook. Consider to save partial results on disk."
   ]
  },
  {
   "cell_type": "code",
   "execution_count": 6,
   "metadata": {},
   "outputs": [],
   "source": [
    "import findspark\n",
    "findspark.init()\n",
    "import pyspark"
   ]
  },
  {
   "cell_type": "code",
   "execution_count": 7,
   "metadata": {},
   "outputs": [],
   "source": [
    "# Add your imports here\n",
    "import pandas as pd\n",
    "import numpy as np\n",
    "import scipy as sp\n",
    "from pyspark.sql import *\n",
    "%matplotlib inline\n",
    "\n",
    "spark = SparkSession.builder.getOrCreate()\n",
    "sc = spark.sparkContext"
   ]
  },
  {
   "cell_type": "code",
   "execution_count": 8,
   "metadata": {},
   "outputs": [],
   "source": [
    "import matplotlib.pyplot as plt"
   ]
  },
  {
   "cell_type": "code",
   "execution_count": 9,
   "metadata": {},
   "outputs": [],
   "source": [
    "from datetime import datetime\n",
    "from pyspark.sql.types import DateType\n",
    "from pyspark.sql.types import TimestampType\n",
    "import pytz"
   ]
  },
  {
   "cell_type": "code",
   "execution_count": 10,
   "metadata": {},
   "outputs": [],
   "source": [
    "from pyspark.sql.functions import *\n",
    "from pyspark.sql.functions import minute\n",
    "from pyspark.sql import functions as F"
   ]
  },
  {
   "cell_type": "markdown",
   "metadata": {},
   "source": [
    "---\n",
    "\n",
    "<br>\n",
    "\n",
    "### Task A: Convert the dataset to a more convenient format\n",
    "As a warm-up task (and to avoid to warm up your laptop too much), load the dataset into a Spark dataframe, show the content, and save it in the _Parquet_ format. Use this step to convert the fields to a more convenient form.\n",
    "\n",
    "Answer the following questions:\n",
    "\n",
    "1. How many questions have been asked on StackOverflow?\n",
    "2. How many answers have been given?\n",
    "3. What is the percentage of questions with a score of 0?\n",
    "\n",
    "**Hint:** The next tasks involve a time difference. Consider storing time in numeric format."
   ]
  },
  {
   "cell_type": "code",
   "execution_count": 53,
   "metadata": {},
   "outputs": [],
   "source": [
    "DATA_DIR = 'data/'"
   ]
  },
  {
   "cell_type": "code",
   "execution_count": 205,
   "metadata": {},
   "outputs": [],
   "source": [
    "df = spark.read.parquet(\"posts.parquets\")"
   ]
  },
  {
   "cell_type": "code",
   "execution_count": 55,
   "metadata": {},
   "outputs": [
    {
     "name": "stdout",
     "output_type": "stream",
     "text": [
      "root\n",
      " |-- CreationDate: string (nullable = true)\n",
      " |-- Id: long (nullable = true)\n",
      " |-- ParentId: long (nullable = true)\n",
      " |-- PostTypeId: long (nullable = true)\n",
      " |-- Score: long (nullable = true)\n",
      " |-- Tags: string (nullable = true)\n",
      " |-- Title: string (nullable = true)\n",
      " |-- ViewCount: long (nullable = true)\n",
      "\n"
     ]
    }
   ],
   "source": [
    "df.printSchema()"
   ]
  },
  {
   "cell_type": "code",
   "execution_count": 14,
   "metadata": {},
   "outputs": [],
   "source": [
    "#df.write.mode('overwrite').parquet(\"posts.parquet\")"
   ]
  },
  {
   "cell_type": "markdown",
   "metadata": {},
   "source": [
    "Now that we saved the dataframe in the parquet format, we are loaded it and take a look at the first rows"
   ]
  },
  {
   "cell_type": "code",
   "execution_count": 56,
   "metadata": {},
   "outputs": [
    {
     "name": "stdout",
     "output_type": "stream",
     "text": [
      "+--------------------+--------+--------+----------+-----+--------------------+--------------------+---------+\n",
      "|        CreationDate|      Id|ParentId|PostTypeId|Score|                Tags|               Title|ViewCount|\n",
      "+--------------------+--------+--------+----------+-----+--------------------+--------------------+---------+\n",
      "|2017-08-17T16:20:...|45740344|45740224|         2|    0|                null|                null|     null|\n",
      "|2017-08-17T16:20:...|45740346|45739185|         2|    1|                null|                null|     null|\n",
      "|2017-08-17T16:20:...|45740348|    null|         1|    2|<flash><react-nat...|Is it possible to...|      143|\n",
      "+--------------------+--------+--------+----------+-----+--------------------+--------------------+---------+\n",
      "only showing top 3 rows\n",
      "\n"
     ]
    }
   ],
   "source": [
    "df.show(3)"
   ]
  },
  {
   "cell_type": "markdown",
   "metadata": {},
   "source": [
    "**1) How many questions have been asked on StackOverflow?**\n",
    "\n",
    "<br>\n",
    "\n",
    "To find it, we are going to apply a filter on PostTypeId for value 1 and count the results:\n",
    "\n"
   ]
  },
  {
   "cell_type": "code",
   "execution_count": 16,
   "metadata": {},
   "outputs": [
    {
     "name": "stdout",
     "output_type": "stream",
     "text": [
      "Question asked :  15647060\n"
     ]
    }
   ],
   "source": [
    "stack_question = df.filter(df[\"PostTypeId\"] == '1');\n",
    "print(\"Question asked : \" , stack_question.count());"
   ]
  },
  {
   "cell_type": "markdown",
   "metadata": {},
   "source": [
    "<br>\n",
    "\n",
    "**2) How many answers have been given ?**\n"
   ]
  },
  {
   "cell_type": "code",
   "execution_count": 17,
   "metadata": {},
   "outputs": [
    {
     "name": "stdout",
     "output_type": "stream",
     "text": [
      "Answers :  25192772\n"
     ]
    }
   ],
   "source": [
    "stack_answers = df.filter(df[\"PostTypeId\"] == '2');\n",
    "print(\"Answers : \" ,stack_answers.count());"
   ]
  },
  {
   "cell_type": "markdown",
   "metadata": {},
   "source": [
    "Another way to proceed is to groupBy the PostTypeId and then count for each."
   ]
  },
  {
   "cell_type": "code",
   "execution_count": 18,
   "metadata": {},
   "outputs": [
    {
     "name": "stdout",
     "output_type": "stream",
     "text": [
      "+----------+--------+\n",
      "|PostTypeId|   count|\n",
      "+----------+--------+\n",
      "|         1|15647060|\n",
      "|         2|25192772|\n",
      "+----------+--------+\n",
      "\n"
     ]
    }
   ],
   "source": [
    "df.groupBy(\"PostTypeId\").count().show()"
   ]
  },
  {
   "cell_type": "markdown",
   "metadata": {},
   "source": [
    "<br>\n",
    "\n",
    "**3) What is the percentage of questions with a score of 0?**\n",
    "\n",
    "<br>\n",
    "\n",
    " - First, we will count questions with `0` score\n",
    " - Then, we simply divide it by number of questions found"
   ]
  },
  {
   "cell_type": "code",
   "execution_count": 19,
   "metadata": {},
   "outputs": [
    {
     "name": "stdout",
     "output_type": "stream",
     "text": [
      "Number of questions with a score of 0:  7282714\n"
     ]
    }
   ],
   "source": [
    "stack_zero_question = stack_question.filter(stack_question[\"Score\"] == '0');\n",
    "print('Number of questions with a score of 0: ',stack_zero_question.count())"
   ]
  },
  {
   "cell_type": "code",
   "execution_count": 20,
   "metadata": {},
   "outputs": [
    {
     "name": "stdout",
     "output_type": "stream",
     "text": [
      "Percentage of question with a score of 0 : 46.54%\n"
     ]
    }
   ],
   "source": [
    "print(\"Percentage of question with a score of 0 : %.2f\" % ((stack_zero_question.count()/stack_question.count())*100) + \"%\")"
   ]
  },
  {
   "cell_type": "markdown",
   "metadata": {},
   "source": [
    "---\n",
    "\n",
    "<br>\n",
    "\n",
    "### Task B: What are the 10 most popular tags?\n",
    "\n",
    "What are the most popular tags in StackOverflow? Use Spark to extract the information you need, and answer the following questions with Pandas and Matplotlib (or Seaborn):\n",
    "\n",
    "1. What is the proportion of tags that appear in fewer than 100 questions?\n",
    "2. Plot the distribution of the tag counts using an appropriate representation.\n",
    "3. Plot a bar chart with the number of questions for the 10 most popular tags.\n",
    "\n",
    "For each task describe your findings briefly."
   ]
  },
  {
   "cell_type": "markdown",
   "metadata": {},
   "source": [
    "__1)__\n",
    "\n",
    "We would like to get the proportion of tags.\n",
    "First of all we have to extract in the dataset the questions. For this we could use the parameter PostTypeId=1 or ParentId= None. Then, the questions are often linked with multiple tags so we have to split these different tags and group them by tag name. We then have to be carefull that the tag names are different to none in order to extract them.\n",
    "\n",
    "Finally we will reduce by tag name the dataset and count each occurence of tags.\n",
    "\n",
    "By the way, we could say that the PostTypeId is a redundent column, as we can get this information using the ParentId column. "
   ]
  },
  {
   "cell_type": "code",
   "execution_count": 21,
   "metadata": {},
   "outputs": [
    {
     "name": "stdout",
     "output_type": "stream",
     "text": [
      "52994\n",
      "36118\n"
     ]
    }
   ],
   "source": [
    "# r[5] : Tags != none and r[2] : ParentId = None meaning this is a questions\n",
    "# Each question has different tags => Split it\n",
    "# Correct the tag name which is included between <tagname> and assign value 1 to count frequency\n",
    "# Reduce by key each tag and count number of occurences for each tags\n",
    "\n",
    "tags = df.rdd.filter(lambda r: r[2] == None and r[5] != None)\\\n",
    "            .flatMap(lambda r: [(r[1], g) for g in r[5].split('><')])\\\n",
    "            .map(lambda r: [r[1].replace('>','').replace('<',''),1])\\\n",
    "            .reduceByKey(lambda a,b: a+b) \n",
    "\n",
    "total_tags = tags.count() # Total length of rdd => total number of tags \n",
    "\n",
    "#Number of tags with less than 100 appearances.\n",
    "fewer100_tags = tags.filter(lambda r: r[1] <= 100).count() # Number of tags appearing in less than 100 questions\n"
   ]
  },
  {
   "cell_type": "code",
   "execution_count": 63,
   "metadata": {
    "scrolled": false
   },
   "outputs": [
    {
     "name": "stdout",
     "output_type": "stream",
     "text": [
      "Total number of tags : 52994\n",
      "Number of tags with less than 100 questions : 36118\n",
      "\n",
      "Proportion of tags mentonned in less than 100 questions : 68.15488545873117 %\n"
     ]
    }
   ],
   "source": [
    "print(\"Total number of tags : \" + str(total_tags))\n",
    "print(\"Number of tags with less than 100 questions : \" + str(fewer100_tags))\n",
    "print(\"\\nProportion of tags mentionned in less than 100 questions : \" + str(100*fewer100_tags/total_tags) + \" %\")"
   ]
  },
  {
   "cell_type": "markdown",
   "metadata": {},
   "source": [
    "We can say that this is already an important part of the dataset. It looks like the tag distribution is following a Zipf's law. We will check this in the next question."
   ]
  },
  {
   "cell_type": "markdown",
   "metadata": {},
   "source": [
    "__2)__\n",
    "\n",
    "We now want to plot the distribution of the tag counts. We already extracted the tag counts previously. We willl then export it to a Pandas dataframe in order to get some visualization."
   ]
  },
  {
   "cell_type": "code",
   "execution_count": 64,
   "metadata": {},
   "outputs": [],
   "source": [
    "tags_DF = spark.createDataFrame(tags, ['tags','freq'])\n",
    "tags_Pandas = tags_DF.toPandas()"
   ]
  },
  {
   "cell_type": "code",
   "execution_count": 65,
   "metadata": {
    "scrolled": false
   },
   "outputs": [
    {
     "data": {
      "text/html": [
       "<div>\n",
       "<style scoped>\n",
       "    .dataframe tbody tr th:only-of-type {\n",
       "        vertical-align: middle;\n",
       "    }\n",
       "\n",
       "    .dataframe tbody tr th {\n",
       "        vertical-align: top;\n",
       "    }\n",
       "\n",
       "    .dataframe thead th {\n",
       "        text-align: right;\n",
       "    }\n",
       "</style>\n",
       "<table border=\"1\" class=\"dataframe\">\n",
       "  <thead>\n",
       "    <tr style=\"text-align: right;\">\n",
       "      <th></th>\n",
       "      <th>freq</th>\n",
       "    </tr>\n",
       "  </thead>\n",
       "  <tbody>\n",
       "    <tr>\n",
       "      <th>count</th>\n",
       "      <td>5.299400e+04</td>\n",
       "    </tr>\n",
       "    <tr>\n",
       "      <th>mean</th>\n",
       "      <td>8.809450e+02</td>\n",
       "    </tr>\n",
       "    <tr>\n",
       "      <th>std</th>\n",
       "      <td>1.598885e+04</td>\n",
       "    </tr>\n",
       "    <tr>\n",
       "      <th>min</th>\n",
       "      <td>1.000000e+00</td>\n",
       "    </tr>\n",
       "    <tr>\n",
       "      <th>25%</th>\n",
       "      <td>1.000000e+01</td>\n",
       "    </tr>\n",
       "    <tr>\n",
       "      <th>50%</th>\n",
       "      <td>3.700000e+01</td>\n",
       "    </tr>\n",
       "    <tr>\n",
       "      <th>75%</th>\n",
       "      <td>1.570000e+02</td>\n",
       "    </tr>\n",
       "    <tr>\n",
       "      <th>max</th>\n",
       "      <td>1.585495e+06</td>\n",
       "    </tr>\n",
       "  </tbody>\n",
       "</table>\n",
       "</div>"
      ],
      "text/plain": [
       "               freq\n",
       "count  5.299400e+04\n",
       "mean   8.809450e+02\n",
       "std    1.598885e+04\n",
       "min    1.000000e+00\n",
       "25%    1.000000e+01\n",
       "50%    3.700000e+01\n",
       "75%    1.570000e+02\n",
       "max    1.585495e+06"
      ]
     },
     "execution_count": 65,
     "metadata": {},
     "output_type": "execute_result"
    }
   ],
   "source": [
    "tags_Pandas.describe()"
   ]
  },
  {
   "cell_type": "markdown",
   "metadata": {},
   "source": [
    "We can already have some information about the tags distribution. Indeed, up to the 75% quartile the values are in the same order (e+2) but the mean is greater and the max is really higher. Then this is confirming the Zipf's law distribution guess. \n",
    "\n",
    "Let's plot the histogram !"
   ]
  },
  {
   "cell_type": "code",
   "execution_count": 111,
   "metadata": {
    "scrolled": true
   },
   "outputs": [
    {
     "data": {
      "text/plain": [
       "Text(0.5,1,\"Question's Tags counts distribution : Histogram\")"
      ]
     },
     "execution_count": 111,
     "metadata": {},
     "output_type": "execute_result"
    },
    {
     "data": {
      "image/png": "[encoded data removed]",
      "text/plain": [
       "<Figure size 1152x288 with 1 Axes>"
      ]
     },
     "metadata": {
      "needs_background": "light"
     },
     "output_type": "display_data"
    }
   ],
   "source": [
    "fig, axes = plt.subplots(nrows=1, ncols=1, sharex=True, sharey=True)\n",
    "fig.set_size_inches(16,4)\n",
    "\n",
    "tags_Pandas.hist(log=True, bins = 100, color=\"coral\", figsize =(16,4), ax=axes)\n",
    "\n",
    "axes.set_xlabel(\"Tags Nb of Occurences\")\n",
    "axes.set_ylabel(\"Frequency\")\n",
    "axes.set_title(\"Question's Tags counts distribution : Histogram\")"
   ]
  },
  {
   "cell_type": "markdown",
   "metadata": {},
   "source": [
    "We have now form of the histogram. It is indeed a power law. It could then be interesting to plot some curves \n",
    "- 1) Basic graph distribution\n",
    "- 2) Cumulative representation of the tags"
   ]
  },
  {
   "cell_type": "code",
   "execution_count": 92,
   "metadata": {
    "scrolled": false
   },
   "outputs": [
    {
     "data": {
      "image/png": "[encoded data removed]",
      "text/plain": [
       "<Figure size 1152x288 with 2 Axes>"
      ]
     },
     "metadata": {
      "needs_background": "light"
     },
     "output_type": "display_data"
    }
   ],
   "source": [
    "# Prepare the figure to create 2 subplots\n",
    "fig, axes = plt.subplots(1, 2)\n",
    "fig.set_size_inches(16,4)\n",
    "\n",
    "\n",
    "# Tag distribution graph\n",
    "\n",
    "cut_tags = pd.cut(tags_Pandas['freq'], bins=1000)\n",
    "ax2 = cut_tags.value_counts(sort=False).plot(loglog=True,ax=axes[0], color='coral')\n",
    "ax2.grid(True)\n",
    "ax2.set_title(\"Frequency of interval tags questions occurences | Bins = 1000\")\n",
    "ax2.set_xlabel(\"Tags occurences\")\n",
    "ax2.set_ylabel(\"Frequency\")\n",
    "\n",
    "\n",
    "# Cumulative Representation\n",
    "\n",
    "x2 = np.arange(tags_Pandas['freq'].max()/4, step = 3000 )\n",
    "# Initialize the y vector\n",
    "y2 = []\n",
    "# Stores in y the number of communes grater than the threshold defined by x\n",
    "for threshold in x2:\n",
    "    y2.append(tags_Pandas[tags_Pandas['freq'] >= threshold].shape[0])\n",
    "\n",
    "\n",
    "# Transform the y list into a Series using the Population index    \n",
    "y2 = pd.Series(y2,index=pd.Index(x2, name='Tags'))\n",
    "# Plot using a loglog scale\n",
    "ax2 = y2.plot(loglog=True, ax=axes[1], color='coral')\n",
    "ax2.grid(True)\n",
    "ax2.set_xlabel(\"Tags Occurences\")\n",
    "ax2.set_ylabel(\"Nb of tags with occurences >  x\")\n",
    "ax2.set_title(\"Cumulative Representation : Tags occurences step size : 3000\")\n",
    "\n",
    "\n",
    "plt.show()"
   ]
  },
  {
   "cell_type": "markdown",
   "metadata": {},
   "source": [
    "\n",
    "__3)__\n",
    "\n",
    "We now want to extract and plot the number of questions for the 10 most popular tags. \n",
    "We will then use the previous dataframe and sort. Then we will extract the 10 first values of this table and plot it using bars."
   ]
  },
  {
   "cell_type": "code",
   "execution_count": 85,
   "metadata": {},
   "outputs": [],
   "source": [
    "# Sort the dataframe containing the number of questions per tags\n",
    "sorted_tags = tags_Pandas.sort_values('freq', ascending=False)\n",
    "\n",
    "# Extract the 10 first values\n",
    "first_tags = sorted_tags.iloc[0:10,:]\n",
    "first_tags = first_tags.set_index('tags')"
   ]
  },
  {
   "cell_type": "code",
   "execution_count": 93,
   "metadata": {
    "scrolled": false
   },
   "outputs": [
    {
     "data": {
      "text/plain": [
       "<matplotlib.axes._subplots.AxesSubplot at 0x21891e28da0>"
      ]
     },
     "execution_count": 93,
     "metadata": {},
     "output_type": "execute_result"
    },
    {
     "data": {
      "image/png": "[encoded data removed]",
      "text/plain": [
       "<Figure size 1152x288 with 1 Axes>"
      ]
     },
     "metadata": {
      "needs_background": "light"
     },
     "output_type": "display_data"
    }
   ],
   "source": [
    "first_tags.plot.bar(figsize =(16,4),color=\"firebrick\")\n"
   ]
  },
  {
   "cell_type": "markdown",
   "metadata": {},
   "source": [
    "The resulting bar graph seems to be correct as the printed tags seems to be the most famous programming languages."
   ]
  },
  {
   "cell_type": "markdown",
   "metadata": {},
   "source": [
    "### Task C: View-score relation\n",
    "\n",
    "We want to investigate the correlation between the view count and the score of questions.\n",
    "\n",
    "1. Get the view count and score of the questions with tag ```random-effects``` and visualize the relation between these two variables using an appropriate plot.\n",
    "2. Are these two variables correlated? Use the Pearson coefficient to validate your hypothesis. Discuss your findings in detail.\n"
   ]
  },
  {
   "cell_type": "markdown",
   "metadata": {},
   "source": [
    "We would like to study the view count and score attributes of the tag \"random-effects\". \n",
    "- We will then first extract these data. \n",
    "- We filter only the questions (ParentId, r[2] = None), and we get only the tags, r[5] not equal to None.\n",
    "- We then split the tags names, and extract only the concerned tag 'random-effects'. "
   ]
  },
  {
   "cell_type": "code",
   "execution_count": 95,
   "metadata": {},
   "outputs": [],
   "source": [
    "# First filter : Only get Questions (ParentId = None) and valid Tag name (!= None)\n",
    "# FlatMap : Get only columns tag,score,viewcount and split each Tags into distinct tag\n",
    "# Map : Correct the values of Tag names by removing '>' and '<' char (due to the previous split)\n",
    "# Filter by selecting only tags equal to 'random-effects'\n",
    "\n",
    "# r[4] : score / r[7] : viewcount\n",
    "\n",
    "tags_randeffets = df.rdd.filter(lambda r: r[2] == None and r[5] != None) \\\n",
    "            .flatMap(lambda r: [(g, r[4], r[7]) for g in r[5].split('><')]) \\\n",
    "            .map(lambda r: [r[0].replace('>','').replace('<',''), r[1], r[2]]) \\\n",
    "            .filter(lambda r: r[0] == 'random-effects')\n",
    "\n",
    "rand_effects = tags_randeffets.count()  \n"
   ]
  },
  {
   "cell_type": "code",
   "execution_count": 96,
   "metadata": {},
   "outputs": [
    {
     "name": "stdout",
     "output_type": "stream",
     "text": [
      "Number of questions with tags : <random-effets> : 100\n"
     ]
    }
   ],
   "source": [
    "print(\"Number of questions with tags : <random-effets> : \" + str(rand_effects))"
   ]
  },
  {
   "cell_type": "code",
   "execution_count": 97,
   "metadata": {
    "scrolled": true
   },
   "outputs": [
    {
     "data": {
      "text/html": [
       "<div>\n",
       "<style scoped>\n",
       "    .dataframe tbody tr th:only-of-type {\n",
       "        vertical-align: middle;\n",
       "    }\n",
       "\n",
       "    .dataframe tbody tr th {\n",
       "        vertical-align: top;\n",
       "    }\n",
       "\n",
       "    .dataframe thead th {\n",
       "        text-align: right;\n",
       "    }\n",
       "</style>\n",
       "<table border=\"1\" class=\"dataframe\">\n",
       "  <thead>\n",
       "    <tr style=\"text-align: right;\">\n",
       "      <th></th>\n",
       "      <th>tag</th>\n",
       "      <th>score</th>\n",
       "      <th>viewcount</th>\n",
       "    </tr>\n",
       "  </thead>\n",
       "  <tbody>\n",
       "    <tr>\n",
       "      <th>0</th>\n",
       "      <td>random-effects</td>\n",
       "      <td>0</td>\n",
       "      <td>12</td>\n",
       "    </tr>\n",
       "    <tr>\n",
       "      <th>1</th>\n",
       "      <td>random-effects</td>\n",
       "      <td>0</td>\n",
       "      <td>495</td>\n",
       "    </tr>\n",
       "    <tr>\n",
       "      <th>2</th>\n",
       "      <td>random-effects</td>\n",
       "      <td>0</td>\n",
       "      <td>220</td>\n",
       "    </tr>\n",
       "    <tr>\n",
       "      <th>3</th>\n",
       "      <td>random-effects</td>\n",
       "      <td>0</td>\n",
       "      <td>21</td>\n",
       "    </tr>\n",
       "    <tr>\n",
       "      <th>4</th>\n",
       "      <td>random-effects</td>\n",
       "      <td>5</td>\n",
       "      <td>126</td>\n",
       "    </tr>\n",
       "  </tbody>\n",
       "</table>\n",
       "</div>"
      ],
      "text/plain": [
       "              tag  score  viewcount\n",
       "0  random-effects      0         12\n",
       "1  random-effects      0        495\n",
       "2  random-effects      0        220\n",
       "3  random-effects      0         21\n",
       "4  random-effects      5        126"
      ]
     },
     "execution_count": 97,
     "metadata": {},
     "output_type": "execute_result"
    }
   ],
   "source": [
    "# Create a DataFrame to only get the interesting attributes.\n",
    "randeffects_DF = spark.createDataFrame(tags_randeffets, ['tag','score','viewcount'])\n",
    "randeffects_Pandas = randeffects_DF.toPandas()\n",
    "randeffects_Pandas.head()"
   ]
  },
  {
   "cell_type": "markdown",
   "metadata": {},
   "source": [
    "We now have the data corresponding to the 'random-effects' tag with the score and the associated viewcount.\n",
    "\n",
    "We now want to see the relation between score and viewcount, it is then interesting to use a scatter plot to have the score value for each associated viewcount. "
   ]
  },
  {
   "cell_type": "code",
   "execution_count": 55,
   "metadata": {},
   "outputs": [
    {
     "data": {
      "text/plain": [
       "<matplotlib.axes._subplots.AxesSubplot at 0x21896064b38>"
      ]
     },
     "execution_count": 55,
     "metadata": {},
     "output_type": "execute_result"
    },
    {
     "data": {
      "image/png": "[encoded data removed]",
      "text/plain": [
       "<Figure size 1152x288 with 1 Axes>"
      ]
     },
     "metadata": {
      "needs_background": "light"
     },
     "output_type": "display_data"
    }
   ],
   "source": [
    "randeffects_Pandas.plot.scatter('viewcount','score', figsize =(16,4), logx=True)"
   ]
  },
  {
   "cell_type": "markdown",
   "metadata": {},
   "source": [
    "\n",
    "__2)__ \n",
    "\n",
    "We now want to see if the 2 variables are correlated. \n",
    "The view count and the score seems to be correlated. Indeed in the scatterplot we see that when the viewcount is increasing, the score value is following and seems to have greater values. \n",
    "\n",
    "We will then use the Pearson coefficient to confirm this hypothesis.\n",
    "\n",
    "Pearson coeffciient = cov(X,Y) / ( std(X) * std(Y) )"
   ]
  },
  {
   "cell_type": "code",
   "execution_count": 98,
   "metadata": {
    "scrolled": false
   },
   "outputs": [],
   "source": [
    "# Only get the score and viewcount values\n",
    "randeffects_Pandas2 = randeffects_Pandas[['score','viewcount']]"
   ]
  },
  {
   "cell_type": "code",
   "execution_count": 99,
   "metadata": {
    "scrolled": true
   },
   "outputs": [
    {
     "name": "stdout",
     "output_type": "stream",
     "text": [
      "Covariance between score and viewcount : 18463.136363636368\n"
     ]
    }
   ],
   "source": [
    "cov = randeffects_Pandas2.cov()\n",
    "cov = cov['score']['viewcount']\n",
    "print(\"Covariance between score and viewcount : \" +str(cov))"
   ]
  },
  {
   "cell_type": "code",
   "execution_count": 100,
   "metadata": {
    "scrolled": true
   },
   "outputs": [
    {
     "name": "stdout",
     "output_type": "stream",
     "text": [
      "Std for score : 4.1340053217188775\n",
      "Std for viewcount : 5011.9178605699435\n"
     ]
    }
   ],
   "source": [
    "std_score = np.std(randeffects_Pandas2['score'])\n",
    "print(\"Std for score : \" + str(std_score))\n",
    "\n",
    "std_viewcount = np.std(randeffects_Pandas2['viewcount'])\n",
    "print(\"Std for viewcount : \" + str(std_viewcount))"
   ]
  },
  {
   "cell_type": "code",
   "execution_count": 101,
   "metadata": {
    "scrolled": false
   },
   "outputs": [
    {
     "name": "stdout",
     "output_type": "stream",
     "text": [
      "Pearson coefficent for score and viewcount = 0.8911083252466169\n"
     ]
    }
   ],
   "source": [
    "print('Pearson coefficent for score and viewcount = ' + str(cov/(std_score*std_viewcount)))"
   ]
  },
  {
   "cell_type": "markdown",
   "metadata": {},
   "source": [
    "Pearson coefficient has a value between +1 and −1, where 1 is total positive linear correlation, 0 is no linear correlation, and −1 is total negative linear correlation.\n",
    "\n",
    "We can see that our Pearson coefficient (=0.89) tends to show a positive linear correlation.\n",
    "This is then confirming the hypothesis, the attributes Viewcount and Score are correlated.\n",
    "\n",
    "Indeed when we think about the problem, if there is more people viewing the question, then there is potentially more people able to give a score. If nobody saw the question then nobody will give a score increment. That is why there is a relationship between the viewcount and the score."
   ]
  },
  {
   "cell_type": "markdown",
   "metadata": {},
   "source": [
    "### Task D: What are the tags with the fastest first answer?\n",
    "\n",
    "What are the tags that have the fastest response time from the community? We define the response time as the difference in seconds between the timestamps of the question and of the first answer received.\n",
    "\n",
    "1. Get the response time for the first answer of the questions with the tags ```python``` and ```java```.\n",
    "2. Plot the two distributions in an appropriate format. What do you observe? Describe your findings and discuss the following distribution properties: mean, median, standard deviation.\n",
    "3. We believe that the response time is lower for questions related to Python (compare to Java). Contradict or confirm this assumption by estimating the proper statistic with bootstrapping. Visualize the 95% confidence intervals with box plots and describe your findings.\n",
    "3. Repeat the first analysis (D1) by using the proper statistic to measure the response time for the tags that appear at least 5000 times. Plot the distribution of the 10 tags with the fastest response time.\n"
   ]
  },
  {
   "cell_type": "markdown",
   "metadata": {},
   "source": [
    "For question 1, we have to :\n",
    "- Select only *questions* (filter by post type) with _java_ and _python_ tags (filter tags)\n",
    "- Select their respectives answers\n",
    "- Compare creations dates and keep the fastest for every question\n",
    "\n",
    "We will perform the two first step using spark dataframe and then move to panda dataframe to treat and work with datetime object to compare dates."
   ]
  },
  {
   "cell_type": "code",
   "execution_count": 21,
   "metadata": {},
   "outputs": [],
   "source": [
    "data = spark.read.parquet(\"posts.parquets\")"
   ]
  },
  {
   "cell_type": "code",
   "execution_count": 22,
   "metadata": {},
   "outputs": [
    {
     "name": "stdout",
     "output_type": "stream",
     "text": [
      "+--------------------+--------+--------+----------+-----+--------------------+--------------------+---------+\n",
      "|        CreationDate|      Id|ParentId|PostTypeId|Score|                Tags|               Title|ViewCount|\n",
      "+--------------------+--------+--------+----------+-----+--------------------+--------------------+---------+\n",
      "|2017-08-17T16:20:...|45740344|45740224|         2|    0|                null|                null|     null|\n",
      "|2017-08-17T16:20:...|45740346|45739185|         2|    1|                null|                null|     null|\n",
      "|2017-08-17T16:20:...|45740348|    null|         1|    2|<flash><react-nat...|Is it possible to...|      143|\n",
      "|2017-08-17T16:20:...|45740350|45739102|         2|    1|                null|                null|     null|\n",
      "|2017-08-17T16:20:...|45740352|42473616|         2|    0|                null|                null|     null|\n",
      "+--------------------+--------+--------+----------+-----+--------------------+--------------------+---------+\n",
      "only showing top 5 rows\n",
      "\n"
     ]
    }
   ],
   "source": [
    "data.show(5)"
   ]
  },
  {
   "cell_type": "markdown",
   "metadata": {},
   "source": [
    "Now that we load the data, we are going to filter all question which contain at least one tag, then filter those tag by python. \n",
    "Futhermore, when we look deeper in the tags list, we can see that they are tags such as : python3-2, ipython, etc.. In our case, we made the assumption that the tag 'python' is like the parent of all tags related to python. It meens that if a question has 'python-unittest' tag, it will also have python."
   ]
  },
  {
   "cell_type": "code",
   "execution_count": 23,
   "metadata": {
    "scrolled": true
   },
   "outputs": [
    {
     "data": {
      "text/plain": [
       "[('2017-08-17T16:52:11.117+02:00', 45740943, 1, '<python>'),\n",
       " ('2017-08-17T17:03:01.267+02:00', 45741146, 1, '<python>'),\n",
       " ('2017-08-17T17:19:53.047+02:00', 45741399, 1, '<python>'),\n",
       " ('2017-08-17T18:20:39.737+02:00', 45742440, 1, '<python>'),\n",
       " ('2017-08-17T19:01:01.713+02:00', 45743080, 1, '<python>')]"
      ]
     },
     "execution_count": 23,
     "metadata": {},
     "output_type": "execute_result"
    }
   ],
   "source": [
    "# Filter from the data, python questions with their Id and date\n",
    "python_ID = data.rdd.filter(lambda x : x[3] == 1 and x[5] != None) \\\n",
    "                        .flatMap(lambda x : [(x[0], x[1], x[3], g) for g in x[5].split('><')]) \\\n",
    "                        .filter(lambda x : \"<python>\" in x[3]) \\\n",
    "                      \n",
    "\n",
    "python_ID.take(5)"
   ]
  },
  {
   "cell_type": "code",
   "execution_count": 24,
   "metadata": {},
   "outputs": [],
   "source": [
    "# Create a dataframe from the pipelineRDD. We keep the same schema\n",
    "# We index each question columns with Q to refer to question, because we are going to join these table with the data one\n",
    "schema = ['QDate','QId','QTypeId', 'QTags'];\n",
    "df_python = spark.createDataFrame(python_ID, schema)"
   ]
  },
  {
   "cell_type": "markdown",
   "metadata": {},
   "source": [
    "Now we are goint to select all answers related to the python question. We can easily find them by their parentId"
   ]
  },
  {
   "cell_type": "code",
   "execution_count": 25,
   "metadata": {},
   "outputs": [
    {
     "name": "stdout",
     "output_type": "stream",
     "text": [
      "+--------------------+------+--------+----------+--------------------+------+-------+--------+\n",
      "|        CreationDate|    Id|ParentId|PostTypeId|               QDate|   QId|QTypeId|   QTags|\n",
      "+--------------------+------+--------+----------+--------------------+------+-------+--------+\n",
      "|2009-02-05T14:17:...|516070|  516039|         2|2009-02-05T14:11:...|516039|      1|<python>|\n",
      "|2009-02-05T14:22:...|516093|  516039|         2|2009-02-05T14:11:...|516039|      1|<python>|\n",
      "|2009-02-05T14:22:...|516094|  516039|         2|2009-02-05T14:11:...|516039|      1|<python>|\n",
      "|2009-02-05T14:28:...|516116|  516039|         2|2009-02-05T14:11:...|516039|      1|<python>|\n",
      "|2009-02-05T14:29:...|516121|  516039|         2|2009-02-05T14:11:...|516039|      1|<python>|\n",
      "+--------------------+------+--------+----------+--------------------+------+-------+--------+\n",
      "only showing top 5 rows\n",
      "\n"
     ]
    }
   ],
   "source": [
    "# Dataframe join on parentId of answers with python questions IDs\n",
    "python_anwsers = data.join(df_python, data.ParentId == df_python.QId)\n",
    "\n",
    "# Remove some useless column\n",
    "python_anwsers = python_anwsers.drop('Score','Title','Tags','ViewCount')\n",
    "\n",
    "python_anwsers.show(5)"
   ]
  },
  {
   "cell_type": "markdown",
   "metadata": {},
   "source": [
    "The fourth fisrt columns are related to the answsers while the second fourth columns are related to question linked to the answers. As they can be several answers for one question, this is why we can see several times the same question."
   ]
  },
  {
   "cell_type": "markdown",
   "metadata": {},
   "source": [
    "We detailled above all the process to get all fasters answers to python questions. Below we are going to do the same for all java questions and answers."
   ]
  },
  {
   "cell_type": "code",
   "execution_count": 26,
   "metadata": {
    "scrolled": true
   },
   "outputs": [
    {
     "name": "stdout",
     "output_type": "stream",
     "text": [
      "+--------------------+------+--------+----------+--------------------+------+-------+------+\n",
      "|        CreationDate|    Id|ParentId|PostTypeId|               QDate|   QId|QTypeId| QTags|\n",
      "+--------------------+------+--------+----------+--------------------+------+-------+------+\n",
      "|2009-01-14T10:23:...|442531|  442494|         2|2009-01-14T10:11:...|442494|      1|<java>|\n",
      "|2009-05-24T03:41:...|903026|  903005|         2|2009-05-24T03:27:...|903005|      1|<java>|\n",
      "|2009-05-24T09:48:...|903444|  903005|         2|2009-05-24T03:27:...|903005|      1|<java>|\n",
      "|2009-06-07T17:54:...|962406|  962400|         2|2009-06-07T17:48:...|962400|      1|<java>|\n",
      "|2009-06-07T17:56:...|962413|  962400|         2|2009-06-07T17:48:...|962400|      1|<java>|\n",
      "+--------------------+------+--------+----------+--------------------+------+-------+------+\n",
      "only showing top 5 rows\n",
      "\n"
     ]
    }
   ],
   "source": [
    "# Filter from the data, java questions with their Id and date\n",
    "java_ID = data.rdd.filter(lambda x : x[3] == 1 and x[5] != None) \\\n",
    "                        .flatMap(lambda x : [(x[0], x[1], x[3], g) for g in x[5].split('><')]) \\\n",
    "                        .filter(lambda x : \"<java>\" in x[3]);\n",
    "\n",
    "# Create a dataframe from the pipelineRDD. We keep the same schema\n",
    "df_java = spark.createDataFrame(java_ID, schema);\n",
    "\n",
    "# Dataframe join on parentId of answers with python questions IDs\n",
    "java_anwsers = data.join(df_java, data.ParentId == df_java.QId)\n",
    "\n",
    "# Remove some useless column\n",
    "java_anwsers = java_anwsers.drop('Score','Title','Tags','ViewCount')\n",
    "\n",
    "java_anwsers.show(5)"
   ]
  },
  {
   "cell_type": "markdown",
   "metadata": {},
   "source": [
    "To be able to compare the posted question and answers dates, we are going to compare them. They are currently in the dataframes as strings, we will clean a bit those strings and convert them into datetime and compare.\n",
    "\n",
    "For the next steps, we will work with panda dataframes instead of pyspark to be able to use python datetime apis\n",
    "For cleaning phase, we remove the 'T' for time. Also the time zone in python, it has to be without ':' (ie : +0100 instead of +01:00)."
   ]
  },
  {
   "cell_type": "code",
   "execution_count": 27,
   "metadata": {},
   "outputs": [],
   "source": [
    "# Convert to panda dataframes\n",
    "java_df = java_anwsers.toPandas()\n",
    "python_df = python_anwsers.toPandas()"
   ]
  },
  {
   "cell_type": "code",
   "execution_count": 28,
   "metadata": {},
   "outputs": [
    {
     "data": {
      "text/html": [
       "<div>\n",
       "<style scoped>\n",
       "    .dataframe tbody tr th:only-of-type {\n",
       "        vertical-align: middle;\n",
       "    }\n",
       "\n",
       "    .dataframe tbody tr th {\n",
       "        vertical-align: top;\n",
       "    }\n",
       "\n",
       "    .dataframe thead th {\n",
       "        text-align: right;\n",
       "    }\n",
       "</style>\n",
       "<table border=\"1\" class=\"dataframe\">\n",
       "  <thead>\n",
       "    <tr style=\"text-align: right;\">\n",
       "      <th></th>\n",
       "      <th>CreationDate</th>\n",
       "      <th>Id</th>\n",
       "      <th>ParentId</th>\n",
       "      <th>PostTypeId</th>\n",
       "      <th>QDate</th>\n",
       "      <th>QId</th>\n",
       "      <th>QTypeId</th>\n",
       "      <th>QTags</th>\n",
       "    </tr>\n",
       "  </thead>\n",
       "  <tbody>\n",
       "    <tr>\n",
       "      <th>0</th>\n",
       "      <td>2009-02-05 14:17:39.440+01:00</td>\n",
       "      <td>516070</td>\n",
       "      <td>516039</td>\n",
       "      <td>2</td>\n",
       "      <td>2009-02-05 14:11:32.043+01:00</td>\n",
       "      <td>516039</td>\n",
       "      <td>1</td>\n",
       "      <td>&lt;python&gt;</td>\n",
       "    </tr>\n",
       "    <tr>\n",
       "      <th>1</th>\n",
       "      <td>2009-02-05 14:22:01.880+01:00</td>\n",
       "      <td>516093</td>\n",
       "      <td>516039</td>\n",
       "      <td>2</td>\n",
       "      <td>2009-02-05 14:11:32.043+01:00</td>\n",
       "      <td>516039</td>\n",
       "      <td>1</td>\n",
       "      <td>&lt;python&gt;</td>\n",
       "    </tr>\n",
       "    <tr>\n",
       "      <th>2</th>\n",
       "      <td>2009-02-05 14:22:05.640+01:00</td>\n",
       "      <td>516094</td>\n",
       "      <td>516039</td>\n",
       "      <td>2</td>\n",
       "      <td>2009-02-05 14:11:32.043+01:00</td>\n",
       "      <td>516039</td>\n",
       "      <td>1</td>\n",
       "      <td>&lt;python&gt;</td>\n",
       "    </tr>\n",
       "    <tr>\n",
       "      <th>3</th>\n",
       "      <td>2009-02-05 14:28:08.310+01:00</td>\n",
       "      <td>516116</td>\n",
       "      <td>516039</td>\n",
       "      <td>2</td>\n",
       "      <td>2009-02-05 14:11:32.043+01:00</td>\n",
       "      <td>516039</td>\n",
       "      <td>1</td>\n",
       "      <td>&lt;python&gt;</td>\n",
       "    </tr>\n",
       "    <tr>\n",
       "      <th>4</th>\n",
       "      <td>2009-02-05 14:29:56.077+01:00</td>\n",
       "      <td>516121</td>\n",
       "      <td>516039</td>\n",
       "      <td>2</td>\n",
       "      <td>2009-02-05 14:11:32.043+01:00</td>\n",
       "      <td>516039</td>\n",
       "      <td>1</td>\n",
       "      <td>&lt;python&gt;</td>\n",
       "    </tr>\n",
       "  </tbody>\n",
       "</table>\n",
       "</div>"
      ],
      "text/plain": [
       "                    CreationDate      Id  ParentId  PostTypeId  \\\n",
       "0  2009-02-05 14:17:39.440+01:00  516070    516039           2   \n",
       "1  2009-02-05 14:22:01.880+01:00  516093    516039           2   \n",
       "2  2009-02-05 14:22:05.640+01:00  516094    516039           2   \n",
       "3  2009-02-05 14:28:08.310+01:00  516116    516039           2   \n",
       "4  2009-02-05 14:29:56.077+01:00  516121    516039           2   \n",
       "\n",
       "                           QDate     QId  QTypeId     QTags  \n",
       "0  2009-02-05 14:11:32.043+01:00  516039        1  <python>  \n",
       "1  2009-02-05 14:11:32.043+01:00  516039        1  <python>  \n",
       "2  2009-02-05 14:11:32.043+01:00  516039        1  <python>  \n",
       "3  2009-02-05 14:11:32.043+01:00  516039        1  <python>  \n",
       "4  2009-02-05 14:11:32.043+01:00  516039        1  <python>  "
      ]
     },
     "execution_count": 28,
     "metadata": {},
     "output_type": "execute_result"
    }
   ],
   "source": [
    "# We do small correction on the string dates to be able to transform them into datetime\n",
    "python_df['CreationDate'].replace(regex=True,inplace=True,to_replace=r'T',value=r' ')\n",
    "python_df['QDate'].replace(regex=True,inplace=True,to_replace=r'T',value=r' ')\n",
    "\n",
    "java_df['CreationDate'].replace(regex=True,inplace=True,to_replace=r'T',value=r' ')\n",
    "java_df['QDate'].replace(regex=True,inplace=True,to_replace=r'T',value=r' ')\n",
    "\n",
    "python_df.head(5)"
   ]
  },
  {
   "cell_type": "code",
   "execution_count": 29,
   "metadata": {},
   "outputs": [],
   "source": [
    "# Return the date string without the ':' in the time zone. It is the 26 position in the string\n",
    "def remove_char(strDate):\n",
    "    pos = 26;\n",
    "    first_part = strDate[:pos] \n",
    "    second_part = strDate[pos+1:]\n",
    "    return first_part + second_part"
   ]
  },
  {
   "cell_type": "code",
   "execution_count": 30,
   "metadata": {},
   "outputs": [],
   "source": [
    "# Apply remove_char in every dates\n",
    "java_df['CreationDate'] = java_df['CreationDate'].apply(lambda x : remove_char(x))\n",
    "java_df['QDate'] = java_df['QDate'].apply(lambda x : remove_char(x))\n",
    "\n",
    "python_df['CreationDate'] = python_df['CreationDate'].apply(lambda x : remove_char(x))\n",
    "python_df['QDate'] = python_df['QDate'].apply(lambda x : remove_char(x))"
   ]
  },
  {
   "cell_type": "code",
   "execution_count": 31,
   "metadata": {},
   "outputs": [
    {
     "data": {
      "text/html": [
       "<div>\n",
       "<style scoped>\n",
       "    .dataframe tbody tr th:only-of-type {\n",
       "        vertical-align: middle;\n",
       "    }\n",
       "\n",
       "    .dataframe tbody tr th {\n",
       "        vertical-align: top;\n",
       "    }\n",
       "\n",
       "    .dataframe thead th {\n",
       "        text-align: right;\n",
       "    }\n",
       "</style>\n",
       "<table border=\"1\" class=\"dataframe\">\n",
       "  <thead>\n",
       "    <tr style=\"text-align: right;\">\n",
       "      <th></th>\n",
       "      <th>CreationDate</th>\n",
       "      <th>Id</th>\n",
       "      <th>ParentId</th>\n",
       "      <th>PostTypeId</th>\n",
       "      <th>QDate</th>\n",
       "      <th>QId</th>\n",
       "      <th>QTypeId</th>\n",
       "      <th>QTags</th>\n",
       "    </tr>\n",
       "  </thead>\n",
       "  <tbody>\n",
       "    <tr>\n",
       "      <th>0</th>\n",
       "      <td>2009-02-05 14:17:39.440+0100</td>\n",
       "      <td>516070</td>\n",
       "      <td>516039</td>\n",
       "      <td>2</td>\n",
       "      <td>2009-02-05 14:11:32.043+0100</td>\n",
       "      <td>516039</td>\n",
       "      <td>1</td>\n",
       "      <td>&lt;python&gt;</td>\n",
       "    </tr>\n",
       "    <tr>\n",
       "      <th>1</th>\n",
       "      <td>2009-02-05 14:22:01.880+0100</td>\n",
       "      <td>516093</td>\n",
       "      <td>516039</td>\n",
       "      <td>2</td>\n",
       "      <td>2009-02-05 14:11:32.043+0100</td>\n",
       "      <td>516039</td>\n",
       "      <td>1</td>\n",
       "      <td>&lt;python&gt;</td>\n",
       "    </tr>\n",
       "    <tr>\n",
       "      <th>2</th>\n",
       "      <td>2009-02-05 14:22:05.640+0100</td>\n",
       "      <td>516094</td>\n",
       "      <td>516039</td>\n",
       "      <td>2</td>\n",
       "      <td>2009-02-05 14:11:32.043+0100</td>\n",
       "      <td>516039</td>\n",
       "      <td>1</td>\n",
       "      <td>&lt;python&gt;</td>\n",
       "    </tr>\n",
       "    <tr>\n",
       "      <th>3</th>\n",
       "      <td>2009-02-05 14:28:08.310+0100</td>\n",
       "      <td>516116</td>\n",
       "      <td>516039</td>\n",
       "      <td>2</td>\n",
       "      <td>2009-02-05 14:11:32.043+0100</td>\n",
       "      <td>516039</td>\n",
       "      <td>1</td>\n",
       "      <td>&lt;python&gt;</td>\n",
       "    </tr>\n",
       "    <tr>\n",
       "      <th>4</th>\n",
       "      <td>2009-02-05 14:29:56.077+0100</td>\n",
       "      <td>516121</td>\n",
       "      <td>516039</td>\n",
       "      <td>2</td>\n",
       "      <td>2009-02-05 14:11:32.043+0100</td>\n",
       "      <td>516039</td>\n",
       "      <td>1</td>\n",
       "      <td>&lt;python&gt;</td>\n",
       "    </tr>\n",
       "  </tbody>\n",
       "</table>\n",
       "</div>"
      ],
      "text/plain": [
       "                   CreationDate      Id  ParentId  PostTypeId  \\\n",
       "0  2009-02-05 14:17:39.440+0100  516070    516039           2   \n",
       "1  2009-02-05 14:22:01.880+0100  516093    516039           2   \n",
       "2  2009-02-05 14:22:05.640+0100  516094    516039           2   \n",
       "3  2009-02-05 14:28:08.310+0100  516116    516039           2   \n",
       "4  2009-02-05 14:29:56.077+0100  516121    516039           2   \n",
       "\n",
       "                          QDate     QId  QTypeId     QTags  \n",
       "0  2009-02-05 14:11:32.043+0100  516039        1  <python>  \n",
       "1  2009-02-05 14:11:32.043+0100  516039        1  <python>  \n",
       "2  2009-02-05 14:11:32.043+0100  516039        1  <python>  \n",
       "3  2009-02-05 14:11:32.043+0100  516039        1  <python>  \n",
       "4  2009-02-05 14:11:32.043+0100  516039        1  <python>  "
      ]
     },
     "execution_count": 31,
     "metadata": {},
     "output_type": "execute_result"
    }
   ],
   "source": [
    "python_df.head()"
   ]
  },
  {
   "cell_type": "code",
   "execution_count": 32,
   "metadata": {},
   "outputs": [],
   "source": [
    "# Change the string into datetime object\n",
    "timeFormat = \"%Y-%m-%d %H:%M:%S.%f%z\"\n",
    "utc_tz = pytz.timezone('UTC');\n",
    "def toTime(x) :\n",
    "    return datetime.strptime(x,timeFormat).astimezone(utc_tz)"
   ]
  },
  {
   "cell_type": "code",
   "execution_count": 33,
   "metadata": {},
   "outputs": [],
   "source": [
    "java_df['CreationDate'] = java_df['CreationDate'].apply(lambda x : toTime(x))\n",
    "java_df['QDate'] = java_df['QDate'].apply(lambda x : toTime(x))\n",
    "\n",
    "python_df['CreationDate'] = python_df['CreationDate'].apply(lambda x : toTime(x))\n",
    "python_df['QDate'] = python_df['QDate'].apply(lambda x : toTime(x))"
   ]
  },
  {
   "cell_type": "markdown",
   "metadata": {},
   "source": [
    "Now that dates are in datetime format, we can substract to the answer time the question time and then we will keep the lower one for each question."
   ]
  },
  {
   "cell_type": "code",
   "execution_count": 34,
   "metadata": {},
   "outputs": [
    {
     "data": {
      "text/html": [
       "<div>\n",
       "<style scoped>\n",
       "    .dataframe tbody tr th:only-of-type {\n",
       "        vertical-align: middle;\n",
       "    }\n",
       "\n",
       "    .dataframe tbody tr th {\n",
       "        vertical-align: top;\n",
       "    }\n",
       "\n",
       "    .dataframe thead th {\n",
       "        text-align: right;\n",
       "    }\n",
       "</style>\n",
       "<table border=\"1\" class=\"dataframe\">\n",
       "  <thead>\n",
       "    <tr style=\"text-align: right;\">\n",
       "      <th></th>\n",
       "      <th>CreationDate</th>\n",
       "      <th>Id</th>\n",
       "      <th>ParentId</th>\n",
       "      <th>PostTypeId</th>\n",
       "      <th>QDate</th>\n",
       "      <th>QId</th>\n",
       "      <th>QTypeId</th>\n",
       "      <th>QTags</th>\n",
       "      <th>PyDiff</th>\n",
       "    </tr>\n",
       "  </thead>\n",
       "  <tbody>\n",
       "    <tr>\n",
       "      <th>0</th>\n",
       "      <td>2009-02-05 13:17:39.440000+00:00</td>\n",
       "      <td>516070</td>\n",
       "      <td>516039</td>\n",
       "      <td>2</td>\n",
       "      <td>2009-02-05 13:11:32.043000+00:00</td>\n",
       "      <td>516039</td>\n",
       "      <td>1</td>\n",
       "      <td>&lt;python&gt;</td>\n",
       "      <td>00:06:07.397000</td>\n",
       "    </tr>\n",
       "    <tr>\n",
       "      <th>1</th>\n",
       "      <td>2009-02-05 13:22:01.880000+00:00</td>\n",
       "      <td>516093</td>\n",
       "      <td>516039</td>\n",
       "      <td>2</td>\n",
       "      <td>2009-02-05 13:11:32.043000+00:00</td>\n",
       "      <td>516039</td>\n",
       "      <td>1</td>\n",
       "      <td>&lt;python&gt;</td>\n",
       "      <td>00:10:29.837000</td>\n",
       "    </tr>\n",
       "    <tr>\n",
       "      <th>2</th>\n",
       "      <td>2009-02-05 13:22:05.640000+00:00</td>\n",
       "      <td>516094</td>\n",
       "      <td>516039</td>\n",
       "      <td>2</td>\n",
       "      <td>2009-02-05 13:11:32.043000+00:00</td>\n",
       "      <td>516039</td>\n",
       "      <td>1</td>\n",
       "      <td>&lt;python&gt;</td>\n",
       "      <td>00:10:33.597000</td>\n",
       "    </tr>\n",
       "    <tr>\n",
       "      <th>3</th>\n",
       "      <td>2009-02-05 13:28:08.310000+00:00</td>\n",
       "      <td>516116</td>\n",
       "      <td>516039</td>\n",
       "      <td>2</td>\n",
       "      <td>2009-02-05 13:11:32.043000+00:00</td>\n",
       "      <td>516039</td>\n",
       "      <td>1</td>\n",
       "      <td>&lt;python&gt;</td>\n",
       "      <td>00:16:36.267000</td>\n",
       "    </tr>\n",
       "    <tr>\n",
       "      <th>4</th>\n",
       "      <td>2009-02-05 13:29:56.077000+00:00</td>\n",
       "      <td>516121</td>\n",
       "      <td>516039</td>\n",
       "      <td>2</td>\n",
       "      <td>2009-02-05 13:11:32.043000+00:00</td>\n",
       "      <td>516039</td>\n",
       "      <td>1</td>\n",
       "      <td>&lt;python&gt;</td>\n",
       "      <td>00:18:24.034000</td>\n",
       "    </tr>\n",
       "  </tbody>\n",
       "</table>\n",
       "</div>"
      ],
      "text/plain": [
       "                      CreationDate      Id  ParentId  PostTypeId  \\\n",
       "0 2009-02-05 13:17:39.440000+00:00  516070    516039           2   \n",
       "1 2009-02-05 13:22:01.880000+00:00  516093    516039           2   \n",
       "2 2009-02-05 13:22:05.640000+00:00  516094    516039           2   \n",
       "3 2009-02-05 13:28:08.310000+00:00  516116    516039           2   \n",
       "4 2009-02-05 13:29:56.077000+00:00  516121    516039           2   \n",
       "\n",
       "                             QDate     QId  QTypeId     QTags          PyDiff  \n",
       "0 2009-02-05 13:11:32.043000+00:00  516039        1  <python> 00:06:07.397000  \n",
       "1 2009-02-05 13:11:32.043000+00:00  516039        1  <python> 00:10:29.837000  \n",
       "2 2009-02-05 13:11:32.043000+00:00  516039        1  <python> 00:10:33.597000  \n",
       "3 2009-02-05 13:11:32.043000+00:00  516039        1  <python> 00:16:36.267000  \n",
       "4 2009-02-05 13:11:32.043000+00:00  516039        1  <python> 00:18:24.034000  "
      ]
     },
     "execution_count": 34,
     "metadata": {},
     "output_type": "execute_result"
    }
   ],
   "source": [
    "# Substract question to answser times\n",
    "python_df['PyDiff'] = python_df['CreationDate'] - python_df['QDate']\n",
    "java_df['JavaDiff'] = java_df['CreationDate'] - java_df['QDate']\n",
    "\n",
    "python_df.head(5)"
   ]
  },
  {
   "cell_type": "code",
   "execution_count": 35,
   "metadata": {
    "scrolled": true
   },
   "outputs": [],
   "source": [
    "# Convert the time into total amount of seconds\n",
    "python_df['PyDiff'] = python_df['PyDiff'].apply(lambda x : x.total_seconds())\n",
    "java_df['JavaDiff'] = java_df['JavaDiff'].apply(lambda x : x.total_seconds())"
   ]
  },
  {
   "cell_type": "code",
   "execution_count": 36,
   "metadata": {},
   "outputs": [],
   "source": [
    "# Select the minimum time by question id\n",
    "python_df = python_df.groupby('QId')['PyDiff'].agg('min')\n",
    "java_df = java_df.groupby('QId')['JavaDiff'].agg('min')\n",
    "\n",
    "# Groupby and agg returned series, we put them in dataframes\n",
    "python_df = pd.DataFrame(python_df)\n",
    "java_df = pd.DataFrame(java_df)"
   ]
  },
  {
   "cell_type": "code",
   "execution_count": 37,
   "metadata": {},
   "outputs": [
    {
     "data": {
      "text/html": [
       "<div>\n",
       "<style scoped>\n",
       "    .dataframe tbody tr th:only-of-type {\n",
       "        vertical-align: middle;\n",
       "    }\n",
       "\n",
       "    .dataframe tbody tr th {\n",
       "        vertical-align: top;\n",
       "    }\n",
       "\n",
       "    .dataframe thead th {\n",
       "        text-align: right;\n",
       "    }\n",
       "</style>\n",
       "<table border=\"1\" class=\"dataframe\">\n",
       "  <thead>\n",
       "    <tr style=\"text-align: right;\">\n",
       "      <th></th>\n",
       "      <th>PyDiff</th>\n",
       "    </tr>\n",
       "    <tr>\n",
       "      <th>QId</th>\n",
       "      <th></th>\n",
       "    </tr>\n",
       "  </thead>\n",
       "  <tbody>\n",
       "    <tr>\n",
       "      <th>1829</th>\n",
       "      <td>931.437</td>\n",
       "    </tr>\n",
       "    <tr>\n",
       "      <th>3061</th>\n",
       "      <td>1268.193</td>\n",
       "    </tr>\n",
       "    <tr>\n",
       "      <th>10123</th>\n",
       "      <td>592.227</td>\n",
       "    </tr>\n",
       "    <tr>\n",
       "      <th>26595</th>\n",
       "      <td>653.937</td>\n",
       "    </tr>\n",
       "    <tr>\n",
       "      <th>33534</th>\n",
       "      <td>633.673</td>\n",
       "    </tr>\n",
       "  </tbody>\n",
       "</table>\n",
       "</div>"
      ],
      "text/plain": [
       "         PyDiff\n",
       "QId            \n",
       "1829    931.437\n",
       "3061   1268.193\n",
       "10123   592.227\n",
       "26595   653.937\n",
       "33534   633.673"
      ]
     },
     "execution_count": 37,
     "metadata": {},
     "output_type": "execute_result"
    }
   ],
   "source": [
    "python_df.head()"
   ]
  },
  {
   "cell_type": "code",
   "execution_count": 38,
   "metadata": {},
   "outputs": [
    {
     "data": {
      "text/html": [
       "<div>\n",
       "<style scoped>\n",
       "    .dataframe tbody tr th:only-of-type {\n",
       "        vertical-align: middle;\n",
       "    }\n",
       "\n",
       "    .dataframe tbody tr th {\n",
       "        vertical-align: top;\n",
       "    }\n",
       "\n",
       "    .dataframe thead th {\n",
       "        text-align: right;\n",
       "    }\n",
       "</style>\n",
       "<table border=\"1\" class=\"dataframe\">\n",
       "  <thead>\n",
       "    <tr style=\"text-align: right;\">\n",
       "      <th></th>\n",
       "      <th>JavaDiff</th>\n",
       "    </tr>\n",
       "    <tr>\n",
       "      <th>QId</th>\n",
       "      <th></th>\n",
       "    </tr>\n",
       "  </thead>\n",
       "  <tbody>\n",
       "    <tr>\n",
       "      <th>41894</th>\n",
       "      <td>169.557</td>\n",
       "    </tr>\n",
       "    <tr>\n",
       "      <th>69702</th>\n",
       "      <td>1433.467</td>\n",
       "    </tr>\n",
       "    <tr>\n",
       "      <th>91214</th>\n",
       "      <td>511.930</td>\n",
       "    </tr>\n",
       "    <tr>\n",
       "      <th>93177</th>\n",
       "      <td>147.107</td>\n",
       "    </tr>\n",
       "    <tr>\n",
       "      <th>95419</th>\n",
       "      <td>35.226</td>\n",
       "    </tr>\n",
       "  </tbody>\n",
       "</table>\n",
       "</div>"
      ],
      "text/plain": [
       "       JavaDiff\n",
       "QId            \n",
       "41894   169.557\n",
       "69702  1433.467\n",
       "91214   511.930\n",
       "93177   147.107\n",
       "95419    35.226"
      ]
     },
     "execution_count": 38,
     "metadata": {},
     "output_type": "execute_result"
    }
   ],
   "source": [
    "java_df.head()"
   ]
  },
  {
   "cell_type": "markdown",
   "metadata": {},
   "source": [
    "Question 2 : Plot the two distributions in an appropriate format\n",
    "\n",
    "Well, to start, we choose to plot them using boxplot. It is a strong tool that helps us to visualize how the data is distributed accross the value range and the mean.\n",
    "Another way is to plot them using basic plot where we put the x axis to the ascending order of id. It means by order of published questions and so the answers."
   ]
  },
  {
   "cell_type": "code",
   "execution_count": 39,
   "metadata": {},
   "outputs": [
    {
     "data": {
      "image/png": "[encoded data removed]",
      "text/plain": [
       "<Figure size 432x288 with 1 Axes>"
      ]
     },
     "metadata": {},
     "output_type": "display_data"
    },
    {
     "data": {
      "image/png": "[encoded data removed]",
      "text/plain": [
       "<Figure size 432x288 with 1 Axes>"
      ]
     },
     "metadata": {},
     "output_type": "display_data"
    }
   ],
   "source": [
    "Tplot = java_df.plot(y='JavaDiff')\n",
    "Tplot.grid(True)\n",
    "Tplot.set_ylabel(\"Time to answer in s\")\n",
    "Tplot.set_xlabel(\"Time over the question ascending ids\")\n",
    "\n",
    "Tplot = python_df.plot(y='PyDiff', color='red')\n",
    "Tplot.grid(True)\n",
    "Tplot.set_ylabel(\"Time to answer in s\")\n",
    "Tplot.set_xlabel(\"Time over the question ascending ids\")\n",
    "\n",
    "plt.show()"
   ]
  },
  {
   "cell_type": "markdown",
   "metadata": {},
   "source": [
    "Now if we look more at the graphs behaviors, they seem to follow the same trend. At the beginning the answsers were very long to come and the more the time goes, the more the time decrease. But to be honest, those are not efficient at all !!\n",
    "They just give an overview of global time answers. There are to be two mistakes in the java graph with two negatives values, might be Luky Lucke who answered... ;) \n",
    "\n",
    "Joke appart, we can just suppose some error in the dates because we take into account the possible difference of timezone. Also some values in both graph can reach up to 2.10^8 seconds, which corresponds to around 55 000hours. Either it is a mistake or a really big oulier. There are also some small negatives values in python which barely visible.\n",
    "\n",
    "\n",
    "One be boostrap the data in the 95%, we might be able to analyse more. We are going to remove the outliers and negatives values, convert seconds into minuts in order to have statistics with not to big numbers."
   ]
  },
  {
   "cell_type": "code",
   "execution_count": 40,
   "metadata": {},
   "outputs": [],
   "source": [
    "# Remove negatives values\n",
    "python_df = python_df[python_df['PyDiff']>0]\n",
    "java_df = java_df[java_df['JavaDiff']>0]\n",
    "\n",
    "# Converting into minuts\n",
    "python_df['Minuts'] = python_df['PyDiff']/60\n",
    "java_df['Minuts'] = java_df['JavaDiff']/60"
   ]
  },
  {
   "cell_type": "code",
   "execution_count": 41,
   "metadata": {},
   "outputs": [],
   "source": [
    "# Boostrap with 95% confidence intervals\n",
    "python_95p = np.percentile(python_df.PyDiff, 95)\n",
    "delay_python = python_df[python_df['PyDiff']<python_95p]\n",
    "\n",
    "java_95p = np.percentile(java_df.JavaDiff, 95)\n",
    "delay_java = java_df[java_df['JavaDiff']<java_95p]"
   ]
  },
  {
   "cell_type": "code",
   "execution_count": 42,
   "metadata": {
    "scrolled": true
   },
   "outputs": [
    {
     "data": {
      "text/html": [
       "<div>\n",
       "<style scoped>\n",
       "    .dataframe tbody tr th:only-of-type {\n",
       "        vertical-align: middle;\n",
       "    }\n",
       "\n",
       "    .dataframe tbody tr th {\n",
       "        vertical-align: top;\n",
       "    }\n",
       "\n",
       "    .dataframe thead th {\n",
       "        text-align: right;\n",
       "    }\n",
       "</style>\n",
       "<table border=\"1\" class=\"dataframe\">\n",
       "  <thead>\n",
       "    <tr style=\"text-align: right;\">\n",
       "      <th></th>\n",
       "      <th>PyDiff</th>\n",
       "      <th>Minuts</th>\n",
       "    </tr>\n",
       "  </thead>\n",
       "  <tbody>\n",
       "    <tr>\n",
       "      <th>count</th>\n",
       "      <td>54034.00000</td>\n",
       "      <td>54034.000000</td>\n",
       "    </tr>\n",
       "    <tr>\n",
       "      <th>mean</th>\n",
       "      <td>874.08759</td>\n",
       "      <td>14.568126</td>\n",
       "    </tr>\n",
       "    <tr>\n",
       "      <th>std</th>\n",
       "      <td>1351.83095</td>\n",
       "      <td>22.530516</td>\n",
       "    </tr>\n",
       "    <tr>\n",
       "      <th>min</th>\n",
       "      <td>0.64000</td>\n",
       "      <td>0.010667</td>\n",
       "    </tr>\n",
       "    <tr>\n",
       "      <th>25%</th>\n",
       "      <td>206.45475</td>\n",
       "      <td>3.440913</td>\n",
       "    </tr>\n",
       "    <tr>\n",
       "      <th>50%</th>\n",
       "      <td>394.30350</td>\n",
       "      <td>6.571725</td>\n",
       "    </tr>\n",
       "    <tr>\n",
       "      <th>75%</th>\n",
       "      <td>881.59200</td>\n",
       "      <td>14.693200</td>\n",
       "    </tr>\n",
       "    <tr>\n",
       "      <th>max</th>\n",
       "      <td>10331.77300</td>\n",
       "      <td>172.196217</td>\n",
       "    </tr>\n",
       "  </tbody>\n",
       "</table>\n",
       "</div>"
      ],
      "text/plain": [
       "            PyDiff        Minuts\n",
       "count  54034.00000  54034.000000\n",
       "mean     874.08759     14.568126\n",
       "std     1351.83095     22.530516\n",
       "min        0.64000      0.010667\n",
       "25%      206.45475      3.440913\n",
       "50%      394.30350      6.571725\n",
       "75%      881.59200     14.693200\n",
       "max    10331.77300    172.196217"
      ]
     },
     "execution_count": 42,
     "metadata": {},
     "output_type": "execute_result"
    }
   ],
   "source": [
    "delay_python.describe()"
   ]
  },
  {
   "cell_type": "code",
   "execution_count": 43,
   "metadata": {},
   "outputs": [
    {
     "data": {
      "text/html": [
       "<div>\n",
       "<style scoped>\n",
       "    .dataframe tbody tr th:only-of-type {\n",
       "        vertical-align: middle;\n",
       "    }\n",
       "\n",
       "    .dataframe tbody tr th {\n",
       "        vertical-align: top;\n",
       "    }\n",
       "\n",
       "    .dataframe thead th {\n",
       "        text-align: right;\n",
       "    }\n",
       "</style>\n",
       "<table border=\"1\" class=\"dataframe\">\n",
       "  <thead>\n",
       "    <tr style=\"text-align: right;\">\n",
       "      <th></th>\n",
       "      <th>JavaDiff</th>\n",
       "      <th>Minuts</th>\n",
       "    </tr>\n",
       "  </thead>\n",
       "  <tbody>\n",
       "    <tr>\n",
       "      <th>count</th>\n",
       "      <td>61667.000000</td>\n",
       "      <td>61667.000000</td>\n",
       "    </tr>\n",
       "    <tr>\n",
       "      <th>mean</th>\n",
       "      <td>757.984047</td>\n",
       "      <td>12.633067</td>\n",
       "    </tr>\n",
       "    <tr>\n",
       "      <th>std</th>\n",
       "      <td>1107.218706</td>\n",
       "      <td>18.453645</td>\n",
       "    </tr>\n",
       "    <tr>\n",
       "      <th>min</th>\n",
       "      <td>12.720000</td>\n",
       "      <td>0.212000</td>\n",
       "    </tr>\n",
       "    <tr>\n",
       "      <th>25%</th>\n",
       "      <td>191.470000</td>\n",
       "      <td>3.191167</td>\n",
       "    </tr>\n",
       "    <tr>\n",
       "      <th>50%</th>\n",
       "      <td>359.993000</td>\n",
       "      <td>5.999883</td>\n",
       "    </tr>\n",
       "    <tr>\n",
       "      <th>75%</th>\n",
       "      <td>782.558000</td>\n",
       "      <td>13.042633</td>\n",
       "    </tr>\n",
       "    <tr>\n",
       "      <th>max</th>\n",
       "      <td>8053.700000</td>\n",
       "      <td>134.228333</td>\n",
       "    </tr>\n",
       "  </tbody>\n",
       "</table>\n",
       "</div>"
      ],
      "text/plain": [
       "           JavaDiff        Minuts\n",
       "count  61667.000000  61667.000000\n",
       "mean     757.984047     12.633067\n",
       "std     1107.218706     18.453645\n",
       "min       12.720000      0.212000\n",
       "25%      191.470000      3.191167\n",
       "50%      359.993000      5.999883\n",
       "75%      782.558000     13.042633\n",
       "max     8053.700000    134.228333"
      ]
     },
     "execution_count": 43,
     "metadata": {},
     "output_type": "execute_result"
    }
   ],
   "source": [
    "delay_java.describe()"
   ]
  },
  {
   "cell_type": "markdown",
   "metadata": {},
   "source": [
    "First of all, what we can see is that their are much more java question compare to python (54 034 against 61 667). Their mean are quite the same, 12.6 minutes for java and 14.5 for python (same for variance). If we look closer to the quartile, both have almost the same kind of distribution. \n",
    "Maybe looking at new kinds of plot this time can be more relevant of the data."
   ]
  },
  {
   "cell_type": "markdown",
   "metadata": {},
   "source": [
    "The goal to Bootstrap is to estimate the mean, standard deviation and the mean of the response time for each dataset. We are going to boostrap 500 times on 70% of the dataset. Of course the boostrap is done with replacement in order to be completely random (and because it is how boostrapping is normally done)."
   ]
  },
  {
   "cell_type": "code",
   "execution_count": 44,
   "metadata": {},
   "outputs": [],
   "source": [
    "def boostrapping500(dataframe, fraction):\n",
    "    mean=[]\n",
    "    std=[]\n",
    "    median=[]\n",
    "    \n",
    "    for i in range (500) :\n",
    "        sample = dataframe.sample(frac=fraction,replace=True)\n",
    "        # Add mean\n",
    "        mean_sample = sample.Minuts.mean()\n",
    "        mean.append(mean_sample)\n",
    "        # Add std\n",
    "        std_sample = sample.Minuts.std()\n",
    "        std.append(std_sample)\n",
    "        # Add median\n",
    "        median_sample=sample.Minuts.median()\n",
    "        median.append(median_sample)\n",
    "\n",
    "    # Return LISTS\n",
    "    return mean, std, median"
   ]
  },
  {
   "cell_type": "markdown",
   "metadata": {},
   "source": [
    "Boostrap for python delta questions-answers times"
   ]
  },
  {
   "cell_type": "code",
   "execution_count": 45,
   "metadata": {},
   "outputs": [
    {
     "name": "stdout",
     "output_type": "stream",
     "text": [
      "Mean = 14.58 minuts, Median = 23 minuts and standard deviation = 6.58 minuts\n"
     ]
    }
   ],
   "source": [
    "#compute bootstrapping for python dataset\n",
    "mean_python, std_python, median_python = boostrapping500(delay_python, 0.7)\n",
    "t = np.asarray(mean_python)\n",
    "#print(t)\n",
    "#compute the mean of every statistics after bootstraping\n",
    "mean_python_boostrap = np.mean(np.asarray(mean_python))\n",
    "std_python_boostrap = np.mean(np.asarray(std_python))\n",
    "median_python_boostrap = np.mean(np.asarray(median_python))\n",
    "\n",
    "print(\"Mean = {0:.2f} minuts, Median = {1:.0f} minuts and standard deviation = {2:.2f} minuts\".format(mean_python_boostrap, std_python_boostrap, median_python_boostrap)); "
   ]
  },
  {
   "cell_type": "markdown",
   "metadata": {},
   "source": [
    "Boostrap for java delta questions-answers times"
   ]
  },
  {
   "cell_type": "code",
   "execution_count": 46,
   "metadata": {},
   "outputs": [
    {
     "name": "stdout",
     "output_type": "stream",
     "text": [
      "Mean = 12.64 minuts, Median = 18 minuts and standard deviation = 6.00 minuts\n"
     ]
    }
   ],
   "source": [
    "#compute bootstrapping for python dataset\n",
    "mean_java, std_java, median_java = boostrapping500(delay_java, 0.7)\n",
    "\n",
    "#compute the mean of every statistics after bootstraping\n",
    "mean_java_boostrap = np.mean(np.asarray(mean_java))\n",
    "std_java_boostrap = np.mean(np.asarray(std_java))\n",
    "median_java_boostrap = np.mean(np.asarray(median_java))\n",
    "print(\"Mean = {0:.2f} minuts, Median = {1:.0f} minuts and standard deviation = {2:.2f} minuts\".format(mean_java_boostrap, std_java_boostrap, median_java_boostrap));"
   ]
  },
  {
   "cell_type": "code",
   "execution_count": 47,
   "metadata": {},
   "outputs": [
    {
     "data": {
      "text/plain": [
       "<matplotlib.legend.Legend at 0x1114607f0>"
      ]
     },
     "execution_count": 47,
     "metadata": {},
     "output_type": "execute_result"
    },
    {
     "data": {
      "image/png": "[encoded data removed]",
      "text/plain": [
       "<Figure size 1800x1440 with 3 Axes>"
      ]
     },
     "metadata": {},
     "output_type": "display_data"
    }
   ],
   "source": [
    "#ploting histograms of three statistics values to compare\n",
    "plt.figure(figsize=(25,20))\n",
    "\n",
    "plt.subplot(221)\n",
    "plt.hist(mean_python,label=\"python\",color='red')\n",
    "plt.hist(mean_java,label=\"java\",color='blue')\n",
    "plt.title('Means comparison')\n",
    "plt.legend()\n",
    "\n",
    "plt.subplot(222)\n",
    "plt.hist(std_python,label=\"python\",color='red')\n",
    "plt.hist(std_java,label=\"java\",color='blue')\n",
    "plt.title('Std comparison')\n",
    "plt.legend()\n",
    "\n",
    "plt.subplot(223)\n",
    "plt.hist(median_python,label=\"python\",color='red')\n",
    "plt.hist(median_java,label=\"java\",color='blue')\n",
    "plt.title('Median comparison')\n",
    "plt.legend()"
   ]
  },
  {
   "cell_type": "markdown",
   "metadata": {},
   "source": [
    "The three distribution help to clearly state that Java has the lower response times compare to python.  \n",
    "Now we are going to have a look closer to the data using boxplots and see if it is more effcient to visualize the data"
   ]
  },
  {
   "cell_type": "code",
   "execution_count": 48,
   "metadata": {},
   "outputs": [
    {
     "data": {
      "text/plain": [
       "{'whiskers': [<matplotlib.lines.Line2D at 0x10f396828>,\n",
       "  <matplotlib.lines.Line2D at 0x10f396390>],\n",
       " 'caps': [<matplotlib.lines.Line2D at 0x10f3b20f0>,\n",
       "  <matplotlib.lines.Line2D at 0x10f3b2518>],\n",
       " 'boxes': [<matplotlib.lines.Line2D at 0x10f396978>],\n",
       " 'medians': [<matplotlib.lines.Line2D at 0x10f3b2940>],\n",
       " 'fliers': [<matplotlib.lines.Line2D at 0x10f3b2d68>],\n",
       " 'means': []}"
      ]
     },
     "execution_count": 48,
     "metadata": {},
     "output_type": "execute_result"
    },
    {
     "data": {
      "image/png": "[encoded data removed]",
      "text/plain": [
       "<Figure size 432x288 with 1 Axes>"
      ]
     },
     "metadata": {},
     "output_type": "display_data"
    },
    {
     "data": {
      "image/png": "[encoded data removed]",
      "text/plain": [
       "<Figure size 432x288 with 1 Axes>"
      ]
     },
     "metadata": {},
     "output_type": "display_data"
    }
   ],
   "source": [
    "# Box plot for java minuts\n",
    "fig1, ax1 = plt.subplots()\n",
    "ax1.set_title('Java')\n",
    "ax1.set_ylabel('Minuts')\n",
    "ax1.boxplot(delay_java['Minuts'])\n",
    "\n",
    "# Box plot for python minuts\n",
    "fig2, ax2 = plt.subplots()\n",
    "ax2.set_title('Python')\n",
    "ax2.set_ylabel('Minuts')\n",
    "ax2.boxplot(delay_python['Minuts'])"
   ]
  },
  {
   "cell_type": "markdown",
   "metadata": {},
   "source": [
    "As we can see, it is a completly mess, we cannot see anything. The fact is that with boxplot each dot represent and outlier, so maybe a boxplot wihtout them can be better.\n",
    "But what are all those outlier and why ? Maybe a first assumptions is due to all very specific questions that did not have quick answers."
   ]
  },
  {
   "cell_type": "code",
   "execution_count": 49,
   "metadata": {},
   "outputs": [
    {
     "data": {
      "text/plain": [
       "{'whiskers': [<matplotlib.lines.Line2D at 0x10e1400b8>,\n",
       "  <matplotlib.lines.Line2D at 0x10e73c438>],\n",
       " 'caps': [<matplotlib.lines.Line2D at 0x10e73c860>,\n",
       "  <matplotlib.lines.Line2D at 0x10e73cc88>],\n",
       " 'boxes': [<matplotlib.lines.Line2D at 0x10e140208>],\n",
       " 'medians': [<matplotlib.lines.Line2D at 0x10e1280f0>],\n",
       " 'fliers': [],\n",
       " 'means': []}"
      ]
     },
     "execution_count": 49,
     "metadata": {},
     "output_type": "execute_result"
    },
    {
     "data": {
      "image/png": "[encoded data removed]",
      "text/plain": [
       "<Figure size 432x288 with 1 Axes>"
      ]
     },
     "metadata": {},
     "output_type": "display_data"
    },
    {
     "data": {
      "image/png": "[encoded data removed]",
      "text/plain": [
       "<Figure size 432x288 with 1 Axes>"
      ]
     },
     "metadata": {},
     "output_type": "display_data"
    }
   ],
   "source": [
    "fig1, ax1 = plt.subplots()\n",
    "ax1.set_title('Java')\n",
    "ax1.set_ylabel('Minuts')\n",
    "ax1.boxplot(delay_java['Minuts'], showfliers=False)\n",
    "\n",
    "fig2, ax2 = plt.subplots()\n",
    "ax2.set_title('Python')\n",
    "ax1.set_ylabel('Minuts')\n",
    "ax2.boxplot(delay_python['Minuts'], showfliers=False)"
   ]
  },
  {
   "cell_type": "markdown",
   "metadata": {},
   "source": [
    "They both have a really close distribution which cannot really allow to contradict or comfirm your assumption. The boostrap method was more efficient."
   ]
  },
  {
   "cell_type": "markdown",
   "metadata": {},
   "source": [
    "<br>\n",
    "\n",
    "**4)** Repeat the first analysis (D1) by using the proper statistic to measure the response time for the tags that appear at least 5000 times. Plot the distribution of the 10 tags with the fastest response time.\n",
    "We though about repeating the same process as we just have done for python and java. So code is bellow but it is the worst technique. After 4 hours of running, the process was still not finished.\n",
    "We did not find a proper way to solve this"
   ]
  },
  {
   "cell_type": "markdown",
   "metadata": {},
   "source": [
    "Let's start by getting every first answer for each questions. This will then allow us to compare the creation date of the question, to the date of the first answer:"
   ]
  },
  {
   "cell_type": "code",
   "execution_count": 206,
   "metadata": {},
   "outputs": [],
   "source": [
    "# Creation of the template to be able to use SQL\n",
    "df.registerTempTable('df')"
   ]
  },
  {
   "cell_type": "code",
   "execution_count": 207,
   "metadata": {},
   "outputs": [],
   "source": [
    "# DataFrame with all first answer for each questions\n",
    "first_answer = \"\"\"\n",
    "select MIN(CreationDate) as First_answer, ParentId \n",
    "from (select CreationDate, ParentId from df\n",
    "      where PostTypeId = 2 and CreationDate is not null)\n",
    "group by ParentId\n",
    "\"\"\"\n",
    "first_answer_data = spark.sql(first_answer)\n",
    "first_answer_data.registerTempTable('first_answer')"
   ]
  },
  {
   "cell_type": "code",
   "execution_count": 208,
   "metadata": {},
   "outputs": [],
   "source": [
    "# Take each question with its first answer\n",
    "question_query = \"\"\"\n",
    "select * \n",
    "from df\n",
    "where PostTypeId = 1 and CreationDate is not null\n",
    "\"\"\"\n",
    "\n",
    "question_data = spark.sql(question_query)\n",
    "question_data.registerTempTable('question')"
   ]
  },
  {
   "cell_type": "code",
   "execution_count": 94,
   "metadata": {},
   "outputs": [
    {
     "data": {
      "text/plain": [
       "[Row(CreationDate='2017-08-17T16:20:28.873+02:00', Id=45740348, ParentId=None, PostTypeId=1, Score=2, Tags='<flash><react-native>', Title='Is it possible to embed Adobe flash into a react-native app?', ViewCount=143)]"
      ]
     },
     "execution_count": 94,
     "metadata": {},
     "output_type": "execute_result"
    }
   ],
   "source": [
    "question_data.head(1)"
   ]
  },
  {
   "cell_type": "markdown",
   "metadata": {},
   "source": [
    "Now we can get all thhe dates information:"
   ]
  },
  {
   "cell_type": "code",
   "execution_count": 209,
   "metadata": {},
   "outputs": [
    {
     "data": {
      "text/plain": [
       "[Row(CreationDate='2008-08-05T13:07:40.563+02:00', Tags='<c#><dataset><datatable>', First_answer='2008-08-05T13:10:26.487+02:00')]"
      ]
     },
     "execution_count": 209,
     "metadata": {},
     "output_type": "execute_result"
    }
   ],
   "source": [
    "Tags_response_time = \"\"\"\n",
    "select CreationDate, Tags, First_answer\n",
    "from question\n",
    "inner join answer_min on question.Id = first_answer.ParentId\n",
    "\"\"\"\n",
    "Tags_time_data = spark.sql(Tags_response_time)\n",
    "Tags_time_data.head(1)"
   ]
  },
  {
   "cell_type": "code",
   "execution_count": 210,
   "metadata": {},
   "outputs": [],
   "source": [
    "Tags_response_time = \"\"\"\n",
    "select DATE_FORMAT(CreationDate, 'yyyy-mm-dd HH:mm:ss.000'), Tags, DATE_FORMAT(First_answer, 'yyyy-mm-dd HH:mm:ss.000')\n",
    "from question\n",
    "inner join answer_min on question.Id = answer_min.ParentId\n",
    "\"\"\"\n",
    "Tags_time_data = spark.sql(Tags_response_time)"
   ]
  },
  {
   "cell_type": "code",
   "execution_count": 173,
   "metadata": {},
   "outputs": [
    {
     "data": {
      "text/plain": [
       "[Row(date_format(CAST(CreationDate AS TIMESTAMP), yyyy-mm-dd HH:mm:ss.000)='2008-07-05 13:07:40.000', Tags='<c#><dataset><datatable>', date_format(CAST(First_answer AS TIMESTAMP), yyyy-mm-dd HH:mm:ss.000)='2008-10-05 13:10:26.000')]"
      ]
     },
     "execution_count": 173,
     "metadata": {},
     "output_type": "execute_result"
    }
   ],
   "source": [
    "Tags_time_data.head(1)"
   ]
  },
  {
   "cell_type": "markdown",
   "metadata": {},
   "source": [
    "We can now compare the dates we have collected and get the difference in seconds.\n",
    "\n",
    "Below is a simple example of time comparison:"
   ]
  },
  {
   "cell_type": "code",
   "execution_count": 213,
   "metadata": {},
   "outputs": [
    {
     "data": {
      "text/plain": [
       "2.0"
      ]
     },
     "execution_count": 213,
     "metadata": {},
     "output_type": "execute_result"
    }
   ],
   "source": [
    "import datetime as dt\n",
    "_format = 'yyyy-mm-dd HH:mm:ss.000'\n",
    "\n",
    "a = dt.datetime.strptime('2008-07-05 13:07:40.000', '%Y-%m-%d %H:%M:%S.%f')\n",
    "b = dt.datetime.strptime('2008-07-05 13:07:42.000', '%Y-%m-%d %H:%M:%S.%f')\n",
    "\n",
    "(b-a).total_seconds()"
   ]
  },
  {
   "cell_type": "markdown",
   "metadata": {},
   "source": [
    "Let's put the time difference inside a column \"Time_diff\""
   ]
  },
  {
   "cell_type": "code",
   "execution_count": null,
   "metadata": {},
   "outputs": [],
   "source": [
    "import datetime as dt\n",
    "_format = '%Y-%m-%d %H:%M:%S.%f'\n",
    "\n",
    "Tags_time_data = pd.DataFrame(Tags_time_data, columns = [\"First_answer\", \"Tags\", \"CreationDate\"])\n",
    "\n",
    "Tags_time_data = Tags_time_data.withColumn(\"Time_diff\",\\\n",
    "                    (dt.datetime.strptime(Tags_time_data.First_answer, _format) -\\\n",
    "                     dt.datetime.strptime(Tags_time_data.CreationDate, _format)).total_seconds())\n",
    "\n",
    "Tags_time_data.registerTempTable('Tags_time_data')"
   ]
  },
  {
   "cell_type": "code",
   "execution_count": 154,
   "metadata": {
    "scrolled": true
   },
   "outputs": [
    {
     "data": {
      "text/plain": [
       "[Row(CreationDate='2008-08-05T13:07:40.563+02:00', Tags='<c#><dataset><datatable>', First_answer='2008-08-05T13:10:26.487+02:00', Time_diff=None)]"
      ]
     },
     "execution_count": 154,
     "metadata": {},
     "output_type": "execute_result"
    }
   ],
   "source": [
    "Tags_time_data.head(1)"
   ]
  },
  {
   "cell_type": "code",
   "execution_count": 97,
   "metadata": {},
   "outputs": [],
   "source": [
    "Tags_time_data_filter = \"\"\"\n",
    "select * from Tags_time_data\n",
    "where Time_diff > 0\n",
    "\"\"\"\n",
    "Tags_time_data = spark.sql(Tags_time_data_filter)\n",
    "\n",
    "Tags_time = Tags_time_data.rdd.flatMap(lambda r: [(x,r.Time_diff) for x in (r.Tags[1:-1].split('><'))]).groupByKey()\\\n",
    "                    .map(lambda x : (x[0], list(x[1]))).collect()"
   ]
  },
  {
   "cell_type": "markdown",
   "metadata": {},
   "source": [
    "We will now wright a function to compute the median of the time reponse for only the tags that appear at least 5'000 times:"
   ]
  },
  {
   "cell_type": "code",
   "execution_count": 200,
   "metadata": {},
   "outputs": [],
   "source": [
    "def Clear_Tags_time(Tags_time):\n",
    "    Result = []\n",
    "    for Tag, time_list in Tags_time:\n",
    "        if len(time_list) >= 5000:\n",
    "            median_value = np.median(time_list)\n",
    "            Result.append((Tag, time_list, median_value))\n",
    "    return Result"
   ]
  },
  {
   "cell_type": "code",
   "execution_count": 201,
   "metadata": {},
   "outputs": [],
   "source": [
    "# Compute the median and take the 10 first with the smaller median of the time difference between the question and its first answer\n",
    "Result_Tag = Clear_Tags_time(Tags_time)\n",
    "Result_Tag_data = pd.DataFrame(Result_Tag, columns = [\"Tags\", \"Time_diff_list\", \"Median\"])\n",
    "Result_Tag_data.set_index(\"Tags\", inplace = True)\n",
    "Result_Tag_data.drop([\"Time_diff_list\"], axis =1, inplace = True)\n",
    "Result_Tag_data.sort_values(\"Median\", ascending = True, inplace = True)\n",
    "Result_Tag_data_top_10 = Result_Tag_data.head(10)"
   ]
  },
  {
   "cell_type": "markdown",
   "metadata": {},
   "source": [
    "Finally, we can plot our results:"
   ]
  },
  {
   "cell_type": "code",
   "execution_count": 218,
   "metadata": {
    "scrolled": true
   },
   "outputs": [
    {
     "data": {
      "image/png": "[encoded data removed]",
      "text/plain": [
       "<Figure size 576x432 with 1 Axes>"
      ]
     },
     "metadata": {},
     "output_type": "display_data"
    }
   ],
   "source": [
    "y = Result_Tag_data['Median'].values[:10]\n",
    "x = Result_Tag_data.index.values[:10]\n",
    "\n",
    "fig, ax = plt.subplots(figsize=(8, 6))\n",
    "index = range(len(y))\n",
    "bar_width = 0.7\n",
    "\n",
    "ax.barh(index, y, bar_width)\n",
    "\n",
    "ax.set_ylabel('Tag')\n",
    "ax.set_title('Top 10 of Tag that appear at least 5000 times with the fastest answer')\n",
    "ax.set_yticks(index)\n",
    "ax.set_yticklabels(x)\n",
    "ax.set_ylim(-1, len(x))\n",
    "fig.tight_layout()\n",
    "plt.show()\n"
   ]
  },
  {
   "cell_type": "markdown",
   "metadata": {},
   "source": [
    "---\n",
    "\n",
    "<br>\n",
    "\n",
    "### Task E: What's up with PySpark?\n",
    "The number of questions asked regarding a specific topic reflect the public’s interest on it. We are interested on the popularity of PySpark. Compute and plot the number of questions with the ```pyspark``` tag for 30-day time intervals. Do you notice any trend over time? Is there any correlation between time and number of questions?\n",
    "\n",
    "<br>"
   ]
  },
  {
   "cell_type": "markdown",
   "metadata": {},
   "source": [
    "#### **1) PySpark popularity over the years :**"
   ]
  },
  {
   "cell_type": "markdown",
   "metadata": {},
   "source": [
    "Let's start by getting all the questions with tag `pyspark` and selecting their `CreationDate`:"
   ]
  },
  {
   "cell_type": "code",
   "execution_count": 180,
   "metadata": {},
   "outputs": [
    {
     "name": "stdout",
     "output_type": "stream",
     "text": [
      "+--------------------+\n",
      "|        CreationDate|\n",
      "+--------------------+\n",
      "|2017-08-17T16:40:...|\n",
      "|2017-08-17T20:36:...|\n",
      "|2016-08-03T08:10:...|\n",
      "|2016-08-03T08:22:...|\n",
      "|2016-08-03T12:06:...|\n",
      "|2016-08-03T12:19:...|\n",
      "|2016-08-03T16:34:...|\n",
      "|2016-08-03T18:48:...|\n",
      "|2016-08-03T18:52:...|\n",
      "|2016-08-03T20:00:...|\n",
      "+--------------------+\n",
      "only showing top 10 rows\n",
      "\n"
     ]
    }
   ],
   "source": [
    "pyspark_question = \"\"\"\n",
    "select CreationDate from df\n",
    "where Tags like '%<pyspark>%' and CreationDate is not null and PostTypeId = 1\n",
    "\"\"\"\n",
    "pyspark_question = spark.sql(pyspark_question)\n",
    "pyspark_question.registerTempTable('pyspark_question')\n",
    "pyspark_question = pyspark_question.withColumnRenamed('date_format(CAST(CreationDate AS TIMESTAMP), hh:mm-dd/MM/yyy)', 'Time')\n",
    "\n",
    "pyspark_question.show(10)"
   ]
  },
  {
   "cell_type": "markdown",
   "metadata": {},
   "source": [
    "Now that we managed to get all the questions, and their dates, we can regroup them. \n",
    "\n",
    "We will regroup them according to their month to easily get 30-day time intervals, and count the number of questions that were asked during this month:"
   ]
  },
  {
   "cell_type": "code",
   "execution_count": 181,
   "metadata": {},
   "outputs": [
    {
     "name": "stdout",
     "output_type": "stream",
     "text": [
      "+-------+-----+\n",
      "|   Date|Count|\n",
      "+-------+-----+\n",
      "|2017-09|  367|\n",
      "|2017-10|  366|\n",
      "|2016-02|  178|\n",
      "|2018-06|  371|\n",
      "|2017-05|  263|\n",
      "|2017-11|  311|\n",
      "|2015-05|   50|\n",
      "|2018-03|  472|\n",
      "|2015-12|  129|\n",
      "|2018-02|  363|\n",
      "+-------+-----+\n",
      "only showing top 10 rows\n",
      "\n"
     ]
    }
   ],
   "source": [
    "query_pyspark_group_by = \"\"\"\n",
    "SELECT DATE_FORMAT(CreationDate, \"Y-MM\"), COUNT(DATE_FORMAT(CreationDate, \"Y-MM\"))\n",
    "FROM pyspark_question\n",
    "GROUP BY DATE_FORMAT(CreationDate, \"Y-MM\")\n",
    "\"\"\"\n",
    "pyspark_group_by_data = spark.sql(query_pyspark_group_by)\n",
    "pyspark_group_by_data.registerTempTable('pyspark_group_by')\n",
    "pyspark_group_by_data = pyspark_group_by_data.withColumnRenamed('date_format(CAST(CreationDate AS TIMESTAMP), Y-MM)', 'Date')\n",
    "pyspark_group_by_data = pyspark_group_by_data.withColumnRenamed('count(date_format(CAST(CreationDate AS TIMESTAMP), Y-MM))', 'Count')\n",
    "\n",
    "pyspark_group_by_data.show(10)"
   ]
  },
  {
   "cell_type": "markdown",
   "metadata": {},
   "source": [
    "We can then put the selected data in a pandas dataframe:"
   ]
  },
  {
   "cell_type": "code",
   "execution_count": 182,
   "metadata": {
    "scrolled": true
   },
   "outputs": [
    {
     "data": {
      "text/html": [
       "<div>\n",
       "<style scoped>\n",
       "    .dataframe tbody tr th:only-of-type {\n",
       "        vertical-align: middle;\n",
       "    }\n",
       "\n",
       "    .dataframe tbody tr th {\n",
       "        vertical-align: top;\n",
       "    }\n",
       "\n",
       "    .dataframe thead th {\n",
       "        text-align: right;\n",
       "    }\n",
       "</style>\n",
       "<table border=\"1\" class=\"dataframe\">\n",
       "  <thead>\n",
       "    <tr style=\"text-align: right;\">\n",
       "      <th></th>\n",
       "      <th>Date</th>\n",
       "      <th>Count</th>\n",
       "    </tr>\n",
       "  </thead>\n",
       "  <tbody>\n",
       "    <tr>\n",
       "      <th>0</th>\n",
       "      <td>2017-09</td>\n",
       "      <td>367</td>\n",
       "    </tr>\n",
       "    <tr>\n",
       "      <th>1</th>\n",
       "      <td>2017-10</td>\n",
       "      <td>366</td>\n",
       "    </tr>\n",
       "    <tr>\n",
       "      <th>2</th>\n",
       "      <td>2016-02</td>\n",
       "      <td>178</td>\n",
       "    </tr>\n",
       "    <tr>\n",
       "      <th>3</th>\n",
       "      <td>2018-06</td>\n",
       "      <td>371</td>\n",
       "    </tr>\n",
       "    <tr>\n",
       "      <th>4</th>\n",
       "      <td>2017-05</td>\n",
       "      <td>263</td>\n",
       "    </tr>\n",
       "  </tbody>\n",
       "</table>\n",
       "</div>"
      ],
      "text/plain": [
       "      Date  Count\n",
       "0  2017-09    367\n",
       "1  2017-10    366\n",
       "2  2016-02    178\n",
       "3  2018-06    371\n",
       "4  2017-05    263"
      ]
     },
     "execution_count": 182,
     "metadata": {},
     "output_type": "execute_result"
    }
   ],
   "source": [
    "df_pyspark = pyspark_group_by_data.toPandas()\n",
    "df_pyspark.head()"
   ]
  },
  {
   "cell_type": "markdown",
   "metadata": {},
   "source": [
    "<br>\n",
    "\n",
    "A first look at our data shows us that we have some missing values: `2014-05`, `2014-06`, `2014-07`, `2014-09`. These dates are the ones that just followed the first pyspark release. It is therefore easy to imagine that no questions have yet been asked. We will therefore add these dates with 0 questions asked each time.\n",
    "\n",
    "In order to make our data more logical and understandable, we will also sort them by ascending date."
   ]
  },
  {
   "cell_type": "code",
   "execution_count": 183,
   "metadata": {
    "scrolled": true
   },
   "outputs": [
    {
     "data": {
      "text/html": [
       "<div>\n",
       "<style scoped>\n",
       "    .dataframe tbody tr th:only-of-type {\n",
       "        vertical-align: middle;\n",
       "    }\n",
       "\n",
       "    .dataframe tbody tr th {\n",
       "        vertical-align: top;\n",
       "    }\n",
       "\n",
       "    .dataframe thead th {\n",
       "        text-align: right;\n",
       "    }\n",
       "</style>\n",
       "<table border=\"1\" class=\"dataframe\">\n",
       "  <thead>\n",
       "    <tr style=\"text-align: right;\">\n",
       "      <th></th>\n",
       "      <th>Date</th>\n",
       "      <th>Count</th>\n",
       "    </tr>\n",
       "  </thead>\n",
       "  <tbody>\n",
       "    <tr>\n",
       "      <th>38</th>\n",
       "      <td>2014-04</td>\n",
       "      <td>1</td>\n",
       "    </tr>\n",
       "    <tr>\n",
       "      <th>0</th>\n",
       "      <td>2014-05</td>\n",
       "      <td>0</td>\n",
       "    </tr>\n",
       "    <tr>\n",
       "      <th>1</th>\n",
       "      <td>2014-06</td>\n",
       "      <td>0</td>\n",
       "    </tr>\n",
       "    <tr>\n",
       "      <th>2</th>\n",
       "      <td>2014-07</td>\n",
       "      <td>0</td>\n",
       "    </tr>\n",
       "    <tr>\n",
       "      <th>24</th>\n",
       "      <td>2014-08</td>\n",
       "      <td>1</td>\n",
       "    </tr>\n",
       "  </tbody>\n",
       "</table>\n",
       "</div>"
      ],
      "text/plain": [
       "       Date  Count\n",
       "38  2014-04      1\n",
       "0   2014-05      0\n",
       "1   2014-06      0\n",
       "2   2014-07      0\n",
       "24  2014-08      1"
      ]
     },
     "execution_count": 183,
     "metadata": {},
     "output_type": "execute_result"
    }
   ],
   "source": [
    "d = {'Date': ['2014-05', '2014-06', '2014-07', '2014-09'], 'Count': [0, 0, 0, 0]} # Missing values\n",
    "df = pd.DataFrame(data=d)\n",
    "df_pyspark = pd.concat([df_pyspark,df]).sort_values('Date',ascending=True)\n",
    "df_pyspark.head()"
   ]
  },
  {
   "cell_type": "markdown",
   "metadata": {},
   "source": [
    "<br>\n",
    "\n",
    "When we look at our data more closely, we realize that **we have some outliers at the end of our dataset, for dates `2018-09` and `2018-12`**, we will remove them."
   ]
  },
  {
   "cell_type": "code",
   "execution_count": 184,
   "metadata": {
    "scrolled": false
   },
   "outputs": [
    {
     "data": {
      "image/png": "[encoded data removed]",
      "text/plain": [
       "<Figure size 1008x576 with 1 Axes>"
      ]
     },
     "metadata": {},
     "output_type": "display_data"
    }
   ],
   "source": [
    "y, x = df_pyspark.Count.iloc[0:-2], df_pyspark.Date.iloc[0:] # Removing 2 outliers at the end\n",
    "\n",
    "fig, ax = plt.subplots(figsize=(14, 8))\n",
    "index = range(len(y))\n",
    "bar_width = 0.8\n",
    "\n",
    "ax.bar(index, y, bar_width, color='#3498db')\n",
    "\n",
    "ax.set_xlabel('\\nMonth', fontsize=13)\n",
    "ax.set_ylabel('Number of questions asked', fontsize=13)\n",
    "ax.set_title('\\nNumber of questions with the pyspark tag per month\\n', fontsize=16)\n",
    "ax.set_xticks(index)\n",
    "plt.xticks(rotation=90)\n",
    "ax.set_xticklabels(x)\n",
    "ax.set_xlim(-1, len(x)-2)\n",
    "fig.tight_layout()\n",
    "ax.grid(axis='y', alpha=0.8,color='#3498db', linestyle='--')\n",
    "\n",
    "plt.annotate('Initial release\\n  of PySpark',\n",
    "             xy=(1, 1),\n",
    "             xytext=(2, 130), fontsize=16,\n",
    "             arrowprops=dict(arrowstyle=\"->\", connectionstyle=\"arc3,rad=.2\"))\n",
    "plt.show()"
   ]
  },
  {
   "cell_type": "markdown",
   "metadata": {},
   "source": [
    "<br>\n",
    "\n",
    "#### **1) Correlation between PySpark questions and time :**\n",
    "\n",
    "<br>\n",
    "\n",
    "As we saw on the previous graph, the augmentation of question is strongly correlated with the time, in a linear way.\n",
    "\n",
    "<br>\n",
    "\n",
    "**Let's now look at different time scales to see if we can find information on the use of pysparks over time.**"
   ]
  },
  {
   "cell_type": "code",
   "execution_count": 185,
   "metadata": {
    "scrolled": true
   },
   "outputs": [],
   "source": [
    "df_pyspark = pyspark_question.toPandas()\n",
    "df_pyspark['CreationDate'] = pd.to_datetime(df_pyspark['CreationDate'])"
   ]
  },
  {
   "cell_type": "markdown",
   "metadata": {},
   "source": [
    "<br>\n",
    "\n",
    "**PySpark usage during a day :**\n",
    "\n",
    "<br>"
   ]
  },
  {
   "cell_type": "code",
   "execution_count": 186,
   "metadata": {
    "scrolled": false
   },
   "outputs": [
    {
     "data": {
      "text/html": [
       "<div>\n",
       "<style scoped>\n",
       "    .dataframe tbody tr th:only-of-type {\n",
       "        vertical-align: middle;\n",
       "    }\n",
       "\n",
       "    .dataframe tbody tr th {\n",
       "        vertical-align: top;\n",
       "    }\n",
       "\n",
       "    .dataframe thead th {\n",
       "        text-align: right;\n",
       "    }\n",
       "</style>\n",
       "<table border=\"1\" class=\"dataframe\">\n",
       "  <thead>\n",
       "    <tr style=\"text-align: right;\">\n",
       "      <th></th>\n",
       "      <th>hour</th>\n",
       "      <th>count</th>\n",
       "    </tr>\n",
       "  </thead>\n",
       "  <tbody>\n",
       "    <tr>\n",
       "      <th>0</th>\n",
       "      <td>0</td>\n",
       "      <td>223</td>\n",
       "    </tr>\n",
       "    <tr>\n",
       "      <th>1</th>\n",
       "      <td>1</td>\n",
       "      <td>239</td>\n",
       "    </tr>\n",
       "    <tr>\n",
       "      <th>2</th>\n",
       "      <td>2</td>\n",
       "      <td>248</td>\n",
       "    </tr>\n",
       "    <tr>\n",
       "      <th>3</th>\n",
       "      <td>3</td>\n",
       "      <td>253</td>\n",
       "    </tr>\n",
       "    <tr>\n",
       "      <th>4</th>\n",
       "      <td>4</td>\n",
       "      <td>332</td>\n",
       "    </tr>\n",
       "  </tbody>\n",
       "</table>\n",
       "</div>"
      ],
      "text/plain": [
       "   hour  count\n",
       "0     0    223\n",
       "1     1    239\n",
       "2     2    248\n",
       "3     3    253\n",
       "4     4    332"
      ]
     },
     "execution_count": 186,
     "metadata": {},
     "output_type": "execute_result"
    }
   ],
   "source": [
    "df_pyspark_hour = df_pyspark\n",
    "df_pyspark_hour['hour'] = df_pyspark_hour['CreationDate'].dt.hour\n",
    "df_pyspark_hour = df_pyspark_hour.groupby(['hour']).size().reset_index(name='count')\n",
    "df_pyspark_hour.head()"
   ]
  },
  {
   "cell_type": "code",
   "execution_count": 187,
   "metadata": {},
   "outputs": [
    {
     "data": {
      "image/png": "[encoded data removed]",
      "text/plain": [
       "<Figure size 1008x432 with 1 Axes>"
      ]
     },
     "metadata": {},
     "output_type": "display_data"
    }
   ],
   "source": [
    "y, x = df_pyspark_hour['count'], df_pyspark_hour.index\n",
    "\n",
    "fig, ax = plt.subplots(figsize=(14, 6))\n",
    "index = range(len(y))\n",
    "bar_width = 0.5\n",
    "\n",
    "ax.bar(index, y, bar_width, color='#3498db')\n",
    "\n",
    "ax.set_xlabel('\\nHour of the day', fontsize=13)\n",
    "ax.set_ylabel('Number of questions asked', fontsize=13)\n",
    "ax.set_title('Number of questions with the pyspark tag during the day\\n', fontsize=16)\n",
    "ax.set_xticks(index)\n",
    "ax.set_xticklabels(x)\n",
    "ax.set_xlim(-1, len(x))\n",
    "fig.tight_layout()\n",
    "ax.grid(axis='y', alpha=0.8,color='#3498db', linestyle='--')\n",
    "\n",
    "plt.show()"
   ]
  },
  {
   "cell_type": "markdown",
   "metadata": {},
   "source": [
    "Linear correlation between number of questions and hours of the day:"
   ]
  },
  {
   "cell_type": "code",
   "execution_count": 188,
   "metadata": {},
   "outputs": [
    {
     "data": {
      "text/html": [
       "<div>\n",
       "<style scoped>\n",
       "    .dataframe tbody tr th:only-of-type {\n",
       "        vertical-align: middle;\n",
       "    }\n",
       "\n",
       "    .dataframe tbody tr th {\n",
       "        vertical-align: top;\n",
       "    }\n",
       "\n",
       "    .dataframe thead th {\n",
       "        text-align: right;\n",
       "    }\n",
       "</style>\n",
       "<table border=\"1\" class=\"dataframe\">\n",
       "  <thead>\n",
       "    <tr style=\"text-align: right;\">\n",
       "      <th></th>\n",
       "      <th>hour</th>\n",
       "      <th>count</th>\n",
       "    </tr>\n",
       "  </thead>\n",
       "  <tbody>\n",
       "    <tr>\n",
       "      <th>hour</th>\n",
       "      <td>1.000000</td>\n",
       "      <td>0.301336</td>\n",
       "    </tr>\n",
       "    <tr>\n",
       "      <th>count</th>\n",
       "      <td>0.301336</td>\n",
       "      <td>1.000000</td>\n",
       "    </tr>\n",
       "  </tbody>\n",
       "</table>\n",
       "</div>"
      ],
      "text/plain": [
       "           hour     count\n",
       "hour   1.000000  0.301336\n",
       "count  0.301336  1.000000"
      ]
     },
     "execution_count": 188,
     "metadata": {},
     "output_type": "execute_result"
    }
   ],
   "source": [
    "df_pyspark_hour.corr()"
   ]
  },
  {
   "cell_type": "markdown",
   "metadata": {},
   "source": [
    "We can clearly see that there is a correlation between hour of the day and pyspark request. However, this correlation is not linear, rather sinusoidal or quadratic-like. This indicate that people asking questions about pyspark are not evenly distributed between time zones around the world. Indeed, certain time zones have a very tiny population of programmers (Pacific) in comparison with others."
   ]
  },
  {
   "cell_type": "markdown",
   "metadata": {},
   "source": [
    "<br>\n",
    "\n",
    "**PySpark usage during a week :**\n",
    "\n",
    "<br>"
   ]
  },
  {
   "cell_type": "code",
   "execution_count": 189,
   "metadata": {},
   "outputs": [
    {
     "data": {
      "text/html": [
       "<div>\n",
       "<style scoped>\n",
       "    .dataframe tbody tr th:only-of-type {\n",
       "        vertical-align: middle;\n",
       "    }\n",
       "\n",
       "    .dataframe tbody tr th {\n",
       "        vertical-align: top;\n",
       "    }\n",
       "\n",
       "    .dataframe thead th {\n",
       "        text-align: right;\n",
       "    }\n",
       "</style>\n",
       "<table border=\"1\" class=\"dataframe\">\n",
       "  <thead>\n",
       "    <tr style=\"text-align: right;\">\n",
       "      <th></th>\n",
       "      <th>day</th>\n",
       "      <th>count</th>\n",
       "    </tr>\n",
       "  </thead>\n",
       "  <tbody>\n",
       "    <tr>\n",
       "      <th>0</th>\n",
       "      <td>0</td>\n",
       "      <td>1655</td>\n",
       "    </tr>\n",
       "    <tr>\n",
       "      <th>1</th>\n",
       "      <td>1</td>\n",
       "      <td>1891</td>\n",
       "    </tr>\n",
       "    <tr>\n",
       "      <th>2</th>\n",
       "      <td>2</td>\n",
       "      <td>1865</td>\n",
       "    </tr>\n",
       "    <tr>\n",
       "      <th>3</th>\n",
       "      <td>3</td>\n",
       "      <td>1882</td>\n",
       "    </tr>\n",
       "    <tr>\n",
       "      <th>4</th>\n",
       "      <td>4</td>\n",
       "      <td>1605</td>\n",
       "    </tr>\n",
       "    <tr>\n",
       "      <th>5</th>\n",
       "      <td>5</td>\n",
       "      <td>659</td>\n",
       "    </tr>\n",
       "    <tr>\n",
       "      <th>6</th>\n",
       "      <td>6</td>\n",
       "      <td>709</td>\n",
       "    </tr>\n",
       "  </tbody>\n",
       "</table>\n",
       "</div>"
      ],
      "text/plain": [
       "   day  count\n",
       "0    0   1655\n",
       "1    1   1891\n",
       "2    2   1865\n",
       "3    3   1882\n",
       "4    4   1605\n",
       "5    5    659\n",
       "6    6    709"
      ]
     },
     "execution_count": 189,
     "metadata": {},
     "output_type": "execute_result"
    }
   ],
   "source": [
    "df_pyspark_day = df_pyspark\n",
    "df_pyspark_day['day'] = df_pyspark_day['CreationDate'].dt.dayofweek\n",
    "df_pyspark_day = df_pyspark_day.groupby(['day']).size().reset_index(name='count')\n",
    "df_pyspark_day"
   ]
  },
  {
   "cell_type": "code",
   "execution_count": 190,
   "metadata": {
    "scrolled": true
   },
   "outputs": [
    {
     "data": {
      "image/png": "[encoded data removed]",
      "text/plain": [
       "<Figure size 1008x432 with 1 Axes>"
      ]
     },
     "metadata": {},
     "output_type": "display_data"
    }
   ],
   "source": [
    "y, x = df_pyspark_day['count'], df_pyspark_day.index\n",
    "\n",
    "fig, ax = plt.subplots(figsize=(14, 6))\n",
    "index = range(len(y))\n",
    "bar_width = 0.2\n",
    "\n",
    "ax.bar(index, y, bar_width, color='#3498db')\n",
    "\n",
    "ax.set_xlabel('\\nDay of the week', fontsize=13)\n",
    "ax.set_ylabel('Number of questions asked', fontsize=13)\n",
    "ax.set_title('Number of questions with the pyspark tag during a week\\n', fontsize=16)\n",
    "ax.set_xticks(index)\n",
    "ax.set_xticklabels(['Mon','Tue','Wed','Thu','Fri','Sat','Sun'])\n",
    "ax.set_xlim(-1, len(x))\n",
    "fig.tight_layout()\n",
    "ax.grid(axis='y', alpha=0.8,color='#3498db', linestyle='--')\n",
    "\n",
    "plt.show()"
   ]
  },
  {
   "cell_type": "markdown",
   "metadata": {},
   "source": [
    "Linear correlation between number of questions and day of the week:"
   ]
  },
  {
   "cell_type": "code",
   "execution_count": 191,
   "metadata": {
    "scrolled": false
   },
   "outputs": [
    {
     "data": {
      "text/html": [
       "<div>\n",
       "<style scoped>\n",
       "    .dataframe tbody tr th:only-of-type {\n",
       "        vertical-align: middle;\n",
       "    }\n",
       "\n",
       "    .dataframe tbody tr th {\n",
       "        vertical-align: top;\n",
       "    }\n",
       "\n",
       "    .dataframe thead th {\n",
       "        text-align: right;\n",
       "    }\n",
       "</style>\n",
       "<table border=\"1\" class=\"dataframe\">\n",
       "  <thead>\n",
       "    <tr style=\"text-align: right;\">\n",
       "      <th></th>\n",
       "      <th>day</th>\n",
       "      <th>count</th>\n",
       "    </tr>\n",
       "  </thead>\n",
       "  <tbody>\n",
       "    <tr>\n",
       "      <th>day</th>\n",
       "      <td>1.000000</td>\n",
       "      <td>-0.785157</td>\n",
       "    </tr>\n",
       "    <tr>\n",
       "      <th>count</th>\n",
       "      <td>-0.785157</td>\n",
       "      <td>1.000000</td>\n",
       "    </tr>\n",
       "  </tbody>\n",
       "</table>\n",
       "</div>"
      ],
      "text/plain": [
       "            day     count\n",
       "day    1.000000 -0.785157\n",
       "count -0.785157  1.000000"
      ]
     },
     "execution_count": 191,
     "metadata": {},
     "output_type": "execute_result"
    }
   ],
   "source": [
    "df_pyspark_day.corr()"
   ]
  },
  {
   "cell_type": "markdown",
   "metadata": {},
   "source": [
    "We can notice very clearly that the number of questions about pyspark asked during weekend is lower in regard with weekdays. There is some kind of step-function-like correlation is this case."
   ]
  },
  {
   "cell_type": "markdown",
   "metadata": {},
   "source": [
    "<br>\n",
    "\n",
    "**PySpark usage during a year :**\n",
    "\n",
    "<br>"
   ]
  },
  {
   "cell_type": "code",
   "execution_count": 192,
   "metadata": {},
   "outputs": [
    {
     "data": {
      "text/html": [
       "<div>\n",
       "<style scoped>\n",
       "    .dataframe tbody tr th:only-of-type {\n",
       "        vertical-align: middle;\n",
       "    }\n",
       "\n",
       "    .dataframe tbody tr th {\n",
       "        vertical-align: top;\n",
       "    }\n",
       "\n",
       "    .dataframe thead th {\n",
       "        text-align: right;\n",
       "    }\n",
       "</style>\n",
       "<table border=\"1\" class=\"dataframe\">\n",
       "  <thead>\n",
       "    <tr style=\"text-align: right;\">\n",
       "      <th></th>\n",
       "      <th>month</th>\n",
       "      <th>count</th>\n",
       "    </tr>\n",
       "  </thead>\n",
       "  <tbody>\n",
       "    <tr>\n",
       "      <th>0</th>\n",
       "      <td>1</td>\n",
       "      <td>707</td>\n",
       "    </tr>\n",
       "    <tr>\n",
       "      <th>1</th>\n",
       "      <td>2</td>\n",
       "      <td>818</td>\n",
       "    </tr>\n",
       "    <tr>\n",
       "      <th>2</th>\n",
       "      <td>3</td>\n",
       "      <td>987</td>\n",
       "    </tr>\n",
       "    <tr>\n",
       "      <th>3</th>\n",
       "      <td>4</td>\n",
       "      <td>872</td>\n",
       "    </tr>\n",
       "    <tr>\n",
       "      <th>4</th>\n",
       "      <td>5</td>\n",
       "      <td>989</td>\n",
       "    </tr>\n",
       "    <tr>\n",
       "      <th>5</th>\n",
       "      <td>6</td>\n",
       "      <td>954</td>\n",
       "    </tr>\n",
       "    <tr>\n",
       "      <th>6</th>\n",
       "      <td>7</td>\n",
       "      <td>1031</td>\n",
       "    </tr>\n",
       "    <tr>\n",
       "      <th>7</th>\n",
       "      <td>8</td>\n",
       "      <td>1094</td>\n",
       "    </tr>\n",
       "    <tr>\n",
       "      <th>8</th>\n",
       "      <td>9</td>\n",
       "      <td>686</td>\n",
       "    </tr>\n",
       "    <tr>\n",
       "      <th>9</th>\n",
       "      <td>10</td>\n",
       "      <td>723</td>\n",
       "    </tr>\n",
       "    <tr>\n",
       "      <th>10</th>\n",
       "      <td>11</td>\n",
       "      <td>690</td>\n",
       "    </tr>\n",
       "    <tr>\n",
       "      <th>11</th>\n",
       "      <td>12</td>\n",
       "      <td>715</td>\n",
       "    </tr>\n",
       "  </tbody>\n",
       "</table>\n",
       "</div>"
      ],
      "text/plain": [
       "    month  count\n",
       "0       1    707\n",
       "1       2    818\n",
       "2       3    987\n",
       "3       4    872\n",
       "4       5    989\n",
       "5       6    954\n",
       "6       7   1031\n",
       "7       8   1094\n",
       "8       9    686\n",
       "9      10    723\n",
       "10     11    690\n",
       "11     12    715"
      ]
     },
     "execution_count": 192,
     "metadata": {},
     "output_type": "execute_result"
    }
   ],
   "source": [
    "df_pyspark_month = df_pyspark\n",
    "df_pyspark_month['month'] = df_pyspark_month['CreationDate'].dt.month\n",
    "df_pyspark_month = df_pyspark_month.groupby(['month']).size().reset_index(name='count')\n",
    "df_pyspark_month"
   ]
  },
  {
   "cell_type": "code",
   "execution_count": 193,
   "metadata": {},
   "outputs": [
    {
     "data": {
      "image/png": "[encoded data removed]",
      "text/plain": [
       "<Figure size 1008x432 with 1 Axes>"
      ]
     },
     "metadata": {},
     "output_type": "display_data"
    }
   ],
   "source": [
    "y, x = df_pyspark_month['count'], df_pyspark_month['month']\n",
    "fig, ax = plt.subplots(figsize=(14, 6))\n",
    "index = range(len(y))\n",
    "bar_width = 0.3\n",
    "\n",
    "ax.bar(index, y, bar_width, color='#3498db')\n",
    "\n",
    "ax.set_xlabel('\\nMonth', fontsize=13)\n",
    "ax.set_ylabel('Number of questions asked', fontsize=13)\n",
    "ax.set_title('Number of questions with the pyspark tag during a year\\n', fontsize=16)\n",
    "ax.set_xticks(index)\n",
    "ax.set_xticklabels(['Jan','Feb','Mar','Apr','May','Jun','Jul','Aug','Sep','Oct','Nov','Dec'])\n",
    "ax.set_xlim(-1, len(x))\n",
    "fig.tight_layout()\n",
    "ax.grid(axis='y', alpha=0.8,color='#3498db', linestyle='--')\n",
    "\n",
    "plt.show()"
   ]
  },
  {
   "cell_type": "markdown",
   "metadata": {},
   "source": [
    "Linear correlation between number of questions and month of the year:"
   ]
  },
  {
   "cell_type": "code",
   "execution_count": 194,
   "metadata": {
    "scrolled": true
   },
   "outputs": [
    {
     "data": {
      "text/html": [
       "<div>\n",
       "<style scoped>\n",
       "    .dataframe tbody tr th:only-of-type {\n",
       "        vertical-align: middle;\n",
       "    }\n",
       "\n",
       "    .dataframe tbody tr th {\n",
       "        vertical-align: top;\n",
       "    }\n",
       "\n",
       "    .dataframe thead th {\n",
       "        text-align: right;\n",
       "    }\n",
       "</style>\n",
       "<table border=\"1\" class=\"dataframe\">\n",
       "  <thead>\n",
       "    <tr style=\"text-align: right;\">\n",
       "      <th></th>\n",
       "      <th>month</th>\n",
       "      <th>count</th>\n",
       "    </tr>\n",
       "  </thead>\n",
       "  <tbody>\n",
       "    <tr>\n",
       "      <th>month</th>\n",
       "      <td>1.000000</td>\n",
       "      <td>-0.288707</td>\n",
       "    </tr>\n",
       "    <tr>\n",
       "      <th>count</th>\n",
       "      <td>-0.288707</td>\n",
       "      <td>1.000000</td>\n",
       "    </tr>\n",
       "  </tbody>\n",
       "</table>\n",
       "</div>"
      ],
      "text/plain": [
       "          month     count\n",
       "month  1.000000 -0.288707\n",
       "count -0.288707  1.000000"
      ]
     },
     "execution_count": 194,
     "metadata": {},
     "output_type": "execute_result"
    }
   ],
   "source": [
    "df_pyspark_month.corr()"
   ]
  },
  {
   "cell_type": "markdown",
   "metadata": {},
   "source": [
    "In this last analysis, we can see that trends are emerging in the months of the year, but no very precise correlation can be seen in our graph."
   ]
  }
 ],
 "metadata": {
  "kernelspec": {
   "display_name": "Python 3",
   "language": "python",
   "name": "python3"
  },
  "language_info": {
   "codemirror_mode": {
    "name": "ipython",
    "version": 3
   },
   "file_extension": ".py",
   "mimetype": "text/x-python",
   "name": "python",
   "nbconvert_exporter": "python",
   "pygments_lexer": "ipython3",
   "version": "3.6.5"
  }
 },
 "nbformat": 4,
 "nbformat_minor": 2
}
