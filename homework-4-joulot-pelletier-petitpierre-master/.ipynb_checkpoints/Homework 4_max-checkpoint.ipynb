{
 "cells": [
  {
   "cell_type": "markdown",
   "metadata": {},
   "source": [
    "## Assignment 4: Obsevational Studies and Applied ML\n",
    "\n",
    "### Deadline\n",
    "November 21st,11:59PM\n",
    "\n",
    "### Important notes\n",
    "\n",
    "Make sure you push on GitHub your notebook with all the cells already evaluated. Don't forget to add a textual description of your thought process, the assumptions you made, and the solution you implemented. Back up any hypotheses and claims with data, since this is an important aspect of the course. Please write all your comments in English, and use meaningful variable names in your code. Your repo should have a single notebook (plus the data files necessary) in the master branch. If there are multiple notebooks present, we will not grade anything.\n",
    "\n",
    "Use this legendary link to create your repository: [link](https://classroom.github.com/g/YXtsr0QK)"
   ]
  },
  {
   "cell_type": "code",
   "execution_count": 42,
   "metadata": {},
   "outputs": [],
   "source": [
    "import pandas as pd\n",
    "import numpy as np\n",
    "import pickle\n",
    "import matplotlib.pyplot as plt\n",
    "import itertools\n",
    "from sklearn.linear_model import LinearRegression, LogisticRegression\n",
    "from sklearn.preprocessing import OneHotEncoder\n",
    "from sklearn.ensemble import RandomForestClassifier\n",
    "from sklearn.metrics import confusion_matrix\n",
    "from sklearn.feature_selection import RFE\n",
    "from sklearn.feature_selection import RFECV\n",
    "from pandas.plotting import scatter_matrix\n",
    "from sklearn.model_selection import cross_val_predict\n",
    "from sklearn.model_selection import cross_val_score\n",
    "import seaborn as sns\n",
    "%matplotlib inline"
   ]
  },
  {
   "cell_type": "code",
   "execution_count": 5,
   "metadata": {},
   "outputs": [],
   "source": [
    "data_folder = './data/'"
   ]
  },
  {
   "cell_type": "markdown",
   "metadata": {},
   "source": [
    "<br>\n",
    "\n",
    "---\n",
    "\n",
    "<br>\n",
    "\n",
    "## Task 1: Boosting the economy by incentivizing self-employment\n",
    "\n",
    "Assume the biggest priority of the local government in 2018 is to increase per-capita income. To do so, the officials plan to adopt a strategy for incentivizing self-employment through a series of campaigns, educational programs, and dedicated funds.\n",
    "\n",
    "Since it is unethical and impossible in this setting to run a controlled experiment involving citizens (e.g., fire employees and force them to self-employ), the officials have asked you, the data scientist, to establish the effect of self-employment on the economy, relying on observational data.\n",
    "\n",
    "**A)** You will be working with the full US 2015 census dataset (acs2015_county_data.csv, available at https://www.kaggle.com/muonneutrino/us-census-demographic-data#acs2015_county_data.csv). Using suitable methods, determine and quantify the dependency between the percentage of self-employed citizens and per capita income across all 3,212 US counties. Do citizens in counties that have a higher percentage of self-employed people earn more per capita?\n",
    "\n",
    "**B)** The pilot program will involve all counties within a limited set of three US states. Set A includes Wisconsin, Tennessee, and  Minnesota. Quantify the dependency of per-capita income on self-employment rates across all the counties in set A.\n",
    "\n",
    "**C)** In which state within set A is the observed effect of self-employment on per-capita income the strongest?\n",
    "\n",
    "**D)** Set B includes New Jersey, Kansas, and Rhode Island. Repeat the analysis from steps B and C above, but now for set B. In which of the two sets A and B (if any) would you recommend incentivizing self-employment? Explain your reasoning.\n",
    "\n",
    "Hint: It is useful to add a notion of confidence to your results and explore the data visually. You are allowed to use the SciPy library."
   ]
  },
  {
   "cell_type": "markdown",
   "metadata": {},
   "source": [
    "<br>\n",
    "\n",
    "### Importing the data\n",
    "\n",
    "<br>"
   ]
  },
  {
   "cell_type": "code",
   "execution_count": null,
   "metadata": {},
   "outputs": [],
   "source": [
    "task_1_folder = data_folder + 'Task1/'"
   ]
  },
  {
   "cell_type": "markdown",
   "metadata": {},
   "source": [
    "Loading the csv file in a dataframe:"
   ]
  },
  {
   "cell_type": "code",
   "execution_count": null,
   "metadata": {
    "scrolled": false
   },
   "outputs": [],
   "source": [
    "county_data = pd.read_csv(task_1_folder + 'acs2015_county_data.csv')\n",
    "county_data.head(5)"
   ]
  },
  {
   "cell_type": "markdown",
   "metadata": {},
   "source": [
    "<br>\n",
    "\n",
    "We can see that our dataframe contains a lot of information, not always relevant for this task. Let's filter it and keep what is usefull. To do so, we need to only keep some columns, using their names:"
   ]
  },
  {
   "cell_type": "code",
   "execution_count": null,
   "metadata": {},
   "outputs": [],
   "source": [
    "county_data.columns"
   ]
  },
  {
   "cell_type": "markdown",
   "metadata": {},
   "source": [
    "We can now create a new dataframe with all useful columns, being:\n",
    "- CensusId\n",
    "- State\n",
    "- County\n",
    "- Citizen\n",
    "- IncomeErr\t\n",
    "- IncomePerCap\t\n",
    "- IncomePerCapErr\n",
    "- SelfEmployed"
   ]
  },
  {
   "cell_type": "code",
   "execution_count": null,
   "metadata": {},
   "outputs": [],
   "source": [
    "employment_data = county_data[['CensusId', 'State', 'County', 'Citizen', 'IncomeErr', 'IncomePerCap',\n",
    "                                         'IncomePerCapErr', 'SelfEmployed']]\n",
    "\n",
    "employment_data.head(5)"
   ]
  },
  {
   "cell_type": "markdown",
   "metadata": {},
   "source": [
    "<br>\n",
    "\n",
    "#### **Question A:** \n",
    "\n",
    "Using suitable methods, determine and quantify the dependency between the percentage of self-employed citizens and per capita income across all 3,220 US counties. Do citizens in counties that have a higher percentage of self-employed people earn more per capita?\n",
    "\n",
    "<br>"
   ]
  },
  {
   "cell_type": "markdown",
   "metadata": {},
   "source": [
    "Let's start by filtering out the data by keeping only the two useful columns that we are interested in:\n",
    "- percentage of self-employed citizens\n",
    "- per capita income"
   ]
  },
  {
   "cell_type": "code",
   "execution_count": null,
   "metadata": {},
   "outputs": [],
   "source": [
    "counties_employment = employment_data[['CensusId','IncomePerCap', 'SelfEmployed']].set_index(['CensusId'])\n",
    "counties_employment.describe()"
   ]
  },
  {
   "cell_type": "markdown",
   "metadata": {},
   "source": [
    "<br>\n",
    "\n",
    "Let's now do a scatter plot of those two data in a graph. This will allow us to get a good visual idea of the dependency between them."
   ]
  },
  {
   "cell_type": "code",
   "execution_count": null,
   "metadata": {
    "scrolled": false
   },
   "outputs": [],
   "source": [
    "counties_employment.plot(kind='scatter',\n",
    "             x='SelfEmployed', y='IncomePerCap', figsize=(15, 8), grid=True,\n",
    "            title='Relation between the percentage of self-employed people in a US county (%) and their income per capita ($)')"
   ]
  },
  {
   "cell_type": "markdown",
   "metadata": {},
   "source": [
    "Using the graph above as well as the decription of the dataframe, we can see that our data is pretty messy, but also that there aren't too many outliers (median is close to mean), so we can use Pearson (standard correlation coefficient, vulnerable around outliers)."
   ]
  },
  {
   "cell_type": "code",
   "execution_count": null,
   "metadata": {},
   "outputs": [],
   "source": [
    "counties_employment.corr('pearson')"
   ]
  },
  {
   "cell_type": "markdown",
   "metadata": {},
   "source": [
    "<br>\n",
    "\n",
    "This pairwise correlation of our data shows us that **the two columns of our dataframe are almost not correlated at all**, as we get a value very close to `0`.\n",
    "\n",
    "<br>"
   ]
  },
  {
   "cell_type": "markdown",
   "metadata": {},
   "source": [
    "<br>\n",
    "\n",
    "#### **Question B:** \n",
    "\n",
    "The pilot program will involve all counties within a limited set of three US states. Set A includes Wisconsin, Tennessee, and Minnesota. Quantify the dependency of per-capita income on self-employment rates across all the counties in set A.\n",
    "\n",
    "<br>"
   ]
  },
  {
   "cell_type": "markdown",
   "metadata": {},
   "source": [
    "In this part, we will be interested in a set of three counties:\n",
    "- Wisconsin\n",
    "- Tennessee\n",
    "- Minnesota\n",
    "\n",
    "Let's start by selecting the corresponding data and creating a new dataframe: "
   ]
  },
  {
   "cell_type": "code",
   "execution_count": null,
   "metadata": {},
   "outputs": [],
   "source": [
    "set_A = county_data[(county_data.State == 'Wisconsin') |  (county_data.State == 'Tennessee') | (county_data.State == 'Minnesota')]\n",
    "set_A = set_A[['CensusId','IncomePerCap', 'SelfEmployed']].set_index(['CensusId']) # Keeping only useful information"
   ]
  },
  {
   "cell_type": "code",
   "execution_count": null,
   "metadata": {
    "scrolled": false
   },
   "outputs": [],
   "source": [
    "set_A.plot(kind='scatter',\n",
    "            x='SelfEmployed', y='IncomePerCap', figsize=(15, 8), grid=True,\n",
    "            title='Relation between the percentage of self-employed people in a county of set A (%) and their income per capita ($)')"
   ]
  },
  {
   "cell_type": "markdown",
   "metadata": {},
   "source": [
    "Let's use Pearson to get a value and to actually compare the dependency in those counties:"
   ]
  },
  {
   "cell_type": "code",
   "execution_count": null,
   "metadata": {
    "scrolled": true
   },
   "outputs": [],
   "source": [
    "set_A.corr()"
   ]
  },
  {
   "cell_type": "markdown",
   "metadata": {},
   "source": [
    "We get a very low correlation score, which means there is not dependency between per-capita income on self-employment rates across all the counties in set A."
   ]
  },
  {
   "cell_type": "markdown",
   "metadata": {},
   "source": [
    "<br>\n",
    "\n",
    "#### **Question C:** \n",
    "\n",
    "In which state within set A is the observed effect of self-employment on per-capita income the strongest?\n",
    "\n",
    "<br>"
   ]
  },
  {
   "cell_type": "markdown",
   "metadata": {},
   "source": [
    "In this part, we will are still interested of the set A, but we will analyze the dependency in each of the county separatly.\n",
    "\n",
    "Let's start by selecting the corresponding data and creating three separate dataframe: "
   ]
  },
  {
   "cell_type": "code",
   "execution_count": null,
   "metadata": {},
   "outputs": [],
   "source": [
    "# Wisconsin\n",
    "wisconsin_data = county_data[county_data['State'] == 'Wisconsin'] # Filtering on the state name\n",
    "wisconsin_data = wisconsin_data[['CensusId','IncomePerCap', 'SelfEmployed']].set_index(['CensusId']) # Keeping only useful information\n",
    "\n",
    "# Tennesse\n",
    "tennessee_data = county_data[county_data['State'] == 'Tennessee'] # Filtering on the state name\n",
    "tennessee_data = tennessee_data[['CensusId','IncomePerCap', 'SelfEmployed']].set_index(['CensusId']) # Keeping only useful information\n",
    "\n",
    "# Minnesota\n",
    "minnesota_data = county_data[county_data['State'] == 'Minnesota'] # Filtering on the state name\n",
    "minnesota_data = minnesota_data[['CensusId','IncomePerCap', 'SelfEmployed']].set_index(['CensusId']) # Keeping only useful information"
   ]
  },
  {
   "cell_type": "markdown",
   "metadata": {},
   "source": [
    "<br>\n",
    "\n",
    "Just as we did in the first question, let's do some scatter plot for each county to get some visual idea of the dependencies between per-capita income on self-employment rates across all three counties:"
   ]
  },
  {
   "cell_type": "code",
   "execution_count": null,
   "metadata": {
    "scrolled": true
   },
   "outputs": [],
   "source": [
    "fig, axs = plt.subplots(1, 3, sharex=True, sharey=True)\n",
    "\n",
    "wisconsin_data.plot(kind='scatter', x='SelfEmployed', y='IncomePerCap', ax=axs[0], grid=True, title='Wisconsin', figsize=(15, 8))\n",
    "tennessee_data.plot(kind='scatter', x='SelfEmployed', y='IncomePerCap', ax=axs[1], grid=True, title='Tennessee')\n",
    "minnesota_data.plot(kind='scatter', x='SelfEmployed', y='IncomePerCap', ax=axs[2], grid=True, title='Minnesota')"
   ]
  },
  {
   "cell_type": "markdown",
   "metadata": {},
   "source": [
    "<br>\n",
    "\n",
    "Once again, our graphs don't give us a good dependency. Indeed, we have quite messy data withh no clear correlation.\n",
    "\n",
    "Let's use Pearson to get a value and to actually compare the dependency in those county:"
   ]
  },
  {
   "cell_type": "code",
   "execution_count": null,
   "metadata": {
    "scrolled": true
   },
   "outputs": [],
   "source": [
    "wisconsin_data.corr()"
   ]
  },
  {
   "cell_type": "code",
   "execution_count": null,
   "metadata": {
    "scrolled": true
   },
   "outputs": [],
   "source": [
    "tennessee_data.corr()"
   ]
  },
  {
   "cell_type": "code",
   "execution_count": null,
   "metadata": {
    "scrolled": true
   },
   "outputs": [],
   "source": [
    "minnesota_data.corr()"
   ]
  },
  {
   "cell_type": "markdown",
   "metadata": {},
   "source": [
    "<br>\n",
    "\n",
    "Here, the correlation tables only shows us that there is actually no dependency between per-capita income on self-employment rates across all three counties of set A."
   ]
  },
  {
   "cell_type": "markdown",
   "metadata": {},
   "source": [
    "<br>\n",
    "\n",
    "#### **Question D:** \n",
    "\n",
    "Set B includes New Jersey, Kansas, and Rhode Island. Repeat the analysis from steps B and C above, but now for set B. In which of the two sets A and B (if any) would you recommend incentivizing self-employment? Explain your reasoning.\n",
    "\n",
    ">Hint: It is useful to add a notion of confidence to your results and explore the data visually. You are allowed to use the SciPy library.\n",
    "\n",
    "<br>"
   ]
  },
  {
   "cell_type": "markdown",
   "metadata": {},
   "source": [
    "In this last part, we will be interested in a different set of three counties:\n",
    "- New Jersey\n",
    "- Kansas\n",
    "- Rhode Island"
   ]
  },
  {
   "cell_type": "markdown",
   "metadata": {},
   "source": [
    "Let's start by quantifying the dependency of per-capita income on self-employment rates across all the counties in set B:"
   ]
  },
  {
   "cell_type": "code",
   "execution_count": null,
   "metadata": {},
   "outputs": [],
   "source": [
    "set_B = county_data[(county_data.State == 'New Jersey') |  (county_data.State == 'Kansas') | (county_data.State == 'Rhode Island')]\n",
    "set_B = set_B[['CensusId','IncomePerCap', 'SelfEmployed']].set_index(['CensusId']) # Keeping only useful information"
   ]
  },
  {
   "cell_type": "markdown",
   "metadata": {},
   "source": [
    "<br>\n",
    "\n",
    "Just like in the previous question, we will start by plotting the relation between the percentage of self-employed people in counties of set B and their income per capita:"
   ]
  },
  {
   "cell_type": "code",
   "execution_count": null,
   "metadata": {},
   "outputs": [],
   "source": [
    "set_B.plot(kind='scatter',\n",
    "            x='SelfEmployed', y='IncomePerCap', figsize=(15, 8), grid=True,\n",
    "            title='Relation between the percentage of self-employed people in counties of set B (%) and their income per capita ($)')"
   ]
  },
  {
   "cell_type": "code",
   "execution_count": null,
   "metadata": {},
   "outputs": [],
   "source": [
    "set_B.corr()"
   ]
  },
  {
   "cell_type": "markdown",
   "metadata": {},
   "source": [
    "<br>\n",
    "\n",
    "Once again, we get a very low correlation score, which means there is not dependency between per-capita income on self-employment rates across all the counties in set B.\n",
    "\n",
    "<br>\n",
    "\n",
    "Let's see in which state within set B is the observed effect of self-employment on per-capita income the strongest:"
   ]
  },
  {
   "cell_type": "code",
   "execution_count": null,
   "metadata": {},
   "outputs": [],
   "source": [
    "# New Jersey\n",
    "new_jersey_data = county_data[county_data['State'] == 'New Jersey'] # Filtering on the state name\n",
    "new_jersey_data = new_jersey_data[['CensusId','IncomePerCap', 'SelfEmployed']].set_index(['CensusId']) # Keeping only useful information\n",
    "\n",
    "# Kansas\n",
    "kansas_data = county_data[county_data['State'] == 'Kansas'] # Filtering on the state name\n",
    "kansas_data = kansas_data[['CensusId','IncomePerCap', 'SelfEmployed']].set_index(['CensusId']) # Keeping only useful information\n",
    "\n",
    "# Rhode Island\n",
    "rhode_island_data = county_data[county_data['State'] == 'Rhode Island'] # Filtering on the state name\n",
    "rhode_island_data = rhode_island_data[['CensusId','IncomePerCap', 'SelfEmployed']].set_index(['CensusId']) # Keeping only useful information"
   ]
  },
  {
   "cell_type": "code",
   "execution_count": null,
   "metadata": {},
   "outputs": [],
   "source": [
    "fig, axs = plt.subplots(1, 3, sharex=True, sharey=True)\n",
    "\n",
    "new_jersey_data.plot(kind='scatter', x='SelfEmployed', y='IncomePerCap', ax=axs[0], grid=True, title='New Jersey', figsize=(15, 8))\n",
    "kansas_data.plot(kind='scatter', x='SelfEmployed', y='IncomePerCap', ax=axs[1], grid=True, title='Kansas')\n",
    "rhode_island_data.plot(kind='scatter', x='SelfEmployed', y='IncomePerCap', ax=axs[2], grid=True, title='Rhode Island')"
   ]
  },
  {
   "cell_type": "code",
   "execution_count": null,
   "metadata": {},
   "outputs": [],
   "source": [
    "new_jersey_data.corr()"
   ]
  },
  {
   "cell_type": "code",
   "execution_count": null,
   "metadata": {},
   "outputs": [],
   "source": [
    "kansas_data.corr()"
   ]
  },
  {
   "cell_type": "code",
   "execution_count": null,
   "metadata": {
    "scrolled": true
   },
   "outputs": [],
   "source": [
    "rhode_island_data.corr()"
   ]
  },
  {
   "cell_type": "markdown",
   "metadata": {},
   "source": [
    "\n"
   ]
  },
  {
   "cell_type": "markdown",
   "metadata": {
    "collapsed": true
   },
   "source": [
    "<br>\n",
    "\n",
    "---\n",
    "\n",
    "<br>\n",
    "\n",
    "## Task 2: All you need is love… And a dog!\n",
    "\n",
    "Here we are going to build a classifier to predict whether an animal from an animal shelter will be adopted or not (aac_intakes_outcomes.csv, available at: https://www.kaggle.com/aaronschlegel/austin-animal-center-shelter-intakes-and-outcomes/version/1#aac_intakes_outcomes.csv). You will be working with the following features:\n",
    "\n",
    "1. *animal_type:* Type of animal. May be one of 'cat', 'dog', 'bird', etc.\n",
    "2. *intake_year:* Year of intake\n",
    "3. *intake_condition:* The intake condition of the animal. Can be one of 'normal', 'injured', 'sick', etc.\n",
    "4. *intake_number:* The intake number denoting the number of occurrences the animal has been brought into the shelter. Values higher than 1 indicate the animal has been taken into the shelter on more than one occasion.\n",
    "5. *intake_type:* The type of intake, for example, 'stray', 'owner surrender', etc.\n",
    "6. *sex_upon_intake:* The gender of the animal and if it has been spayed or neutered at the time of intake\n",
    "7. *age_upon\\_intake_(years):* The age of the animal upon intake represented in years\n",
    "8. *time_in_shelter_days:* Numeric value denoting the number of days the animal remained at the shelter from intake to outcome.\n",
    "9. *sex_upon_outcome:* The gender of the animal and if it has been spayed or neutered at time of outcome\n",
    "10. *age_upon\\_outcome_(years):* The age of the animal upon outcome represented in years\n",
    "11. *outcome_type:* The outcome type. Can be one of ‘adopted’, ‘transferred’, etc.\n",
    "\n",
    "**A)** Load the dataset and convert categorical features to a suitable numerical representation (use dummy-variable encoding). Split the data into a training set (80%) and a test set (20%). Pair each feature vector with the corresponding label, i.e., whether the outcome_type is adoption or not. Standardize the values of each feature in the data to have mean 0 and variance 1. The use of external libraries is not permitted in part A, except for numpy and pandas.\n",
    "\n",
    "**B)** Train a logistic regression classifier on your training set. Logistic regression returns probabilities as predictions, so in order to arrive at a binary prediction, you need to put a threshold on the predicted probabilities. For the decision threshold of 0.5, present the performance of your classifier on the test set by displaying the confusion matrix. Based on the confusion matrix, manually calculate accuracy, precision, recall, and F1-score with respect to the positive and the negative class. Vary the value of the threshold in the range from 0 to 1 and visualize the value of accuracy, precision, recall, and F1-score (with respect to both classes) as a function of the threshold. The shelter has a limited capacity and has no other option but to put to sleep animals with a low probability of adoption. What metric (precision, recall, accuracy, or F1-score) and with respect to what class is the most relevant when choosing the threshold in this scenario, and why? Explain your reasoning.\n",
    "\n",
    "**C)** Reduce the number of features by selecting the subset of the k best features. Use greedy backward selection to iteratively remove features. Evaluate performance and visualize the result using 5-fold cross-validation on the training set as a function of k, where k = 1, 5, 10, 15, 20, 25, 30. Choose the optimal k and justify your choice. Interpret the top-k features and their impact on the probability of adoption.\n",
    "\n",
    "**D)** Train a random forest. Use 5-fold cross-validation on the training set to fine-tune the parameters of the classifier using a grid search on the number of estimators \"n_estimators\" and the max depth of the trees \"max_depth\". For the chosen parameters, estimate the performance of your classifier on the test set by presenting the confusion matrix, accuracy, precision, recall, and F1-score with respect to both classes and compare the performance with the performance of the logistic regression. Interpret the results.\n",
    "\n",
    "You are allowed to use the scikit-learn library to implement your classifiers."
   ]
  },
  {
   "cell_type": "code",
   "execution_count": 6,
   "metadata": {},
   "outputs": [],
   "source": [
    "def save_pickle(result, file_path = 'pickle'):\n",
    "    with open(file_path, 'wb') as file:\n",
    "        pickle.dump(result, file)"
   ]
  },
  {
   "cell_type": "code",
   "execution_count": 7,
   "metadata": {},
   "outputs": [],
   "source": [
    "def load_pickle(file_path):\n",
    "    with open(file_path, 'rb') as file:\n",
    "        return pickle.load(file)"
   ]
  },
  {
   "cell_type": "code",
   "execution_count": 8,
   "metadata": {},
   "outputs": [],
   "source": [
    "# Load the dataset\n",
    "task_2_folder = data_folder + 'task2/'\n",
    "data = pd.read_csv(task_2_folder+'aac_intakes_outcomes.csv.zip')"
   ]
  },
  {
   "cell_type": "code",
   "execution_count": 9,
   "metadata": {},
   "outputs": [],
   "source": [
    "# Select features described in the Task\n",
    "extr_data = data[['animal_type','intake_year', 'intake_condition', 'intake_number', 'intake_type', 'sex_upon_intake','age_upon_intake_(years)', 'time_in_shelter_days', 'sex_upon_outcome','age_upon_outcome_(years)','outcome_type' ]]"
   ]
  },
  {
   "cell_type": "code",
   "execution_count": 10,
   "metadata": {
    "scrolled": true
   },
   "outputs": [],
   "source": [
    "# Convert outpt feature to 1 if Adoption and 0 otherwise\n",
    "y = np.where(extr_data['outcome_type']=='Adoption', 1, 0)\n",
    "# Remove the output feature in the training set (X)\n",
    "extr_data = extr_data.drop('outcome_type', axis=1)"
   ]
  },
  {
   "cell_type": "code",
   "execution_count": 11,
   "metadata": {},
   "outputs": [],
   "source": [
    "# Turn the categorical data into numerical\n",
    "X = pd.get_dummies(extr_data)"
   ]
  },
  {
   "cell_type": "code",
   "execution_count": 12,
   "metadata": {
    "scrolled": true
   },
   "outputs": [
    {
     "data": {
      "text/html": [
       "<div>\n",
       "<style scoped>\n",
       "    .dataframe tbody tr th:only-of-type {\n",
       "        vertical-align: middle;\n",
       "    }\n",
       "\n",
       "    .dataframe tbody tr th {\n",
       "        vertical-align: top;\n",
       "    }\n",
       "\n",
       "    .dataframe thead th {\n",
       "        text-align: right;\n",
       "    }\n",
       "</style>\n",
       "<table border=\"1\" class=\"dataframe\">\n",
       "  <thead>\n",
       "    <tr style=\"text-align: right;\">\n",
       "      <th></th>\n",
       "      <th>intake_year</th>\n",
       "      <th>intake_number</th>\n",
       "      <th>age_upon_intake_(years)</th>\n",
       "      <th>time_in_shelter_days</th>\n",
       "      <th>age_upon_outcome_(years)</th>\n",
       "      <th>animal_type_Bird</th>\n",
       "      <th>animal_type_Cat</th>\n",
       "      <th>animal_type_Dog</th>\n",
       "      <th>animal_type_Other</th>\n",
       "      <th>intake_condition_Aged</th>\n",
       "      <th>...</th>\n",
       "      <th>sex_upon_intake_Intact Female</th>\n",
       "      <th>sex_upon_intake_Intact Male</th>\n",
       "      <th>sex_upon_intake_Neutered Male</th>\n",
       "      <th>sex_upon_intake_Spayed Female</th>\n",
       "      <th>sex_upon_intake_Unknown</th>\n",
       "      <th>sex_upon_outcome_Intact Female</th>\n",
       "      <th>sex_upon_outcome_Intact Male</th>\n",
       "      <th>sex_upon_outcome_Neutered Male</th>\n",
       "      <th>sex_upon_outcome_Spayed Female</th>\n",
       "      <th>sex_upon_outcome_Unknown</th>\n",
       "    </tr>\n",
       "  </thead>\n",
       "  <tbody>\n",
       "    <tr>\n",
       "      <th>0</th>\n",
       "      <td>2017</td>\n",
       "      <td>1.0</td>\n",
       "      <td>10.0</td>\n",
       "      <td>0.588194</td>\n",
       "      <td>10.0</td>\n",
       "      <td>0</td>\n",
       "      <td>0</td>\n",
       "      <td>1</td>\n",
       "      <td>0</td>\n",
       "      <td>0</td>\n",
       "      <td>...</td>\n",
       "      <td>0</td>\n",
       "      <td>0</td>\n",
       "      <td>1</td>\n",
       "      <td>0</td>\n",
       "      <td>0</td>\n",
       "      <td>0</td>\n",
       "      <td>0</td>\n",
       "      <td>1</td>\n",
       "      <td>0</td>\n",
       "      <td>0</td>\n",
       "    </tr>\n",
       "    <tr>\n",
       "      <th>1</th>\n",
       "      <td>2014</td>\n",
       "      <td>2.0</td>\n",
       "      <td>7.0</td>\n",
       "      <td>1.259722</td>\n",
       "      <td>7.0</td>\n",
       "      <td>0</td>\n",
       "      <td>0</td>\n",
       "      <td>1</td>\n",
       "      <td>0</td>\n",
       "      <td>0</td>\n",
       "      <td>...</td>\n",
       "      <td>0</td>\n",
       "      <td>0</td>\n",
       "      <td>1</td>\n",
       "      <td>0</td>\n",
       "      <td>0</td>\n",
       "      <td>0</td>\n",
       "      <td>0</td>\n",
       "      <td>1</td>\n",
       "      <td>0</td>\n",
       "      <td>0</td>\n",
       "    </tr>\n",
       "    <tr>\n",
       "      <th>2</th>\n",
       "      <td>2014</td>\n",
       "      <td>3.0</td>\n",
       "      <td>6.0</td>\n",
       "      <td>1.113889</td>\n",
       "      <td>6.0</td>\n",
       "      <td>0</td>\n",
       "      <td>0</td>\n",
       "      <td>1</td>\n",
       "      <td>0</td>\n",
       "      <td>0</td>\n",
       "      <td>...</td>\n",
       "      <td>0</td>\n",
       "      <td>0</td>\n",
       "      <td>1</td>\n",
       "      <td>0</td>\n",
       "      <td>0</td>\n",
       "      <td>0</td>\n",
       "      <td>0</td>\n",
       "      <td>1</td>\n",
       "      <td>0</td>\n",
       "      <td>0</td>\n",
       "    </tr>\n",
       "    <tr>\n",
       "      <th>3</th>\n",
       "      <td>2014</td>\n",
       "      <td>1.0</td>\n",
       "      <td>10.0</td>\n",
       "      <td>4.970139</td>\n",
       "      <td>10.0</td>\n",
       "      <td>0</td>\n",
       "      <td>0</td>\n",
       "      <td>1</td>\n",
       "      <td>0</td>\n",
       "      <td>0</td>\n",
       "      <td>...</td>\n",
       "      <td>0</td>\n",
       "      <td>0</td>\n",
       "      <td>1</td>\n",
       "      <td>0</td>\n",
       "      <td>0</td>\n",
       "      <td>0</td>\n",
       "      <td>0</td>\n",
       "      <td>1</td>\n",
       "      <td>0</td>\n",
       "      <td>0</td>\n",
       "    </tr>\n",
       "    <tr>\n",
       "      <th>4</th>\n",
       "      <td>2013</td>\n",
       "      <td>1.0</td>\n",
       "      <td>16.0</td>\n",
       "      <td>0.119444</td>\n",
       "      <td>16.0</td>\n",
       "      <td>0</td>\n",
       "      <td>0</td>\n",
       "      <td>1</td>\n",
       "      <td>0</td>\n",
       "      <td>0</td>\n",
       "      <td>...</td>\n",
       "      <td>0</td>\n",
       "      <td>0</td>\n",
       "      <td>1</td>\n",
       "      <td>0</td>\n",
       "      <td>0</td>\n",
       "      <td>0</td>\n",
       "      <td>0</td>\n",
       "      <td>1</td>\n",
       "      <td>0</td>\n",
       "      <td>0</td>\n",
       "    </tr>\n",
       "  </tbody>\n",
       "</table>\n",
       "<p>5 rows × 32 columns</p>\n",
       "</div>"
      ],
      "text/plain": [
       "   intake_year  intake_number  age_upon_intake_(years)  time_in_shelter_days  \\\n",
       "0         2017            1.0                     10.0              0.588194   \n",
       "1         2014            2.0                      7.0              1.259722   \n",
       "2         2014            3.0                      6.0              1.113889   \n",
       "3         2014            1.0                     10.0              4.970139   \n",
       "4         2013            1.0                     16.0              0.119444   \n",
       "\n",
       "   age_upon_outcome_(years)  animal_type_Bird  animal_type_Cat  \\\n",
       "0                      10.0                 0                0   \n",
       "1                       7.0                 0                0   \n",
       "2                       6.0                 0                0   \n",
       "3                      10.0                 0                0   \n",
       "4                      16.0                 0                0   \n",
       "\n",
       "   animal_type_Dog  animal_type_Other  intake_condition_Aged  \\\n",
       "0                1                  0                      0   \n",
       "1                1                  0                      0   \n",
       "2                1                  0                      0   \n",
       "3                1                  0                      0   \n",
       "4                1                  0                      0   \n",
       "\n",
       "             ...             sex_upon_intake_Intact Female  \\\n",
       "0            ...                                         0   \n",
       "1            ...                                         0   \n",
       "2            ...                                         0   \n",
       "3            ...                                         0   \n",
       "4            ...                                         0   \n",
       "\n",
       "   sex_upon_intake_Intact Male  sex_upon_intake_Neutered Male  \\\n",
       "0                            0                              1   \n",
       "1                            0                              1   \n",
       "2                            0                              1   \n",
       "3                            0                              1   \n",
       "4                            0                              1   \n",
       "\n",
       "   sex_upon_intake_Spayed Female  sex_upon_intake_Unknown  \\\n",
       "0                              0                        0   \n",
       "1                              0                        0   \n",
       "2                              0                        0   \n",
       "3                              0                        0   \n",
       "4                              0                        0   \n",
       "\n",
       "   sex_upon_outcome_Intact Female  sex_upon_outcome_Intact Male  \\\n",
       "0                               0                             0   \n",
       "1                               0                             0   \n",
       "2                               0                             0   \n",
       "3                               0                             0   \n",
       "4                               0                             0   \n",
       "\n",
       "   sex_upon_outcome_Neutered Male  sex_upon_outcome_Spayed Female  \\\n",
       "0                               1                               0   \n",
       "1                               1                               0   \n",
       "2                               1                               0   \n",
       "3                               1                               0   \n",
       "4                               1                               0   \n",
       "\n",
       "   sex_upon_outcome_Unknown  \n",
       "0                         0  \n",
       "1                         0  \n",
       "2                         0  \n",
       "3                         0  \n",
       "4                         0  \n",
       "\n",
       "[5 rows x 32 columns]"
      ]
     },
     "execution_count": 12,
     "metadata": {},
     "output_type": "execute_result"
    }
   ],
   "source": [
    "X.head()"
   ]
  },
  {
   "cell_type": "code",
   "execution_count": 13,
   "metadata": {},
   "outputs": [],
   "source": [
    "# Split dataset : 80% for training and 20% for test\n",
    "train=X.sample(frac=0.8,random_state=100)\n",
    "test=X.drop(train.index)"
   ]
  },
  {
   "cell_type": "code",
   "execution_count": 14,
   "metadata": {},
   "outputs": [],
   "source": [
    "# Use the index to associate each features vector to the output\n",
    "y_train = y[train.index]\n",
    "y_test = y[test.index]"
   ]
  },
  {
   "cell_type": "code",
   "execution_count": 15,
   "metadata": {},
   "outputs": [
    {
     "name": "stdout",
     "output_type": "stream",
     "text": [
      "Size of initial dataset : 79672 \n",
      "Training set 80 per cent, Size : 63738 \n",
      "Test set 20 per cent, Size : 15934 \n"
     ]
    }
   ],
   "source": [
    "print(\"Size of initial dataset : %d \" %(len(X)))\n",
    "print(\"Training set 80 per cent, Size : %d \" %(len(train)))\n",
    "print(\"Test set 20 per cent, Size : %d \" %(len(test)))"
   ]
  },
  {
   "cell_type": "code",
   "execution_count": 16,
   "metadata": {
    "scrolled": false
   },
   "outputs": [],
   "source": [
    "# Normalize by substracting the mean and diving by the difference between min and max, for each column.\n",
    "train_norm = (train - train.mean()) / (train.max() - train.min())\n",
    "test_norm = (test - train.mean()) / (train.max() - train.min())"
   ]
  },
  {
   "cell_type": "markdown",
   "metadata": {},
   "source": [
    "Note : The mean value and max-min value should be taken from the training set. \n",
    "Indeed, assuming that this is a real case, then we should not normalize using the test data. \n",
    "The values from the training set are approved and correct, while the test set are not, which could then corrupt some samples of the test set. (If we use the mean of the test set, and some of the test samples are really noisy and not adequate, then it will influence the mean and the normalization.) \n",
    "\n",
    "__Thats is why we normalize the test set using the mean/max/min from the training set.__"
   ]
  },
  {
   "cell_type": "code",
   "execution_count": 17,
   "metadata": {
    "scrolled": true
   },
   "outputs": [
    {
     "data": {
      "text/html": [
       "<div>\n",
       "<style scoped>\n",
       "    .dataframe tbody tr th:only-of-type {\n",
       "        vertical-align: middle;\n",
       "    }\n",
       "\n",
       "    .dataframe tbody tr th {\n",
       "        vertical-align: top;\n",
       "    }\n",
       "\n",
       "    .dataframe thead th {\n",
       "        text-align: right;\n",
       "    }\n",
       "</style>\n",
       "<table border=\"1\" class=\"dataframe\">\n",
       "  <thead>\n",
       "    <tr style=\"text-align: right;\">\n",
       "      <th></th>\n",
       "      <th>intake_year</th>\n",
       "      <th>intake_number</th>\n",
       "      <th>age_upon_intake_(years)</th>\n",
       "      <th>time_in_shelter_days</th>\n",
       "      <th>age_upon_outcome_(years)</th>\n",
       "      <th>animal_type_Bird</th>\n",
       "      <th>animal_type_Cat</th>\n",
       "      <th>animal_type_Dog</th>\n",
       "      <th>animal_type_Other</th>\n",
       "      <th>intake_condition_Aged</th>\n",
       "      <th>...</th>\n",
       "      <th>sex_upon_intake_Intact Female</th>\n",
       "      <th>sex_upon_intake_Intact Male</th>\n",
       "      <th>sex_upon_intake_Neutered Male</th>\n",
       "      <th>sex_upon_intake_Spayed Female</th>\n",
       "      <th>sex_upon_intake_Unknown</th>\n",
       "      <th>sex_upon_outcome_Intact Female</th>\n",
       "      <th>sex_upon_outcome_Intact Male</th>\n",
       "      <th>sex_upon_outcome_Neutered Male</th>\n",
       "      <th>sex_upon_outcome_Spayed Female</th>\n",
       "      <th>sex_upon_outcome_Unknown</th>\n",
       "    </tr>\n",
       "  </thead>\n",
       "  <tbody>\n",
       "    <tr>\n",
       "      <th>69004</th>\n",
       "      <td>0.312316</td>\n",
       "      <td>-0.010589</td>\n",
       "      <td>-0.083059</td>\n",
       "      <td>-0.009913</td>\n",
       "      <td>-0.084441</td>\n",
       "      <td>-0.004362</td>\n",
       "      <td>0.631099</td>\n",
       "      <td>-0.571417</td>\n",
       "      <td>-0.05532</td>\n",
       "      <td>-0.003985</td>\n",
       "      <td>...</td>\n",
       "      <td>0.702454</td>\n",
       "      <td>-0.316954</td>\n",
       "      <td>-0.160611</td>\n",
       "      <td>-0.140073</td>\n",
       "      <td>-0.0848</td>\n",
       "      <td>0.883915</td>\n",
       "      <td>-0.122486</td>\n",
       "      <td>-0.355079</td>\n",
       "      <td>-0.321535</td>\n",
       "      <td>-0.0848</td>\n",
       "    </tr>\n",
       "    <tr>\n",
       "      <th>17025</th>\n",
       "      <td>-0.287684</td>\n",
       "      <td>-0.010589</td>\n",
       "      <td>-0.004593</td>\n",
       "      <td>-0.009005</td>\n",
       "      <td>-0.005976</td>\n",
       "      <td>-0.004362</td>\n",
       "      <td>0.631099</td>\n",
       "      <td>-0.571417</td>\n",
       "      <td>-0.05532</td>\n",
       "      <td>-0.003985</td>\n",
       "      <td>...</td>\n",
       "      <td>0.702454</td>\n",
       "      <td>-0.316954</td>\n",
       "      <td>-0.160611</td>\n",
       "      <td>-0.140073</td>\n",
       "      <td>-0.0848</td>\n",
       "      <td>-0.116085</td>\n",
       "      <td>-0.122486</td>\n",
       "      <td>-0.355079</td>\n",
       "      <td>0.678465</td>\n",
       "      <td>-0.0848</td>\n",
       "    </tr>\n",
       "    <tr>\n",
       "      <th>27714</th>\n",
       "      <td>-0.087684</td>\n",
       "      <td>-0.010589</td>\n",
       "      <td>-0.004593</td>\n",
       "      <td>-0.005975</td>\n",
       "      <td>-0.005976</td>\n",
       "      <td>-0.004362</td>\n",
       "      <td>-0.368901</td>\n",
       "      <td>0.428583</td>\n",
       "      <td>-0.05532</td>\n",
       "      <td>-0.003985</td>\n",
       "      <td>...</td>\n",
       "      <td>-0.297546</td>\n",
       "      <td>-0.316954</td>\n",
       "      <td>0.839389</td>\n",
       "      <td>-0.140073</td>\n",
       "      <td>-0.0848</td>\n",
       "      <td>-0.116085</td>\n",
       "      <td>-0.122486</td>\n",
       "      <td>0.644921</td>\n",
       "      <td>-0.321535</td>\n",
       "      <td>-0.0848</td>\n",
       "    </tr>\n",
       "    <tr>\n",
       "      <th>64559</th>\n",
       "      <td>0.312316</td>\n",
       "      <td>0.072744</td>\n",
       "      <td>-0.044593</td>\n",
       "      <td>-0.009015</td>\n",
       "      <td>-0.005976</td>\n",
       "      <td>-0.004362</td>\n",
       "      <td>-0.368901</td>\n",
       "      <td>0.428583</td>\n",
       "      <td>-0.05532</td>\n",
       "      <td>-0.003985</td>\n",
       "      <td>...</td>\n",
       "      <td>-0.297546</td>\n",
       "      <td>0.683046</td>\n",
       "      <td>-0.160611</td>\n",
       "      <td>-0.140073</td>\n",
       "      <td>-0.0848</td>\n",
       "      <td>-0.116085</td>\n",
       "      <td>0.877514</td>\n",
       "      <td>-0.355079</td>\n",
       "      <td>-0.321535</td>\n",
       "      <td>-0.0848</td>\n",
       "    </tr>\n",
       "    <tr>\n",
       "      <th>23592</th>\n",
       "      <td>-0.287684</td>\n",
       "      <td>-0.010589</td>\n",
       "      <td>-0.078018</td>\n",
       "      <td>-0.009160</td>\n",
       "      <td>-0.079400</td>\n",
       "      <td>-0.004362</td>\n",
       "      <td>0.631099</td>\n",
       "      <td>-0.571417</td>\n",
       "      <td>-0.05532</td>\n",
       "      <td>-0.003985</td>\n",
       "      <td>...</td>\n",
       "      <td>-0.297546</td>\n",
       "      <td>-0.316954</td>\n",
       "      <td>-0.160611</td>\n",
       "      <td>0.859927</td>\n",
       "      <td>-0.0848</td>\n",
       "      <td>-0.116085</td>\n",
       "      <td>-0.122486</td>\n",
       "      <td>-0.355079</td>\n",
       "      <td>0.678465</td>\n",
       "      <td>-0.0848</td>\n",
       "    </tr>\n",
       "  </tbody>\n",
       "</table>\n",
       "<p>5 rows × 32 columns</p>\n",
       "</div>"
      ],
      "text/plain": [
       "       intake_year  intake_number  age_upon_intake_(years)  \\\n",
       "69004     0.312316      -0.010589                -0.083059   \n",
       "17025    -0.287684      -0.010589                -0.004593   \n",
       "27714    -0.087684      -0.010589                -0.004593   \n",
       "64559     0.312316       0.072744                -0.044593   \n",
       "23592    -0.287684      -0.010589                -0.078018   \n",
       "\n",
       "       time_in_shelter_days  age_upon_outcome_(years)  animal_type_Bird  \\\n",
       "69004             -0.009913                 -0.084441         -0.004362   \n",
       "17025             -0.009005                 -0.005976         -0.004362   \n",
       "27714             -0.005975                 -0.005976         -0.004362   \n",
       "64559             -0.009015                 -0.005976         -0.004362   \n",
       "23592             -0.009160                 -0.079400         -0.004362   \n",
       "\n",
       "       animal_type_Cat  animal_type_Dog  animal_type_Other  \\\n",
       "69004         0.631099        -0.571417           -0.05532   \n",
       "17025         0.631099        -0.571417           -0.05532   \n",
       "27714        -0.368901         0.428583           -0.05532   \n",
       "64559        -0.368901         0.428583           -0.05532   \n",
       "23592         0.631099        -0.571417           -0.05532   \n",
       "\n",
       "       intake_condition_Aged            ...             \\\n",
       "69004              -0.003985            ...              \n",
       "17025              -0.003985            ...              \n",
       "27714              -0.003985            ...              \n",
       "64559              -0.003985            ...              \n",
       "23592              -0.003985            ...              \n",
       "\n",
       "       sex_upon_intake_Intact Female  sex_upon_intake_Intact Male  \\\n",
       "69004                       0.702454                    -0.316954   \n",
       "17025                       0.702454                    -0.316954   \n",
       "27714                      -0.297546                    -0.316954   \n",
       "64559                      -0.297546                     0.683046   \n",
       "23592                      -0.297546                    -0.316954   \n",
       "\n",
       "       sex_upon_intake_Neutered Male  sex_upon_intake_Spayed Female  \\\n",
       "69004                      -0.160611                      -0.140073   \n",
       "17025                      -0.160611                      -0.140073   \n",
       "27714                       0.839389                      -0.140073   \n",
       "64559                      -0.160611                      -0.140073   \n",
       "23592                      -0.160611                       0.859927   \n",
       "\n",
       "       sex_upon_intake_Unknown  sex_upon_outcome_Intact Female  \\\n",
       "69004                  -0.0848                        0.883915   \n",
       "17025                  -0.0848                       -0.116085   \n",
       "27714                  -0.0848                       -0.116085   \n",
       "64559                  -0.0848                       -0.116085   \n",
       "23592                  -0.0848                       -0.116085   \n",
       "\n",
       "       sex_upon_outcome_Intact Male  sex_upon_outcome_Neutered Male  \\\n",
       "69004                     -0.122486                       -0.355079   \n",
       "17025                     -0.122486                       -0.355079   \n",
       "27714                     -0.122486                        0.644921   \n",
       "64559                      0.877514                       -0.355079   \n",
       "23592                     -0.122486                       -0.355079   \n",
       "\n",
       "       sex_upon_outcome_Spayed Female  sex_upon_outcome_Unknown  \n",
       "69004                       -0.321535                   -0.0848  \n",
       "17025                        0.678465                   -0.0848  \n",
       "27714                       -0.321535                   -0.0848  \n",
       "64559                       -0.321535                   -0.0848  \n",
       "23592                        0.678465                   -0.0848  \n",
       "\n",
       "[5 rows x 32 columns]"
      ]
     },
     "execution_count": 17,
     "metadata": {},
     "output_type": "execute_result"
    }
   ],
   "source": [
    "train_norm.head()"
   ]
  },
  {
   "cell_type": "markdown",
   "metadata": {},
   "source": [
    "Here we can see that the normalization is well performed for each column. For the categorical column like \"animal_type_Cat\" containing only 0 and 1, we can see that there is only 2 different probabilities."
   ]
  },
  {
   "cell_type": "code",
   "execution_count": 18,
   "metadata": {
    "scrolled": false
   },
   "outputs": [
    {
     "data": {
      "text/plain": [
       "intake_year                -2.519558e-15\n",
       "intake_number               1.609741e-16\n",
       "age_upon_intake_(years)     1.603509e-14\n",
       "time_in_shelter_days       -2.502973e-17\n",
       "age_upon_outcome_(years)    2.017310e-14\n",
       "dtype: float64"
      ]
     },
     "execution_count": 18,
     "metadata": {},
     "output_type": "execute_result"
    }
   ],
   "source": [
    "train_norm.mean().head()"
   ]
  },
  {
   "cell_type": "code",
   "execution_count": 19,
   "metadata": {
    "scrolled": false
   },
   "outputs": [
    {
     "data": {
      "text/plain": [
       "intake_year                 1.0\n",
       "intake_number               1.0\n",
       "age_upon_intake_(years)     1.0\n",
       "time_in_shelter_days        1.0\n",
       "age_upon_outcome_(years)    1.0\n",
       "dtype: float64"
      ]
     },
     "execution_count": 19,
     "metadata": {},
     "output_type": "execute_result"
    }
   ],
   "source": [
    "(train_norm.max() - train_norm.min()).head()"
   ]
  },
  {
   "cell_type": "markdown",
   "metadata": {},
   "source": [
    "For the training set we can see that the mean for each column is indeed closed to 0 (really small), and the standard deviation is 1."
   ]
  },
  {
   "cell_type": "code",
   "execution_count": 20,
   "metadata": {},
   "outputs": [
    {
     "data": {
      "text/plain": [
       "intake_year                -0.002319\n",
       "intake_number              -0.000103\n",
       "age_upon_intake_(years)    -0.001410\n",
       "time_in_shelter_days        0.000171\n",
       "age_upon_outcome_(years)   -0.001359\n",
       "dtype: float64"
      ]
     },
     "execution_count": 20,
     "metadata": {},
     "output_type": "execute_result"
    }
   ],
   "source": [
    "test_norm.mean().head()"
   ]
  },
  {
   "cell_type": "code",
   "execution_count": 21,
   "metadata": {
    "scrolled": true
   },
   "outputs": [
    {
     "data": {
      "text/plain": [
       "intake_year                 1.000000\n",
       "intake_number               0.916667\n",
       "age_upon_intake_(years)     0.800000\n",
       "time_in_shelter_days        0.789987\n",
       "age_upon_outcome_(years)    0.800000\n",
       "dtype: float64"
      ]
     },
     "execution_count": 21,
     "metadata": {},
     "output_type": "execute_result"
    }
   ],
   "source": [
    "(test_norm.max() - test_norm.min()).head()"
   ]
  },
  {
   "cell_type": "markdown",
   "metadata": {},
   "source": [
    "For the test set we can see that the mean for each column is indeed closed to 0 but less small than the training set, and the standard deviation is close to 1 but less precise.\n",
    "\n",
    "This is because we are using the values from the training set. If we had more data then the differences should be minimal. This method is more safe to avoid outliers and wrong values from the test set. (In this case we are simulating the test set so this was not really a problem)."
   ]
  },
  {
   "cell_type": "markdown",
   "metadata": {},
   "source": [
    "> We now have a correct dataset splitted in training part and test part with standardized values.\n",
    "We will then use this data correctly prepared to train and implement machine learning models."
   ]
  },
  {
   "cell_type": "markdown",
   "metadata": {},
   "source": [
    "__B)__ Train a logistic regression classifier on your training set. Logistic regression returns probabilities as predictions, so in order to arrive at a binary prediction, you need to put a threshold on the predicted probabilities. For the decision threshold of 0.5, present the performance of your classifier on the test set by displaying the confusion matrix. Based on the confusion matrix, manually calculate accuracy, precision, recall, and F1-score with respect to the positive and the negative class. Vary the value of the threshold in the range from 0 to 1 and visualize the value of accuracy, precision, recall, and F1-score (with respect to both classes) as a function of the threshold. The shelter has a limited capacity and has no other option but to put to sleep animals with a low probability of adoption. What metric (precision, recall, accuracy, or F1-score) and with respect to what class is the most relevant when choosing the threshold in this scenario, and why? Explain your reasoning."
   ]
  },
  {
   "cell_type": "code",
   "execution_count": 21,
   "metadata": {},
   "outputs": [],
   "source": [
    "# Create the model with lbfgs to handle L2 penalty\n",
    "logistic = LogisticRegression(penalty='l2',solver='lbfgs', max_iter = 500)"
   ]
  },
  {
   "cell_type": "code",
   "execution_count": 22,
   "metadata": {},
   "outputs": [
    {
     "data": {
      "text/plain": [
       "LogisticRegression(C=1.0, class_weight=None, dual=False, fit_intercept=True,\n",
       "          intercept_scaling=1, max_iter=500, multi_class='ovr', n_jobs=1,\n",
       "          penalty='l2', random_state=None, solver='lbfgs', tol=0.0001,\n",
       "          verbose=0, warm_start=False)"
      ]
     },
     "execution_count": 22,
     "metadata": {},
     "output_type": "execute_result"
    }
   ],
   "source": [
    "# Train the model\n",
    "logistic.fit(train_norm,y_train)"
   ]
  },
  {
   "cell_type": "code",
   "execution_count": 23,
   "metadata": {},
   "outputs": [
    {
     "data": {
      "text/plain": [
       "array([[0.89585117, 0.10414883],\n",
       "       [0.16618221, 0.83381779],\n",
       "       [0.48813662, 0.51186338],\n",
       "       ...,\n",
       "       [0.24438624, 0.75561376],\n",
       "       [0.44818695, 0.55181305],\n",
       "       [0.23574164, 0.76425836]])"
      ]
     },
     "execution_count": 23,
     "metadata": {},
     "output_type": "execute_result"
    }
   ],
   "source": [
    "logistic.predict_proba(train_norm)"
   ]
  },
  {
   "cell_type": "code",
   "execution_count": 24,
   "metadata": {
    "scrolled": false
   },
   "outputs": [
    {
     "data": {
      "text/plain": [
       "LogisticRegression(C=1.0, class_weight=None, dual=False, fit_intercept=True,\n",
       "          intercept_scaling=1, max_iter=500, multi_class='ovr', n_jobs=1,\n",
       "          penalty='l2', random_state=None, solver='lbfgs', tol=0.0001,\n",
       "          verbose=0, warm_start=False)"
      ]
     },
     "execution_count": 24,
     "metadata": {},
     "output_type": "execute_result"
    }
   ],
   "source": [
    "logistic.fit(train_norm, y_train)"
   ]
  },
  {
   "cell_type": "code",
   "execution_count": 25,
   "metadata": {},
   "outputs": [],
   "source": [
    "# Apply the logistic regression on the test set\n",
    "y_pred = logistic.predict(test_norm)"
   ]
  },
  {
   "cell_type": "code",
   "execution_count": 26,
   "metadata": {},
   "outputs": [
    {
     "data": {
      "text/plain": [
       "array([0, 0, 0, ..., 1, 0, 0])"
      ]
     },
     "execution_count": 26,
     "metadata": {},
     "output_type": "execute_result"
    }
   ],
   "source": [
    "y_pred"
   ]
  },
  {
   "cell_type": "markdown",
   "metadata": {},
   "source": [
    "A confusion matrix C is such that Ci,j is equal to the number of observations known to be in group i but predicted to be in group j.\n",
    "Thus in binary classification, the count of true negatives (TN) is C0,0, false negatives(FN) is C1,0, true positives (TP) is C1,1 and false positives (FP) is C0,1.\n",
    "\n",
    "We define the **Recall** such as **Proportion of data correcly classified in class 1**.\n",
    "\n",
    "\\begin{equation*}Recall = \\frac{TP}{(TP + FN)} \\end{equation*}\n",
    "\n",
    "And **Precision** the **proportion of data in class 1 correctly classified overall data in class 1**.\n",
    "\n",
    "\\begin{equation*}Precision = \\frac{TP}{(TP + FP)} \\end{equation*}\n",
    "\n",
    "The F1 score is a measure of a test's accuracy. It considers both the precision P and the recall R of the test to compute the score. The F1 score is the harmonic average of the precision and recall, where an F1 score reaches its best value at 1 (perfect precision and recall) and worst at 0.\n",
    "\n",
    "\\begin{equation*}F1 =2 * \\frac{Precision * Recall}{(Precision + Recall)} \\end{equation*}\n"
   ]
  },
  {
   "cell_type": "code",
   "execution_count": 27,
   "metadata": {
    "scrolled": false
   },
   "outputs": [
    {
     "data": {
      "text/plain": [
       "array([[7640, 1585],\n",
       "       [1235, 5474]])"
      ]
     },
     "execution_count": 27,
     "metadata": {},
     "output_type": "execute_result"
    }
   ],
   "source": [
    "# Compute de confusion matrix\n",
    "conf_matrice = confusion_matrix(y_test,y_pred)\n",
    "conf_matrice"
   ]
  },
  {
   "cell_type": "code",
   "execution_count": 28,
   "metadata": {},
   "outputs": [
    {
     "name": "stdout",
     "output_type": "stream",
     "text": [
      "7640 1585 1235 5474\n"
     ]
    }
   ],
   "source": [
    "# We manually compute the conf_matrice\n",
    "TP = sum(np.where((y_pred == y_test) & (y_pred == 1) >= 0.5, 1, 0))\n",
    "TN = sum(np.where((y_pred == y_test) & (y_pred == 0) >= 0.5, 1, 0))\n",
    "FP = sum(np.where((y_pred != y_test) & (y_pred == 1) >= 0.5, 1, 0))\n",
    "FN = sum(np.where((y_pred != y_test) & (y_pred == 0) >= 0.5, 1, 0))\n",
    "\n",
    "print(TN, FP, FN, TP)"
   ]
  },
  {
   "cell_type": "code",
   "execution_count": 29,
   "metadata": {},
   "outputs": [
    {
     "name": "stdout",
     "output_type": "stream",
     "text": [
      "Precision: 0.78\n",
      "Recall: 0.82\n",
      "F1: 0.80\n"
     ]
    }
   ],
   "source": [
    "Recall = TP / (TP + FN)\n",
    "Precision = TP / (TP + FP)\n",
    "F1 = 2*Precision*Recall/(Precision+Recall)\n",
    "\n",
    "print(\"Precision: %0.2f\" % (Precision))\n",
    "print(\"Recall: %0.2f\" % (Recall))\n",
    "print(\"F1: %0.2f\" % (F1))"
   ]
  },
  {
   "cell_type": "markdown",
   "metadata": {},
   "source": [
    "Above we used a decision threshold of 0,5. Now we are going to vary the value of the threshold in the range from 0 to 1 and visualize the value of accuracy, precision, recall, and F1-score (with respect to both classes) as a function of the threshold."
   ]
  },
  {
   "cell_type": "code",
   "execution_count": 46,
   "metadata": {},
   "outputs": [],
   "source": [
    "Precision_threshold_class0 = np.zeros(10)\n",
    "Recall_threshold_class0 = np.zeros(10)\n",
    "F1_threshold_class0 = np.zeros(10)\n",
    "\n",
    "Precision_threshold_class1 = np.zeros(10)\n",
    "Recall_threshold_class1 = np.zeros(10)\n",
    "F1_threshold_class1 = np.zeros(10)\n",
    "Accuracy = np.zeros(10)\n",
    "\n",
    "y_pred = logistic.predict_proba(test_norm)\n",
    "\n",
    "for i in range(0, 10):\n",
    "    threshold = i/10;\n",
    "    # Apply the model to test set and apply the decision threshold\n",
    "    y_pred_threshold = np.where(y_pred[:,1] >= threshold, 1, 0)\n",
    "    y_pred_threshold_class0 = np.where(y_pred[:,0] <= threshold, 1, 0)\n",
    "    \n",
    "    # Confusion matrix class 1\n",
    "    TP = sum(np.where((y_pred_threshold == y_test) & (y_pred_threshold == 1) >= 0.5, 1, 0))\n",
    "    TN = sum(np.where((y_pred_threshold == y_test) & (y_pred_threshold == 0) >= 0.5, 1, 0))\n",
    "    FP = sum(np.where((y_pred_threshold != y_test) & (y_pred_threshold == 1) >= 0.5, 1, 0))\n",
    "    FN = sum(np.where((y_pred_threshold != y_test) & (y_pred_threshold == 0) >= 0.5, 1, 0))\n",
    "    \n",
    "    #Compute the precision, recall, F1 and accuracy for class 1\n",
    "    Precision_threshold_class1[i] = TP / (TP + FP)\n",
    "    Recall_threshold_class1[i] = TP / (TP + FN)\n",
    "    F1_threshold_class1[i] = 2*Precision_threshold_class1[i]*Recall_threshold_class1[i]/(Precision_threshold_class1[i]+Recall_threshold_class1[i])\n",
    "    Accuracy[i] = sum((y_pred_threshold == y_test))/len(y_test)*100 \n",
    "     \n",
    "    # Confusion matrix class 0\n",
    "    TP = sum(np.where((y_pred_threshold_class0 == y_test) & (y_pred_threshold_class0 == 1) >= 0.5, 1, 0))\n",
    "    TN = sum(np.where((y_pred_threshold_class0 == y_test) & (y_pred_threshold_class0 == 0) >= 0.5, 1, 0))\n",
    "    FP = sum(np.where((y_pred_threshold_class0 != y_test) & (y_pred_threshold_class0 == 1) >= 0.5, 1, 0))\n",
    "    FN = sum(np.where((y_pred_threshold_class0 != y_test) & (y_pred_threshold_class0 == 0) >= 0.5, 1, 0))\n",
    "    \n",
    "    #Compute the precision, recall, F1 and accuracy for class 0\n",
    "    Precision_threshold_class0[i] = TN / (TN + FN)\n",
    "    Recall_threshold_class0[i] =  TN / (TN + FP)\n",
    "    F1_threshold_class0[i] = 2*Precision_threshold_class0[i]*Recall_threshold_class0[i]/(Precision_threshold_class0[i]+Recall_threshold_class0[i])"
   ]
  },
  {
   "cell_type": "code",
   "execution_count": 47,
   "metadata": {},
   "outputs": [
    {
     "data": {
      "image/png": "[encoded data removed]",
      "text/plain": [
       "<Figure size 864x504 with 1 Axes>"
      ]
     },
     "metadata": {},
     "output_type": "display_data"
    }
   ],
   "source": [
    "# Plot the performance measurment as function of the threshold\n",
    "t = np.linspace(0,1,10)\n",
    "plt.figure(figsize=(12,7))\n",
    "plt.plot(t, 100*Precision_threshold_class1, 'r') \n",
    "plt.plot(t, 100*Recall_threshold_class1, 'b') \n",
    "plt.plot(t, 100*F1_threshold_class1, 'g')\n",
    "plt.plot(t, Accuracy,'k')\n",
    "plt.grid(axis='both')\n",
    "plt.xlabel('Threshold')\n",
    "plt.legend(['Precision','Recall','F1','Accuracy'])\n",
    "plt.ylabel('%')\n",
    "plt.title('Performance as a function of the threshold class 1')\n",
    "plt.show()"
   ]
  },
  {
   "cell_type": "markdown",
   "metadata": {},
   "source": [
    "The curves are not really smooth because we used a step of 0,1. But as we can see all curves in one graph, it can be very easy to analyse and compare. First of all there is only the precision curve which stay rising. Indeed, the more the threshold is close to 1, the more the model classify the feature in class 1, and so increas the precision.\n",
    "\n",
    "Nevertherless, the Recall function is downwarding. Because at the contrary, the more the threshold is close to 1, the more we classify feature of class 0 in class 1.\n",
    "If we look at the F1 curve, it never reach 1. Its maximal value is 80 for a threshold of 0,5.\n",
    "\n",
    "Total accuracy is maximised for a threshold of 0.6, but this does not maximise either the precision or recall. To get more precise, we are going to have a look to the precisionn-curve function."
   ]
  },
  {
   "cell_type": "code",
   "execution_count": 48,
   "metadata": {},
   "outputs": [
    {
     "data": {
      "image/png": "[encoded data removed]",
      "text/plain": [
       "<Figure size 864x504 with 1 Axes>"
      ]
     },
     "metadata": {},
     "output_type": "display_data"
    }
   ],
   "source": [
    "# Plot the performance measurment as function of the threshold\n",
    "t = np.linspace(0,1,10)\n",
    "plt.figure(figsize=(12,7))\n",
    "plt.plot(t, 100*Precision_threshold_class0, 'r') \n",
    "plt.plot(t, 100*Recall_threshold_class0, 'b') \n",
    "plt.plot(t, 100*F1_threshold_class0, 'g')\n",
    "plt.plot(t, Accuracy,'k')\n",
    "plt.grid(axis='both')\n",
    "plt.xlabel('Threshold')\n",
    "plt.legend(['Precision','Recall','F1','Accuracy'])\n",
    "plt.ylabel('%')\n",
    "plt.title('Performance as a function of the threshold class 0')\n",
    "plt.show()"
   ]
  },
  {
   "cell_type": "code",
   "execution_count": 49,
   "metadata": {
    "scrolled": false
   },
   "outputs": [
    {
     "data": {
      "text/plain": [
       "<function matplotlib.pyplot.show(*args, **kw)>"
      ]
     },
     "execution_count": 49,
     "metadata": {},
     "output_type": "execute_result"
    },
    {
     "data": {
      "image/png": "[encoded data removed]",
      "text/plain": [
       "<Figure size 1080x432 with 2 Axes>"
      ]
     },
     "metadata": {},
     "output_type": "display_data"
    }
   ],
   "source": [
    "plt.figure(figsize=(15,6))\n",
    "\n",
    "plt.subplot(121)\n",
    "plt.plot(Recall_threshold_class1,Precision_threshold_class1)\n",
    "plt.grid(axis='both')\n",
    "plt.xlabel('Recall')\n",
    "plt.ylabel('Precision')\n",
    "plt.title('Precision-Recall curve for class 1')\n",
    "plt.show\n",
    "\n",
    "plt.subplot(122)\n",
    "plt.plot(Recall_threshold_class0,Precision_threshold_class0)\n",
    "plt.grid(axis='both')\n",
    "plt.xlabel('Recall')\n",
    "plt.ylabel('Precision')\n",
    "plt.title('Precision-Recall curve for class 0')\n",
    "plt.show"
   ]
  },
  {
   "cell_type": "markdown",
   "metadata": {},
   "source": [
    "Precision is sort of like accuracy but it looks only at the data you predicted positive (in this example you’re only looking at data where you predict a adoption). Recall is also sort of like accuracy but it looks only at the data that is “relevant”. But there will be always a tradeoff between classifying correctly all data points of the class OR making sure each class contains data point of only one class.\n",
    "\n",
    "If you change a binary classifier parameter (the threshold for a logistic regression classifier in our case), it turns out the precision and recall will change. But if the precision increases (the chance of adopting an animal), the recall (the number of betting opportunities to get an animal adopted) will decrease. And vice versa\n",
    "\n",
    "As the shelter has a limited capacity and has no other option but to put to sleep animals with a low probability of adoption, the best threshold is the one that give an acceptable tradeoff between Recall and Precision. We do not want to put to sleep an adoptable animal, so focus on the **recall**. In our case, the best threshold parameter would be for a recall value of 0.8, which corresponds to a threshold around **0.6** for class 1, being adopted (where recall and precision curves crossed each other in the first graph). For a 0.6 threshold, the F1 score is really close to its maximal value. So it helps us to comfirm in our choice."
   ]
  },
  {
   "cell_type": "markdown",
   "metadata": {},
   "source": [
    "**Question C)** Reduce the number of features by selecting the subset of the k best features. Use greedy backward selection to iteratively remove features. Evaluate performance and visualize the result using 5-fold cross-validation on the training set as a function of k, where k = 1, 5, 10, 15, 20, 25, 30. Choose the optimal k and justify your choice. Interpret the top-k features and their impact on the probability of adoption."
   ]
  },
  {
   "cell_type": "code",
   "execution_count": 34,
   "metadata": {},
   "outputs": [],
   "source": [
    "K = [1, 5, 10, 15, 20, 25, 30]"
   ]
  },
  {
   "cell_type": "code",
   "execution_count": 35,
   "metadata": {},
   "outputs": [
    {
     "data": {
      "text/plain": [
       "(63738, 32)"
      ]
     },
     "execution_count": 35,
     "metadata": {},
     "output_type": "execute_result"
    }
   ],
   "source": [
    "train_norm.shape"
   ]
  },
  {
   "cell_type": "code",
   "execution_count": 36,
   "metadata": {},
   "outputs": [],
   "source": [
    "features = list(train_norm)"
   ]
  },
  {
   "cell_type": "markdown",
   "metadata": {},
   "source": [
    "So actually, in our train set, there are 32 differents features available (i.e 32 columns). So we are going to train a model using the k best defined by greedy backward selection.\n",
    "\n",
    "The Recursive Feature Elimination (RFE) method is a feature selection approach. It works by recursively removing attributes and building a model on those attributes that remain. It uses the model accuracy to identify which attributes (and combination of attributes) contribute the most to predicting the target attribute."
   ]
  },
  {
   "cell_type": "code",
   "execution_count": 37,
   "metadata": {},
   "outputs": [
    {
     "name": "stdout",
     "output_type": "stream",
     "text": [
      "Number of feature selected : 1 \n",
      "[0.67430185 0.67579228 0.67053655 0.67608065 0.67929709]\n",
      "Number of feature selected : 5 \n",
      "[0.76992469 0.76906181 0.77196423 0.76802385 0.77069114]\n",
      "Number of feature selected : 10 \n",
      "[0.81401004 0.81361782 0.81424537 0.81540755 0.80269867]\n",
      "Number of feature selected : 15 \n",
      "[0.81526514 0.81401004 0.81565736 0.81572135 0.81697654]\n",
      "Number of feature selected : 20 \n",
      "[0.81730468 0.81769689 0.81714779 0.81854554 0.82050679]\n",
      "Number of feature selected : 25 \n",
      "[0.81706934 0.81801067 0.818246   0.81893779 0.82097748]\n",
      "Number of feature selected : 30 \n",
      "[0.81730468 0.81801067 0.81801067 0.81870244 0.82082059]\n"
     ]
    }
   ],
   "source": [
    "# Create a base classifier\n",
    "model = LogisticRegression(penalty='l2',solver='lbfgs', max_iter = 500);\n",
    "CV_scores = np.zeros(len(K));\n",
    "\n",
    "i=0;\n",
    "for k in K :\n",
    "    # create the RFE model and select 3 attributes\n",
    "    rfe = RFE(model, k, step=1, verbose=0)\n",
    "    rfe = rfe.fit(train_norm, y_train)\n",
    "    print('Number of feature selected : %d ' %rfe.n_features_)\n",
    "    \n",
    "    # Do the cross validation for model \n",
    "    cross_val = cross_val_score(rfe, train_norm, y_train, cv=5, scoring='accuracy',n_jobs=-1)\n",
    "    print(cross_val)\n",
    "    \n",
    "    # Compute the mean of the CV and keep it\n",
    "    CV_scores[i] = cross_val.mean()\n",
    "    i += 1;"
   ]
  },
  {
   "cell_type": "code",
   "execution_count": 70,
   "metadata": {},
   "outputs": [],
   "source": [
    "# return all possible combination of k feature among the list of all features\n",
    "def combinaison(k,features_list) :\n",
    "    return list(itertools.combinations(features_list, k))"
   ]
  },
  {
   "cell_type": "code",
   "execution_count": 102,
   "metadata": {},
   "outputs": [
    {
     "data": {
      "text/plain": [
       "'age_upon_intake_(years)'"
      ]
     },
     "execution_count": 102,
     "metadata": {},
     "output_type": "execute_result"
    }
   ],
   "source": [
    "i = combinaison(2,features)\n",
    "i[1][1]\n",
    "#train_norm[i[1][1]]"
   ]
  },
  {
   "cell_type": "code",
   "execution_count": 147,
   "metadata": {},
   "outputs": [
    {
     "data": {
      "text/html": [
       "<div>\n",
       "<style scoped>\n",
       "    .dataframe tbody tr th:only-of-type {\n",
       "        vertical-align: middle;\n",
       "    }\n",
       "\n",
       "    .dataframe tbody tr th {\n",
       "        vertical-align: top;\n",
       "    }\n",
       "\n",
       "    .dataframe thead th {\n",
       "        text-align: right;\n",
       "    }\n",
       "</style>\n",
       "<table border=\"1\" class=\"dataframe\">\n",
       "  <thead>\n",
       "    <tr style=\"text-align: right;\">\n",
       "      <th></th>\n",
       "      <th>sex_upon_outcome_Unknown</th>\n",
       "    </tr>\n",
       "  </thead>\n",
       "  <tbody>\n",
       "    <tr>\n",
       "      <th>69004</th>\n",
       "      <td>-0.0848</td>\n",
       "    </tr>\n",
       "    <tr>\n",
       "      <th>17025</th>\n",
       "      <td>-0.0848</td>\n",
       "    </tr>\n",
       "    <tr>\n",
       "      <th>27714</th>\n",
       "      <td>-0.0848</td>\n",
       "    </tr>\n",
       "    <tr>\n",
       "      <th>64559</th>\n",
       "      <td>-0.0848</td>\n",
       "    </tr>\n",
       "    <tr>\n",
       "      <th>23592</th>\n",
       "      <td>-0.0848</td>\n",
       "    </tr>\n",
       "  </tbody>\n",
       "</table>\n",
       "</div>"
      ],
      "text/plain": [
       "       sex_upon_outcome_Unknown\n",
       "69004                   -0.0848\n",
       "17025                   -0.0848\n",
       "27714                   -0.0848\n",
       "64559                   -0.0848\n",
       "23592                   -0.0848"
      ]
     },
     "execution_count": 147,
     "metadata": {},
     "output_type": "execute_result"
    }
   ],
   "source": [
    "test = train_norm['sex_upon_outcome_Unknown']\n",
    "test = test.to_frame()\n",
    "test.head()"
   ]
  },
  {
   "cell_type": "code",
   "execution_count": 143,
   "metadata": {},
   "outputs": [],
   "source": [
    "for k in 1,2 :\n",
    "    # Return the combinaison of k features among features list\n",
    "    feature_selection = combinaison(k,features) \n",
    "\n",
    "    for combinaison_features in feature_selection :\n",
    "        # The i th row feature_selection combinaison\n",
    "        features_i = combinaison_features;\n",
    "        #print(features_i)\n",
    "        #print('___________________________________________')\n",
    "        \n",
    "        for element in features_i :\n",
    "            train_selected = pd.Series()\n",
    "            train_selected[element] = train_norm[(element)]\n",
    "            train_selected.to_frame()\n",
    "            #print(train_selected)\n",
    "    train_selected\n",
    "        #rfe = rfe.fit(train_selected, y_train)\n",
    "        "
   ]
  },
  {
   "cell_type": "code",
   "execution_count": 145,
   "metadata": {},
   "outputs": [
    {
     "data": {
      "text/plain": [
       "sex_upon_outcome_Unknown    69004   -0.0848\n",
       "17025   -0.0848\n",
       "27714   -0.084...\n",
       "dtype: object"
      ]
     },
     "execution_count": 145,
     "metadata": {},
     "output_type": "execute_result"
    }
   ],
   "source": [
    "train_selected.to_frame()\n",
    "train_selected"
   ]
  },
  {
   "cell_type": "markdown",
   "metadata": {},
   "source": [
    "As we can see above, for each cross validation made with k selected feature, the cross validation returns an array of scores of the estimator for each fold of the cross validation.\n",
    "\n",
    "So after each CV, we compute the means of the score and plot below the cross validation score depending on the number of features selected"
   ]
  },
  {
   "cell_type": "code",
   "execution_count": 38,
   "metadata": {},
   "outputs": [
    {
     "data": {
      "image/png": "[encoded data removed]",
      "text/plain": [
       "<Figure size 432x288 with 1 Axes>"
      ]
     },
     "metadata": {},
     "output_type": "display_data"
    }
   ],
   "source": [
    "# Plot number of features VS. cross-validation scores\n",
    "plt.figure()\n",
    "plt.xlabel(\"Number of features selected\")\n",
    "plt.ylabel(\"Cross validation score (nb of correct classifications)\")\n",
    "plt.grid(axis='both')\n",
    "plt.title('5-fold CV as a function of k')\n",
    "plt.plot(K, CV_scores)\n",
    "plt.show()   "
   ]
  },
  {
   "cell_type": "markdown",
   "metadata": {},
   "source": [
    "So as we can see, the model rapidly reaches its best performance for k=10. So only one third of the feature is sufficient to build our model for an accuracy of 80%. Using more than the 10 best feature will not bring more usefull information and will increase the computational cost. Now let's have a look at those best 10 features"
   ]
  },
  {
   "cell_type": "code",
   "execution_count": 39,
   "metadata": {},
   "outputs": [
    {
     "name": "stdout",
     "output_type": "stream",
     "text": [
      "[False False  True  True False  True False False False False False False\n",
      " False False False False False False  True False  True  True  True  True\n",
      " False False False False False  True  True False]\n"
     ]
    }
   ],
   "source": [
    "# Do the feature selection for k=10\n",
    "rfe = RFE(model, 10, step=1, verbose=0)\n",
    "rfe = rfe.fit(train_norm, y_train)\n",
    "best_10 = rfe.support_\n",
    "print(best_10)"
   ]
  },
  {
   "cell_type": "code",
   "execution_count": 40,
   "metadata": {},
   "outputs": [
    {
     "data": {
      "text/plain": [
       "array([ 2,  3,  5, 18, 20, 21, 22, 23, 29, 30])"
      ]
     },
     "execution_count": 40,
     "metadata": {},
     "output_type": "execute_result"
    }
   ],
   "source": [
    "# Get the index of the best features in the list\n",
    "best_features_index = [i for i, x in enumerate(best_10) if x]\n",
    "best_features_index = np.array(best_features_index)\n",
    "best_features_index"
   ]
  },
  {
   "cell_type": "code",
   "execution_count": 41,
   "metadata": {},
   "outputs": [
    {
     "data": {
      "text/plain": [
       "['age_upon_intake_(years)',\n",
       " 'time_in_shelter_days',\n",
       " 'animal_type_Bird',\n",
       " 'intake_type_Owner Surrender',\n",
       " 'intake_type_Stray',\n",
       " 'intake_type_Wildlife',\n",
       " 'sex_upon_intake_Intact Female',\n",
       " 'sex_upon_intake_Intact Male',\n",
       " 'sex_upon_outcome_Neutered Male',\n",
       " 'sex_upon_outcome_Spayed Female']"
      ]
     },
     "execution_count": 41,
     "metadata": {},
     "output_type": "execute_result"
    }
   ],
   "source": [
    "# Get the best 10 features\n",
    "best_features = [features[index] for index in best_features_index]\n",
    "best_features"
   ]
  },
  {
   "cell_type": "markdown",
   "metadata": {},
   "source": [
    "So now we are able to see in more details which features are the most relevants for an adoption. At first comes the age, which might not be surprising. An old animal has less chance to get adopted than a young one. Then comes the time remains in the shelter + the type. \n",
    "\n",
    "Is it obvious than the type comes in the top 3 best features, but only the bird one. So either people adopt birds or not. Also bird is really different than a cat or a dog (animals which require more contraints than a bird), this is why this features is powerfull to seperate better the data.\n",
    "\n",
    "The three following features are concerning the intake type. For example, an animal strayed by its owner can make people more sentimental toward it. Then the sex at the intake and outcome. It seems that people are also interested int the sex and either the animal is neutered or not. "
   ]
  },
  {
   "cell_type": "markdown",
   "metadata": {},
   "source": [
    "**Question D)** Train a random forest. Use 5-fold cross-validation on the training set to fine-tune the parameters of the classifier using a grid search on the number of estimators \"n_estimators\" and the max depth of the trees \"max_depth\". For the chosen parameters, estimate the performance of your classifier on the test set by presenting the confusion matrix, accuracy, precision, recall, and F1-score with respect to both classes and compare the performance with the performance of the logistic regression. Interpret the results."
   ]
  },
  {
   "cell_type": "code",
   "execution_count": null,
   "metadata": {},
   "outputs": [],
   "source": [
    "def get_n_estimators_gridsearch():\n",
    "    try:\n",
    "        return load_pickle('n_estimators')\n",
    "    except (FileNotFoundError, EOFError) as e:\n",
    "        vec_n_estimators = []\n",
    "        vec_precision = []\n",
    "        vec_recall = []\n",
    "        \n",
    "        for val_n_estimators in range(10, 400, 10):\n",
    "            random_forest = RandomForestClassifier(n_estimators= val_n_estimators)\n",
    "            precision_rf = cross_val_score(random_forest, train_norm, y_train, cv=5, scoring=\"precision\")\n",
    "            recall_rf = cross_val_score(random_forest, train_norm, y_train, cv=5, scoring=\"recall\")\n",
    "            vec_n_estimators.append(val_n_estimators)\n",
    "            vec_precision.append(precision_rf.mean())\n",
    "            vec_recall.append(recall_rf.mean())\n",
    "        \n",
    "        #Compute F1 score for all values\n",
    "        vec_F1 = []\n",
    "        for i in range(len(vec_precision)):\n",
    "            vec_F1.append( 2*(vec_precision[i]*vec_recall[i])/(vec_precision[i]+ vec_recall[i]) )\n",
    "        \n",
    "       df_n_estimators = pd.DataFrame({'n_estimators': vec_n_estimators,\n",
    "                                            'Precision': vec_precision,\n",
    "                                            'Recall': vec_recall,\n",
    "                                            'F1 score': vec_F1})\n",
    "        save_pickle(df_n_estimators, 'n_estimators')\n",
    "        return df_max_depth\n"
   ]
  },
  {
   "cell_type": "markdown",
   "metadata": {},
   "source": [
    "The cost increases when we set a greater value for n_estimations."
   ]
  },
  {
   "cell_type": "code",
   "execution_count": null,
   "metadata": {},
   "outputs": [],
   "source": [
    "df_n_estimators = get_n_estimators_gridsearch()"
   ]
  },
  {
   "cell_type": "code",
   "execution_count": null,
   "metadata": {
    "scrolled": false
   },
   "outputs": [],
   "source": [
    "df_n_estimators.head()"
   ]
  },
  {
   "cell_type": "markdown",
   "metadata": {},
   "source": [
    "__TRACE COURBE__"
   ]
  },
  {
   "cell_type": "code",
   "execution_count": null,
   "metadata": {},
   "outputs": [],
   "source": [
    "best_n_estimators = df_n_estimators['n_estimators'][df_n_estimators['F1 score'].idxmax()]\n",
    "print(best_n_estimators)"
   ]
  },
  {
   "cell_type": "code",
   "execution_count": null,
   "metadata": {},
   "outputs": [],
   "source": [
    "def get_max_depth_gridsearch():\n",
    "    try:\n",
    "        return load_pickle('max_depth')\n",
    "    except (FileNotFoundError, EOFError) as e:\n",
    "        vec_max_depth = []\n",
    "        vec_precision_max_depth = []\n",
    "        vec_recall_max_depth = []\n",
    "        \n",
    "        for val_max_depth in range(3, 20, 1):\n",
    "            random_forest = RandomForestClassifier(n_estimators= 310, max_depth = val_max_depth)\n",
    "            precision_rf = cross_val_score(random_forest, train_norm, y_train, cv=5, scoring=\"precision\")\n",
    "            recall_rf = cross_val_score(random_forest, train_norm, y_train, cv=5, scoring=\"recall\")\n",
    "            vec_max_depth.append(val_max_depth)\n",
    "            vec_precision_max_depth.append(precision_rf.mean())\n",
    "            vec_recall_max_depth.append(recall_rf.mean())\n",
    "            print(val_max_depth)\n",
    "        \n",
    "        vec_F1 = []\n",
    "        for i in range(len(vec_precision_max_depth)):\n",
    "            vec_F1.append( 2*(vec_precision_max_depth[i]*vec_recall_max_depth[i])/(vec_precision_max_depth[i]+ vec_recall_max_depth[i]) )\n",
    "        \n",
    "        df_max_depth = pd.DataFrame({'max_depth': vec_max_depth,\n",
    "                                    'Precision': vec_precision_max_depth,\n",
    "                                    'Recall': vec_recall_max_depth,\n",
    "                                    'F1 score': vec_F1})\n",
    "        save_pickle(df_max_depth, 'max_depth')\n",
    "        return df_max_depth"
   ]
  },
  {
   "cell_type": "code",
   "execution_count": null,
   "metadata": {},
   "outputs": [],
   "source": [
    "max_depth = get_max_depth_gridsearch()"
   ]
  },
  {
   "cell_type": "code",
   "execution_count": null,
   "metadata": {
    "scrolled": false
   },
   "outputs": [],
   "source": [
    "max_depth.head()"
   ]
  },
  {
   "cell_type": "markdown",
   "metadata": {},
   "source": [
    "__TRACE COURBE__"
   ]
  },
  {
   "cell_type": "code",
   "execution_count": null,
   "metadata": {},
   "outputs": [],
   "source": [
    "best_maxdepth = max_depth['max_depth'][max_depth['F1 score'].idxmax()]\n",
    "print(best_maxdepth)"
   ]
  },
  {
   "cell_type": "code",
   "execution_count": null,
   "metadata": {
    "scrolled": true
   },
   "outputs": [],
   "source": [
    "random_forest = RandomForestClassifier(n_estimators= best_n_estimators, max_depth = best_maxdepth)\n",
    "random_forest.fit(train_norm, y_train)"
   ]
  },
  {
   "cell_type": "code",
   "execution_count": null,
   "metadata": {},
   "outputs": [],
   "source": [
    "pred_rf = random_forest.predict_proba(test_norm)"
   ]
  },
  {
   "cell_type": "code",
   "execution_count": null,
   "metadata": {},
   "outputs": [],
   "source": [
    "pred_rf_val = np.where(pred_rf[:,1] >= 0.5, 1, 0)"
   ]
  },
  {
   "cell_type": "code",
   "execution_count": null,
   "metadata": {},
   "outputs": [],
   "source": [
    "pred_rf_val"
   ]
  },
  {
   "cell_type": "code",
   "execution_count": null,
   "metadata": {},
   "outputs": [],
   "source": [
    "acc = sum((pred_rf_val == y_test))/len(y_test)*100\n",
    "print(\"Accuracy : %f \" % (acc))"
   ]
  },
  {
   "cell_type": "code",
   "execution_count": null,
   "metadata": {},
   "outputs": [],
   "source": [
    "true_positive = sum(np.where((pred_rf_val == y_test) & (pred_rf_val == 1) >= 0.5, 1, 0))\n",
    "true_negative = sum(np.where((pred_rf_val == y_test) & (pred_rf_val == 0) >= 0.5, 1, 0))\n",
    "false_positive = sum(np.where((pred_rf_val != y_test) & (pred_rf_val == 1) >= 0.5, 1, 0))\n",
    "false_negative = sum(np.where((pred_rf_val != y_test) & (pred_rf_val == 0) >= 0.5, 1, 0))"
   ]
  },
  {
   "cell_type": "code",
   "execution_count": null,
   "metadata": {},
   "outputs": [],
   "source": [
    "model_accuracy = (true_positive+true_negative)/len(pred_rf_val)"
   ]
  },
  {
   "cell_type": "code",
   "execution_count": null,
   "metadata": {},
   "outputs": [],
   "source": [
    "print(model_accuracy)"
   ]
  },
  {
   "cell_type": "code",
   "execution_count": null,
   "metadata": {},
   "outputs": [],
   "source": [
    "model_precision = (true_positive)/(true_positive + false_positive)"
   ]
  },
  {
   "cell_type": "code",
   "execution_count": null,
   "metadata": {},
   "outputs": [],
   "source": [
    "print(model_precision)"
   ]
  },
  {
   "cell_type": "code",
   "execution_count": null,
   "metadata": {},
   "outputs": [],
   "source": [
    "model_recall = (true_positive)/(true_positive + false_negative)"
   ]
  },
  {
   "cell_type": "code",
   "execution_count": null,
   "metadata": {},
   "outputs": [],
   "source": [
    "print(model_recall)"
   ]
  },
  {
   "cell_type": "code",
   "execution_count": null,
   "metadata": {},
   "outputs": [],
   "source": [
    "model_f1score = 2*(model_precision*model_recall)/(model_precision+model_recall)"
   ]
  },
  {
   "cell_type": "code",
   "execution_count": null,
   "metadata": {},
   "outputs": [],
   "source": [
    "print(model_f1score)"
   ]
  },
  {
   "cell_type": "markdown",
   "metadata": {},
   "source": [
    "__COMPARE WITH LOGISTIC REGRESSION WHEN MAX IS DONE__"
   ]
  },
  {
   "cell_type": "code",
   "execution_count": null,
   "metadata": {},
   "outputs": [],
   "source": []
  }
 ],
 "metadata": {
  "kernelspec": {
   "display_name": "Python [default]",
   "language": "python",
   "name": "python3"
  },
  "language_info": {
   "codemirror_mode": {
    "name": "ipython",
    "version": 3
   },
   "file_extension": ".py",
   "mimetype": "text/x-python",
   "name": "python",
   "nbconvert_exporter": "python",
   "pygments_lexer": "ipython3",
   "version": "3.6.5"
  },
  "varInspector": {
   "cols": {
    "lenName": 16,
    "lenType": 16,
    "lenVar": 40
   },
   "kernels_config": {
    "python": {
     "delete_cmd_postfix": "",
     "delete_cmd_prefix": "del ",
     "library": "var_list.py",
     "varRefreshCmd": "print(var_dic_list())"
    },
    "r": {
     "delete_cmd_postfix": ") ",
     "delete_cmd_prefix": "rm(",
     "library": "var_list.r",
     "varRefreshCmd": "cat(var_dic_list()) "
    }
   },
   "types_to_exclude": [
    "module",
    "function",
    "builtin_function_or_method",
    "instance",
    "_Feature"
   ],
   "window_display": false
  }
 },
 "nbformat": 4,
 "nbformat_minor": 2
}
