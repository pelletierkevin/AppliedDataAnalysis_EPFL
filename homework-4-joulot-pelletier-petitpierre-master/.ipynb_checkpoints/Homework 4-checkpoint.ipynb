{
 "cells": [
  {
   "cell_type": "markdown",
   "metadata": {},
   "source": [
    "## Assignment 4: Obsevational Studies and Applied ML\n",
    "\n",
    "### Deadline\n",
    "November 21st,11:59PM\n",
    "\n",
    "### Important notes\n",
    "\n",
    "Make sure you push on GitHub your notebook with all the cells already evaluated. Don't forget to add a textual description of your thought process, the assumptions you made, and the solution you implemented. Back up any hypotheses and claims with data, since this is an important aspect of the course. Please write all your comments in English, and use meaningful variable names in your code. Your repo should have a single notebook (plus the data files necessary) in the master branch. If there are multiple notebooks present, we will not grade anything.\n",
    "\n",
    "Use this legendary link to create your repository: [link](https://classroom.github.com/g/YXtsr0QK)"
   ]
  },
  {
   "cell_type": "code",
   "execution_count": 1,
   "metadata": {},
   "outputs": [],
   "source": [
    "import pandas as pd\n",
    "import numpy as np\n",
    "import pickle\n",
    "import matplotlib.pyplot as plt\n",
    "from sklearn.linear_model import LinearRegression, LogisticRegression\n",
    "from sklearn.preprocessing import OneHotEncoder\n",
    "from sklearn.ensemble import RandomForestClassifier\n",
    "from sklearn.metrics import confusion_matrix\n",
    "from sklearn.feature_selection import RFE\n",
    "from sklearn.feature_selection import RFECV\n",
    "from pandas.plotting import scatter_matrix\n",
    "from sklearn.model_selection import cross_val_predict\n",
    "from sklearn.model_selection import cross_val_score\n",
    "import seaborn as sns\n",
    "%matplotlib inline"
   ]
  },
  {
   "cell_type": "code",
   "execution_count": 2,
   "metadata": {},
   "outputs": [],
   "source": [
    "data_folder = './data/'"
   ]
  },
  {
   "cell_type": "code",
   "execution_count": 3,
   "metadata": {},
   "outputs": [],
   "source": [
    "# Store a variable (after heavy computations) in a file\n",
    "def save_pickle(result, file_path = 'pickle'):\n",
    "    with open(file_path, 'wb') as file:\n",
    "        pickle.dump(result, file)"
   ]
  },
  {
   "cell_type": "code",
   "execution_count": 4,
   "metadata": {},
   "outputs": [],
   "source": [
    "# Load the variable using the file\n",
    "def load_pickle(file_path):\n",
    "    with open(file_path, 'rb') as file:\n",
    "        return pickle.load(file)"
   ]
  },
  {
   "cell_type": "markdown",
   "metadata": {},
   "source": [
    "<br>\n",
    "\n",
    "---\n",
    "\n",
    "<br>\n",
    "\n",
    "## Task 1: Boosting the economy by incentivizing self-employment\n",
    "\n",
    "Assume the biggest priority of the local government in 2018 is to increase per-capita income. To do so, the officials plan to adopt a strategy for incentivizing self-employment through a series of campaigns, educational programs, and dedicated funds.\n",
    "\n",
    "Since it is unethical and impossible in this setting to run a controlled experiment involving citizens (e.g., fire employees and force them to self-employ), the officials have asked you, the data scientist, to establish the effect of self-employment on the economy, relying on observational data.\n",
    "\n",
    "**A)** You will be working with the full US 2015 census dataset (acs2015_county_data.csv, available at https://www.kaggle.com/muonneutrino/us-census-demographic-data#acs2015_county_data.csv). Using suitable methods, determine and quantify the dependency between the percentage of self-employed citizens and per capita income across all 3,212 US counties. Do citizens in counties that have a higher percentage of self-employed people earn more per capita?\n",
    "\n",
    "**B)** The pilot program will involve all counties within a limited set of three US states. Set A includes Wisconsin, Tennessee, and  Minnesota. Quantify the dependency of per-capita income on self-employment rates across all the counties in set A.\n",
    "\n",
    "**C)** In which state within set A is the observed effect of self-employment on per-capita income the strongest?\n",
    "\n",
    "**D)** Set B includes New Jersey, Kansas, and Rhode Island. Repeat the analysis from steps B and C above, but now for set B. In which of the two sets A and B (if any) would you recommend incentivizing self-employment? Explain your reasoning.\n",
    "\n",
    "Hint: It is useful to add a notion of confidence to your results and explore the data visually. You are allowed to use the SciPy library."
   ]
  },
  {
   "cell_type": "markdown",
   "metadata": {},
   "source": [
    "<br>\n",
    "\n",
    "### Importing the data\n",
    "\n",
    "<br>"
   ]
  },
  {
   "cell_type": "code",
   "execution_count": 5,
   "metadata": {},
   "outputs": [],
   "source": [
    "task_1_folder = data_folder + 'Task1/'"
   ]
  },
  {
   "cell_type": "markdown",
   "metadata": {},
   "source": [
    "Loading the csv file in a dataframe:"
   ]
  },
  {
   "cell_type": "code",
   "execution_count": 6,
   "metadata": {
    "scrolled": false
   },
   "outputs": [
    {
     "data": {
      "text/html": [
       "<div>\n",
       "<style scoped>\n",
       "    .dataframe tbody tr th:only-of-type {\n",
       "        vertical-align: middle;\n",
       "    }\n",
       "\n",
       "    .dataframe tbody tr th {\n",
       "        vertical-align: top;\n",
       "    }\n",
       "\n",
       "    .dataframe thead th {\n",
       "        text-align: right;\n",
       "    }\n",
       "</style>\n",
       "<table border=\"1\" class=\"dataframe\">\n",
       "  <thead>\n",
       "    <tr style=\"text-align: right;\">\n",
       "      <th></th>\n",
       "      <th>CensusId</th>\n",
       "      <th>State</th>\n",
       "      <th>County</th>\n",
       "      <th>TotalPop</th>\n",
       "      <th>Men</th>\n",
       "      <th>Women</th>\n",
       "      <th>Hispanic</th>\n",
       "      <th>White</th>\n",
       "      <th>Black</th>\n",
       "      <th>Native</th>\n",
       "      <th>...</th>\n",
       "      <th>Walk</th>\n",
       "      <th>OtherTransp</th>\n",
       "      <th>WorkAtHome</th>\n",
       "      <th>MeanCommute</th>\n",
       "      <th>Employed</th>\n",
       "      <th>PrivateWork</th>\n",
       "      <th>PublicWork</th>\n",
       "      <th>SelfEmployed</th>\n",
       "      <th>FamilyWork</th>\n",
       "      <th>Unemployment</th>\n",
       "    </tr>\n",
       "  </thead>\n",
       "  <tbody>\n",
       "    <tr>\n",
       "      <th>0</th>\n",
       "      <td>1001</td>\n",
       "      <td>Alabama</td>\n",
       "      <td>Autauga</td>\n",
       "      <td>55221</td>\n",
       "      <td>26745</td>\n",
       "      <td>28476</td>\n",
       "      <td>2.6</td>\n",
       "      <td>75.8</td>\n",
       "      <td>18.5</td>\n",
       "      <td>0.4</td>\n",
       "      <td>...</td>\n",
       "      <td>0.5</td>\n",
       "      <td>1.3</td>\n",
       "      <td>1.8</td>\n",
       "      <td>26.5</td>\n",
       "      <td>23986</td>\n",
       "      <td>73.6</td>\n",
       "      <td>20.9</td>\n",
       "      <td>5.5</td>\n",
       "      <td>0.0</td>\n",
       "      <td>7.6</td>\n",
       "    </tr>\n",
       "    <tr>\n",
       "      <th>1</th>\n",
       "      <td>1003</td>\n",
       "      <td>Alabama</td>\n",
       "      <td>Baldwin</td>\n",
       "      <td>195121</td>\n",
       "      <td>95314</td>\n",
       "      <td>99807</td>\n",
       "      <td>4.5</td>\n",
       "      <td>83.1</td>\n",
       "      <td>9.5</td>\n",
       "      <td>0.6</td>\n",
       "      <td>...</td>\n",
       "      <td>1.0</td>\n",
       "      <td>1.4</td>\n",
       "      <td>3.9</td>\n",
       "      <td>26.4</td>\n",
       "      <td>85953</td>\n",
       "      <td>81.5</td>\n",
       "      <td>12.3</td>\n",
       "      <td>5.8</td>\n",
       "      <td>0.4</td>\n",
       "      <td>7.5</td>\n",
       "    </tr>\n",
       "    <tr>\n",
       "      <th>2</th>\n",
       "      <td>1005</td>\n",
       "      <td>Alabama</td>\n",
       "      <td>Barbour</td>\n",
       "      <td>26932</td>\n",
       "      <td>14497</td>\n",
       "      <td>12435</td>\n",
       "      <td>4.6</td>\n",
       "      <td>46.2</td>\n",
       "      <td>46.7</td>\n",
       "      <td>0.2</td>\n",
       "      <td>...</td>\n",
       "      <td>1.8</td>\n",
       "      <td>1.5</td>\n",
       "      <td>1.6</td>\n",
       "      <td>24.1</td>\n",
       "      <td>8597</td>\n",
       "      <td>71.8</td>\n",
       "      <td>20.8</td>\n",
       "      <td>7.3</td>\n",
       "      <td>0.1</td>\n",
       "      <td>17.6</td>\n",
       "    </tr>\n",
       "    <tr>\n",
       "      <th>3</th>\n",
       "      <td>1007</td>\n",
       "      <td>Alabama</td>\n",
       "      <td>Bibb</td>\n",
       "      <td>22604</td>\n",
       "      <td>12073</td>\n",
       "      <td>10531</td>\n",
       "      <td>2.2</td>\n",
       "      <td>74.5</td>\n",
       "      <td>21.4</td>\n",
       "      <td>0.4</td>\n",
       "      <td>...</td>\n",
       "      <td>0.6</td>\n",
       "      <td>1.5</td>\n",
       "      <td>0.7</td>\n",
       "      <td>28.8</td>\n",
       "      <td>8294</td>\n",
       "      <td>76.8</td>\n",
       "      <td>16.1</td>\n",
       "      <td>6.7</td>\n",
       "      <td>0.4</td>\n",
       "      <td>8.3</td>\n",
       "    </tr>\n",
       "    <tr>\n",
       "      <th>4</th>\n",
       "      <td>1009</td>\n",
       "      <td>Alabama</td>\n",
       "      <td>Blount</td>\n",
       "      <td>57710</td>\n",
       "      <td>28512</td>\n",
       "      <td>29198</td>\n",
       "      <td>8.6</td>\n",
       "      <td>87.9</td>\n",
       "      <td>1.5</td>\n",
       "      <td>0.3</td>\n",
       "      <td>...</td>\n",
       "      <td>0.9</td>\n",
       "      <td>0.4</td>\n",
       "      <td>2.3</td>\n",
       "      <td>34.9</td>\n",
       "      <td>22189</td>\n",
       "      <td>82.0</td>\n",
       "      <td>13.5</td>\n",
       "      <td>4.2</td>\n",
       "      <td>0.4</td>\n",
       "      <td>7.7</td>\n",
       "    </tr>\n",
       "  </tbody>\n",
       "</table>\n",
       "<p>5 rows × 37 columns</p>\n",
       "</div>"
      ],
      "text/plain": [
       "   CensusId    State   County  TotalPop    Men  Women  Hispanic  White  Black  \\\n",
       "0      1001  Alabama  Autauga     55221  26745  28476       2.6   75.8   18.5   \n",
       "1      1003  Alabama  Baldwin    195121  95314  99807       4.5   83.1    9.5   \n",
       "2      1005  Alabama  Barbour     26932  14497  12435       4.6   46.2   46.7   \n",
       "3      1007  Alabama     Bibb     22604  12073  10531       2.2   74.5   21.4   \n",
       "4      1009  Alabama   Blount     57710  28512  29198       8.6   87.9    1.5   \n",
       "\n",
       "   Native      ...       Walk  OtherTransp  WorkAtHome  MeanCommute  Employed  \\\n",
       "0     0.4      ...        0.5          1.3         1.8         26.5     23986   \n",
       "1     0.6      ...        1.0          1.4         3.9         26.4     85953   \n",
       "2     0.2      ...        1.8          1.5         1.6         24.1      8597   \n",
       "3     0.4      ...        0.6          1.5         0.7         28.8      8294   \n",
       "4     0.3      ...        0.9          0.4         2.3         34.9     22189   \n",
       "\n",
       "   PrivateWork  PublicWork  SelfEmployed  FamilyWork  Unemployment  \n",
       "0         73.6        20.9           5.5         0.0           7.6  \n",
       "1         81.5        12.3           5.8         0.4           7.5  \n",
       "2         71.8        20.8           7.3         0.1          17.6  \n",
       "3         76.8        16.1           6.7         0.4           8.3  \n",
       "4         82.0        13.5           4.2         0.4           7.7  \n",
       "\n",
       "[5 rows x 37 columns]"
      ]
     },
     "execution_count": 6,
     "metadata": {},
     "output_type": "execute_result"
    }
   ],
   "source": [
    "county_data = pd.read_csv(task_1_folder + 'acs2015_county_data.csv')\n",
    "county_data.head(5)"
   ]
  },
  {
   "cell_type": "markdown",
   "metadata": {},
   "source": [
    "<br>\n",
    "\n",
    "We can see that our dataframe contains a lot of information, not always relevant for this task. Let's filter it and keep what is usefull. To do so, we need to only keep some columns, using their names:"
   ]
  },
  {
   "cell_type": "code",
   "execution_count": 7,
   "metadata": {},
   "outputs": [
    {
     "data": {
      "text/plain": [
       "Index(['CensusId', 'State', 'County', 'TotalPop', 'Men', 'Women', 'Hispanic',\n",
       "       'White', 'Black', 'Native', 'Asian', 'Pacific', 'Citizen', 'Income',\n",
       "       'IncomeErr', 'IncomePerCap', 'IncomePerCapErr', 'Poverty',\n",
       "       'ChildPoverty', 'Professional', 'Service', 'Office', 'Construction',\n",
       "       'Production', 'Drive', 'Carpool', 'Transit', 'Walk', 'OtherTransp',\n",
       "       'WorkAtHome', 'MeanCommute', 'Employed', 'PrivateWork', 'PublicWork',\n",
       "       'SelfEmployed', 'FamilyWork', 'Unemployment'],\n",
       "      dtype='object')"
      ]
     },
     "execution_count": 7,
     "metadata": {},
     "output_type": "execute_result"
    }
   ],
   "source": [
    "county_data.columns"
   ]
  },
  {
   "cell_type": "markdown",
   "metadata": {},
   "source": [
    "We can now create a new dataframe with all useful columns, being:\n",
    "- CensusId\n",
    "- State\n",
    "- County\n",
    "- Citizen\n",
    "- IncomeErr\t\n",
    "- IncomePerCap\t\n",
    "- IncomePerCapErr\n",
    "- SelfEmployed"
   ]
  },
  {
   "cell_type": "code",
   "execution_count": 8,
   "metadata": {},
   "outputs": [
    {
     "data": {
      "text/html": [
       "<div>\n",
       "<style scoped>\n",
       "    .dataframe tbody tr th:only-of-type {\n",
       "        vertical-align: middle;\n",
       "    }\n",
       "\n",
       "    .dataframe tbody tr th {\n",
       "        vertical-align: top;\n",
       "    }\n",
       "\n",
       "    .dataframe thead th {\n",
       "        text-align: right;\n",
       "    }\n",
       "</style>\n",
       "<table border=\"1\" class=\"dataframe\">\n",
       "  <thead>\n",
       "    <tr style=\"text-align: right;\">\n",
       "      <th></th>\n",
       "      <th>CensusId</th>\n",
       "      <th>State</th>\n",
       "      <th>County</th>\n",
       "      <th>Citizen</th>\n",
       "      <th>IncomeErr</th>\n",
       "      <th>IncomePerCap</th>\n",
       "      <th>IncomePerCapErr</th>\n",
       "      <th>SelfEmployed</th>\n",
       "    </tr>\n",
       "  </thead>\n",
       "  <tbody>\n",
       "    <tr>\n",
       "      <th>0</th>\n",
       "      <td>1001</td>\n",
       "      <td>Alabama</td>\n",
       "      <td>Autauga</td>\n",
       "      <td>40725</td>\n",
       "      <td>2391.0</td>\n",
       "      <td>24974</td>\n",
       "      <td>1080</td>\n",
       "      <td>5.5</td>\n",
       "    </tr>\n",
       "    <tr>\n",
       "      <th>1</th>\n",
       "      <td>1003</td>\n",
       "      <td>Alabama</td>\n",
       "      <td>Baldwin</td>\n",
       "      <td>147695</td>\n",
       "      <td>1263.0</td>\n",
       "      <td>27317</td>\n",
       "      <td>711</td>\n",
       "      <td>5.8</td>\n",
       "    </tr>\n",
       "    <tr>\n",
       "      <th>2</th>\n",
       "      <td>1005</td>\n",
       "      <td>Alabama</td>\n",
       "      <td>Barbour</td>\n",
       "      <td>20714</td>\n",
       "      <td>2973.0</td>\n",
       "      <td>16824</td>\n",
       "      <td>798</td>\n",
       "      <td>7.3</td>\n",
       "    </tr>\n",
       "    <tr>\n",
       "      <th>3</th>\n",
       "      <td>1007</td>\n",
       "      <td>Alabama</td>\n",
       "      <td>Bibb</td>\n",
       "      <td>17495</td>\n",
       "      <td>3995.0</td>\n",
       "      <td>18431</td>\n",
       "      <td>1618</td>\n",
       "      <td>6.7</td>\n",
       "    </tr>\n",
       "    <tr>\n",
       "      <th>4</th>\n",
       "      <td>1009</td>\n",
       "      <td>Alabama</td>\n",
       "      <td>Blount</td>\n",
       "      <td>42345</td>\n",
       "      <td>3141.0</td>\n",
       "      <td>20532</td>\n",
       "      <td>708</td>\n",
       "      <td>4.2</td>\n",
       "    </tr>\n",
       "  </tbody>\n",
       "</table>\n",
       "</div>"
      ],
      "text/plain": [
       "   CensusId    State   County  Citizen  IncomeErr  IncomePerCap  \\\n",
       "0      1001  Alabama  Autauga    40725     2391.0         24974   \n",
       "1      1003  Alabama  Baldwin   147695     1263.0         27317   \n",
       "2      1005  Alabama  Barbour    20714     2973.0         16824   \n",
       "3      1007  Alabama     Bibb    17495     3995.0         18431   \n",
       "4      1009  Alabama   Blount    42345     3141.0         20532   \n",
       "\n",
       "   IncomePerCapErr  SelfEmployed  \n",
       "0             1080           5.5  \n",
       "1              711           5.8  \n",
       "2              798           7.3  \n",
       "3             1618           6.7  \n",
       "4              708           4.2  "
      ]
     },
     "execution_count": 8,
     "metadata": {},
     "output_type": "execute_result"
    }
   ],
   "source": [
    "employment_data = county_data[['CensusId', 'State', 'County', 'Citizen', 'IncomeErr', 'IncomePerCap',\n",
    "                                         'IncomePerCapErr', 'SelfEmployed']]\n",
    "\n",
    "employment_data.head(5)"
   ]
  },
  {
   "cell_type": "markdown",
   "metadata": {},
   "source": [
    "<br>\n",
    "\n",
    "#### **Question A:** \n",
    "\n",
    "Using suitable methods, determine and quantify the dependency between the percentage of self-employed citizens and per capita income across all 3,220 US counties. Do citizens in counties that have a higher percentage of self-employed people earn more per capita?\n",
    "\n",
    "<br>"
   ]
  },
  {
   "cell_type": "markdown",
   "metadata": {},
   "source": [
    "Let's start by filtering out the data by keeping only the two useful columns that we are interested in:\n",
    "- percentage of self-employed citizens\n",
    "- per capita income"
   ]
  },
  {
   "cell_type": "code",
   "execution_count": 9,
   "metadata": {},
   "outputs": [
    {
     "data": {
      "text/html": [
       "<div>\n",
       "<style scoped>\n",
       "    .dataframe tbody tr th:only-of-type {\n",
       "        vertical-align: middle;\n",
       "    }\n",
       "\n",
       "    .dataframe tbody tr th {\n",
       "        vertical-align: top;\n",
       "    }\n",
       "\n",
       "    .dataframe thead th {\n",
       "        text-align: right;\n",
       "    }\n",
       "</style>\n",
       "<table border=\"1\" class=\"dataframe\">\n",
       "  <thead>\n",
       "    <tr style=\"text-align: right;\">\n",
       "      <th></th>\n",
       "      <th>IncomePerCap</th>\n",
       "      <th>SelfEmployed</th>\n",
       "    </tr>\n",
       "  </thead>\n",
       "  <tbody>\n",
       "    <tr>\n",
       "      <th>count</th>\n",
       "      <td>3220.000000</td>\n",
       "      <td>3220.000000</td>\n",
       "    </tr>\n",
       "    <tr>\n",
       "      <th>mean</th>\n",
       "      <td>23981.771739</td>\n",
       "      <td>7.931801</td>\n",
       "    </tr>\n",
       "    <tr>\n",
       "      <th>std</th>\n",
       "      <td>6204.339960</td>\n",
       "      <td>3.914974</td>\n",
       "    </tr>\n",
       "    <tr>\n",
       "      <th>min</th>\n",
       "      <td>5878.000000</td>\n",
       "      <td>0.000000</td>\n",
       "    </tr>\n",
       "    <tr>\n",
       "      <th>25%</th>\n",
       "      <td>20238.500000</td>\n",
       "      <td>5.400000</td>\n",
       "    </tr>\n",
       "    <tr>\n",
       "      <th>50%</th>\n",
       "      <td>23460.000000</td>\n",
       "      <td>6.900000</td>\n",
       "    </tr>\n",
       "    <tr>\n",
       "      <th>75%</th>\n",
       "      <td>27053.250000</td>\n",
       "      <td>9.400000</td>\n",
       "    </tr>\n",
       "    <tr>\n",
       "      <th>max</th>\n",
       "      <td>65600.000000</td>\n",
       "      <td>36.600000</td>\n",
       "    </tr>\n",
       "  </tbody>\n",
       "</table>\n",
       "</div>"
      ],
      "text/plain": [
       "       IncomePerCap  SelfEmployed\n",
       "count   3220.000000   3220.000000\n",
       "mean   23981.771739      7.931801\n",
       "std     6204.339960      3.914974\n",
       "min     5878.000000      0.000000\n",
       "25%    20238.500000      5.400000\n",
       "50%    23460.000000      6.900000\n",
       "75%    27053.250000      9.400000\n",
       "max    65600.000000     36.600000"
      ]
     },
     "execution_count": 9,
     "metadata": {},
     "output_type": "execute_result"
    }
   ],
   "source": [
    "counties_employment = employment_data[['CensusId','IncomePerCap', 'SelfEmployed']].set_index(['CensusId'])\n",
    "counties_employment.describe()"
   ]
  },
  {
   "cell_type": "markdown",
   "metadata": {},
   "source": [
    "<br>\n",
    "\n",
    "Let's now do a scatter plot of those two data in a graph. This will allow us to get a good visual idea of the dependency between them."
   ]
  },
  {
   "cell_type": "code",
   "execution_count": 10,
   "metadata": {
    "scrolled": false
   },
   "outputs": [
    {
     "data": {
      "text/plain": [
       "<matplotlib.axes._subplots.AxesSubplot at 0x1173aba90>"
      ]
     },
     "execution_count": 10,
     "metadata": {},
     "output_type": "execute_result"
    },
    {
     "data": {
      "image/png": "[encoded data removed]",
      "text/plain": [
       "<Figure size 1080x576 with 1 Axes>"
      ]
     },
     "metadata": {},
     "output_type": "display_data"
    }
   ],
   "source": [
    "counties_employment.plot(kind='scatter',\n",
    "             x='SelfEmployed', y='IncomePerCap', figsize=(15, 8), grid=True,\n",
    "            title='Relation between the percentage of self-employed people in a US county (%) and their income per capita ($)')"
   ]
  },
  {
   "cell_type": "markdown",
   "metadata": {},
   "source": [
    "Using the graph above as well as the decription of the dataframe, we can see that our data is pretty messy, but also that there aren't too many outliers (median is close to mean), so we can use Pearson (standard correlation coefficient, vulnerable around outliers)."
   ]
  },
  {
   "cell_type": "code",
   "execution_count": 11,
   "metadata": {},
   "outputs": [
    {
     "data": {
      "text/html": [
       "<div>\n",
       "<style scoped>\n",
       "    .dataframe tbody tr th:only-of-type {\n",
       "        vertical-align: middle;\n",
       "    }\n",
       "\n",
       "    .dataframe tbody tr th {\n",
       "        vertical-align: top;\n",
       "    }\n",
       "\n",
       "    .dataframe thead th {\n",
       "        text-align: right;\n",
       "    }\n",
       "</style>\n",
       "<table border=\"1\" class=\"dataframe\">\n",
       "  <thead>\n",
       "    <tr style=\"text-align: right;\">\n",
       "      <th></th>\n",
       "      <th>IncomePerCap</th>\n",
       "      <th>SelfEmployed</th>\n",
       "    </tr>\n",
       "  </thead>\n",
       "  <tbody>\n",
       "    <tr>\n",
       "      <th>IncomePerCap</th>\n",
       "      <td>1.000000</td>\n",
       "      <td>0.087274</td>\n",
       "    </tr>\n",
       "    <tr>\n",
       "      <th>SelfEmployed</th>\n",
       "      <td>0.087274</td>\n",
       "      <td>1.000000</td>\n",
       "    </tr>\n",
       "  </tbody>\n",
       "</table>\n",
       "</div>"
      ],
      "text/plain": [
       "              IncomePerCap  SelfEmployed\n",
       "IncomePerCap      1.000000      0.087274\n",
       "SelfEmployed      0.087274      1.000000"
      ]
     },
     "execution_count": 11,
     "metadata": {},
     "output_type": "execute_result"
    }
   ],
   "source": [
    "counties_employment.corr('pearson')"
   ]
  },
  {
   "cell_type": "markdown",
   "metadata": {},
   "source": [
    "<br>\n",
    "\n",
    "This pairwise correlation of our data shows us that **the two columns of our dataframe are almost not correlated at all**, as we get a value very close to `0`.\n",
    "\n",
    "<br>"
   ]
  },
  {
   "cell_type": "markdown",
   "metadata": {},
   "source": [
    "<br>\n",
    "\n",
    "#### **Question B:** \n",
    "\n",
    "The pilot program will involve all counties within a limited set of three US states. Set A includes Wisconsin, Tennessee, and Minnesota. Quantify the dependency of per-capita income on self-employment rates across all the counties in set A.\n",
    "\n",
    "<br>"
   ]
  },
  {
   "cell_type": "markdown",
   "metadata": {},
   "source": [
    "In this part, we will be interested in a set of three counties:\n",
    "- Wisconsin\n",
    "- Tennessee\n",
    "- Minnesota\n",
    "\n",
    "Let's start by selecting the corresponding data and creating a new dataframe: "
   ]
  },
  {
   "cell_type": "code",
   "execution_count": 12,
   "metadata": {},
   "outputs": [],
   "source": [
    "set_A = county_data[(county_data.State == 'Wisconsin') |  (county_data.State == 'Tennessee') | (county_data.State == 'Minnesota')]\n",
    "set_A = set_A[['CensusId','IncomePerCap', 'SelfEmployed']].set_index(['CensusId']) # Keeping only useful information"
   ]
  },
  {
   "cell_type": "code",
   "execution_count": 13,
   "metadata": {
    "scrolled": false
   },
   "outputs": [
    {
     "data": {
      "text/plain": [
       "<matplotlib.axes._subplots.AxesSubplot at 0x111266278>"
      ]
     },
     "execution_count": 13,
     "metadata": {},
     "output_type": "execute_result"
    },
    {
     "data": {
      "image/png": "[encoded data removed]",
      "text/plain": [
       "<Figure size 1080x576 with 1 Axes>"
      ]
     },
     "metadata": {},
     "output_type": "display_data"
    }
   ],
   "source": [
    "set_A.plot(kind='scatter',\n",
    "            x='SelfEmployed', y='IncomePerCap', figsize=(15, 8), grid=True,\n",
    "            title='Relation between the percentage of self-employed people in a county of set A (%) and their income per capita ($)')"
   ]
  },
  {
   "cell_type": "markdown",
   "metadata": {},
   "source": [
    "Let's use Pearson to get a value and to actually compare the dependency in those counties:"
   ]
  },
  {
   "cell_type": "code",
   "execution_count": 14,
   "metadata": {
    "scrolled": true
   },
   "outputs": [
    {
     "data": {
      "text/html": [
       "<div>\n",
       "<style scoped>\n",
       "    .dataframe tbody tr th:only-of-type {\n",
       "        vertical-align: middle;\n",
       "    }\n",
       "\n",
       "    .dataframe tbody tr th {\n",
       "        vertical-align: top;\n",
       "    }\n",
       "\n",
       "    .dataframe thead th {\n",
       "        text-align: right;\n",
       "    }\n",
       "</style>\n",
       "<table border=\"1\" class=\"dataframe\">\n",
       "  <thead>\n",
       "    <tr style=\"text-align: right;\">\n",
       "      <th></th>\n",
       "      <th>IncomePerCap</th>\n",
       "      <th>SelfEmployed</th>\n",
       "    </tr>\n",
       "  </thead>\n",
       "  <tbody>\n",
       "    <tr>\n",
       "      <th>IncomePerCap</th>\n",
       "      <td>1.000000</td>\n",
       "      <td>-0.202294</td>\n",
       "    </tr>\n",
       "    <tr>\n",
       "      <th>SelfEmployed</th>\n",
       "      <td>-0.202294</td>\n",
       "      <td>1.000000</td>\n",
       "    </tr>\n",
       "  </tbody>\n",
       "</table>\n",
       "</div>"
      ],
      "text/plain": [
       "              IncomePerCap  SelfEmployed\n",
       "IncomePerCap      1.000000     -0.202294\n",
       "SelfEmployed     -0.202294      1.000000"
      ]
     },
     "execution_count": 14,
     "metadata": {},
     "output_type": "execute_result"
    }
   ],
   "source": [
    "set_A.corr()"
   ]
  },
  {
   "cell_type": "markdown",
   "metadata": {},
   "source": [
    "We get a very low correlation score, which means there is not dependency between per-capita income on self-employment rates across all the counties in set A."
   ]
  },
  {
   "cell_type": "markdown",
   "metadata": {},
   "source": [
    "<br>\n",
    "\n",
    "#### **Question C:** \n",
    "\n",
    "In which state within set A is the observed effect of self-employment on per-capita income the strongest?\n",
    "\n",
    "<br>"
   ]
  },
  {
   "cell_type": "markdown",
   "metadata": {},
   "source": [
    "In this part, we will are still interested of the set A, but we will analyze the dependency in each of the county separatly.\n",
    "\n",
    "Let's start by selecting the corresponding data and creating three separate dataframe: "
   ]
  },
  {
   "cell_type": "code",
   "execution_count": 15,
   "metadata": {},
   "outputs": [],
   "source": [
    "# Wisconsin\n",
    "wisconsin_data = county_data[county_data['State'] == 'Wisconsin'] # Filtering on the state name\n",
    "wisconsin_data = wisconsin_data[['CensusId','IncomePerCap', 'SelfEmployed']].set_index(['CensusId']) # Keeping only useful information\n",
    "\n",
    "# Tennesse\n",
    "tennessee_data = county_data[county_data['State'] == 'Tennessee'] # Filtering on the state name\n",
    "tennessee_data = tennessee_data[['CensusId','IncomePerCap', 'SelfEmployed']].set_index(['CensusId']) # Keeping only useful information\n",
    "\n",
    "# Minnesota\n",
    "minnesota_data = county_data[county_data['State'] == 'Minnesota'] # Filtering on the state name\n",
    "minnesota_data = minnesota_data[['CensusId','IncomePerCap', 'SelfEmployed']].set_index(['CensusId']) # Keeping only useful information"
   ]
  },
  {
   "cell_type": "markdown",
   "metadata": {},
   "source": [
    "<br>\n",
    "\n",
    "Just as we did in the first question, let's do some scatter plot for each county to get some visual idea of the dependencies between per-capita income on self-employment rates across all three counties:"
   ]
  },
  {
   "cell_type": "code",
   "execution_count": 16,
   "metadata": {
    "scrolled": true
   },
   "outputs": [
    {
     "data": {
      "text/plain": [
       "<matplotlib.axes._subplots.AxesSubplot at 0x117cf9240>"
      ]
     },
     "execution_count": 16,
     "metadata": {},
     "output_type": "execute_result"
    },
    {
     "data": {
      "image/png": "[encoded data removed]",
      "text/plain": [
       "<Figure size 1080x576 with 3 Axes>"
      ]
     },
     "metadata": {},
     "output_type": "display_data"
    }
   ],
   "source": [
    "fig, axs = plt.subplots(1, 3, sharex=True, sharey=True)\n",
    "\n",
    "wisconsin_data.plot(kind='scatter', x='SelfEmployed', y='IncomePerCap', ax=axs[0], grid=True, title='Wisconsin', figsize=(15, 8))\n",
    "tennessee_data.plot(kind='scatter', x='SelfEmployed', y='IncomePerCap', ax=axs[1], grid=True, title='Tennessee')\n",
    "minnesota_data.plot(kind='scatter', x='SelfEmployed', y='IncomePerCap', ax=axs[2], grid=True, title='Minnesota')"
   ]
  },
  {
   "cell_type": "markdown",
   "metadata": {},
   "source": [
    "<br>\n",
    "\n",
    "Once again, our graphs don't give us a good dependency. Indeed, we have quite messy data withh no clear correlation.\n",
    "\n",
    "Let's use Pearson to get a value and to actually compare the dependency in those county:"
   ]
  },
  {
   "cell_type": "code",
   "execution_count": 17,
   "metadata": {
    "scrolled": true
   },
   "outputs": [
    {
     "data": {
      "text/html": [
       "<div>\n",
       "<style scoped>\n",
       "    .dataframe tbody tr th:only-of-type {\n",
       "        vertical-align: middle;\n",
       "    }\n",
       "\n",
       "    .dataframe tbody tr th {\n",
       "        vertical-align: top;\n",
       "    }\n",
       "\n",
       "    .dataframe thead th {\n",
       "        text-align: right;\n",
       "    }\n",
       "</style>\n",
       "<table border=\"1\" class=\"dataframe\">\n",
       "  <thead>\n",
       "    <tr style=\"text-align: right;\">\n",
       "      <th></th>\n",
       "      <th>IncomePerCap</th>\n",
       "      <th>SelfEmployed</th>\n",
       "    </tr>\n",
       "  </thead>\n",
       "  <tbody>\n",
       "    <tr>\n",
       "      <th>IncomePerCap</th>\n",
       "      <td>1.000000</td>\n",
       "      <td>-0.329053</td>\n",
       "    </tr>\n",
       "    <tr>\n",
       "      <th>SelfEmployed</th>\n",
       "      <td>-0.329053</td>\n",
       "      <td>1.000000</td>\n",
       "    </tr>\n",
       "  </tbody>\n",
       "</table>\n",
       "</div>"
      ],
      "text/plain": [
       "              IncomePerCap  SelfEmployed\n",
       "IncomePerCap      1.000000     -0.329053\n",
       "SelfEmployed     -0.329053      1.000000"
      ]
     },
     "execution_count": 17,
     "metadata": {},
     "output_type": "execute_result"
    }
   ],
   "source": [
    "wisconsin_data.corr()"
   ]
  },
  {
   "cell_type": "code",
   "execution_count": 18,
   "metadata": {
    "scrolled": true
   },
   "outputs": [
    {
     "data": {
      "text/html": [
       "<div>\n",
       "<style scoped>\n",
       "    .dataframe tbody tr th:only-of-type {\n",
       "        vertical-align: middle;\n",
       "    }\n",
       "\n",
       "    .dataframe tbody tr th {\n",
       "        vertical-align: top;\n",
       "    }\n",
       "\n",
       "    .dataframe thead th {\n",
       "        text-align: right;\n",
       "    }\n",
       "</style>\n",
       "<table border=\"1\" class=\"dataframe\">\n",
       "  <thead>\n",
       "    <tr style=\"text-align: right;\">\n",
       "      <th></th>\n",
       "      <th>IncomePerCap</th>\n",
       "      <th>SelfEmployed</th>\n",
       "    </tr>\n",
       "  </thead>\n",
       "  <tbody>\n",
       "    <tr>\n",
       "      <th>IncomePerCap</th>\n",
       "      <td>1.00000</td>\n",
       "      <td>-0.23836</td>\n",
       "    </tr>\n",
       "    <tr>\n",
       "      <th>SelfEmployed</th>\n",
       "      <td>-0.23836</td>\n",
       "      <td>1.00000</td>\n",
       "    </tr>\n",
       "  </tbody>\n",
       "</table>\n",
       "</div>"
      ],
      "text/plain": [
       "              IncomePerCap  SelfEmployed\n",
       "IncomePerCap       1.00000      -0.23836\n",
       "SelfEmployed      -0.23836       1.00000"
      ]
     },
     "execution_count": 18,
     "metadata": {},
     "output_type": "execute_result"
    }
   ],
   "source": [
    "tennessee_data.corr()"
   ]
  },
  {
   "cell_type": "code",
   "execution_count": 19,
   "metadata": {
    "scrolled": true
   },
   "outputs": [
    {
     "data": {
      "text/html": [
       "<div>\n",
       "<style scoped>\n",
       "    .dataframe tbody tr th:only-of-type {\n",
       "        vertical-align: middle;\n",
       "    }\n",
       "\n",
       "    .dataframe tbody tr th {\n",
       "        vertical-align: top;\n",
       "    }\n",
       "\n",
       "    .dataframe thead th {\n",
       "        text-align: right;\n",
       "    }\n",
       "</style>\n",
       "<table border=\"1\" class=\"dataframe\">\n",
       "  <thead>\n",
       "    <tr style=\"text-align: right;\">\n",
       "      <th></th>\n",
       "      <th>IncomePerCap</th>\n",
       "      <th>SelfEmployed</th>\n",
       "    </tr>\n",
       "  </thead>\n",
       "  <tbody>\n",
       "    <tr>\n",
       "      <th>IncomePerCap</th>\n",
       "      <td>1.000000</td>\n",
       "      <td>-0.253855</td>\n",
       "    </tr>\n",
       "    <tr>\n",
       "      <th>SelfEmployed</th>\n",
       "      <td>-0.253855</td>\n",
       "      <td>1.000000</td>\n",
       "    </tr>\n",
       "  </tbody>\n",
       "</table>\n",
       "</div>"
      ],
      "text/plain": [
       "              IncomePerCap  SelfEmployed\n",
       "IncomePerCap      1.000000     -0.253855\n",
       "SelfEmployed     -0.253855      1.000000"
      ]
     },
     "execution_count": 19,
     "metadata": {},
     "output_type": "execute_result"
    }
   ],
   "source": [
    "minnesota_data.corr()"
   ]
  },
  {
   "cell_type": "markdown",
   "metadata": {},
   "source": [
    "<br>\n",
    "\n",
    "Here, the correlation tables only shows us that there is actually no dependency between per-capita income on self-employment rates across all three counties of set A."
   ]
  },
  {
   "cell_type": "markdown",
   "metadata": {},
   "source": [
    "<br>\n",
    "\n",
    "#### **Question D:** \n",
    "\n",
    "Set B includes New Jersey, Kansas, and Rhode Island. Repeat the analysis from steps B and C above, but now for set B. In which of the two sets A and B (if any) would you recommend incentivizing self-employment? Explain your reasoning.\n",
    "\n",
    ">Hint: It is useful to add a notion of confidence to your results and explore the data visually. You are allowed to use the SciPy library.\n",
    "\n",
    "<br>"
   ]
  },
  {
   "cell_type": "markdown",
   "metadata": {},
   "source": [
    "In this last part, we will be interested in a different set of three counties:\n",
    "- New Jersey\n",
    "- Kansas\n",
    "- Rhode Island"
   ]
  },
  {
   "cell_type": "markdown",
   "metadata": {},
   "source": [
    "Let's start by quantifying the dependency of per-capita income on self-employment rates across all the counties in set B:"
   ]
  },
  {
   "cell_type": "code",
   "execution_count": 20,
   "metadata": {},
   "outputs": [],
   "source": [
    "set_B = county_data[(county_data.State == 'New Jersey') |  (county_data.State == 'Kansas') | (county_data.State == 'Rhode Island')]\n",
    "set_B = set_B[['CensusId','IncomePerCap', 'SelfEmployed']].set_index(['CensusId']) # Keeping only useful information"
   ]
  },
  {
   "cell_type": "markdown",
   "metadata": {},
   "source": [
    "<br>\n",
    "\n",
    "Just like in the previous question, we will start by plotting the relation between the percentage of self-employed people in counties of set B and their income per capita:"
   ]
  },
  {
   "cell_type": "code",
   "execution_count": 21,
   "metadata": {},
   "outputs": [
    {
     "data": {
      "text/plain": [
       "<matplotlib.axes._subplots.AxesSubplot at 0x1191a2f60>"
      ]
     },
     "execution_count": 21,
     "metadata": {},
     "output_type": "execute_result"
    },
    {
     "data": {
      "image/png": "[encoded data removed]",
      "text/plain": [
       "<Figure size 1080x576 with 1 Axes>"
      ]
     },
     "metadata": {},
     "output_type": "display_data"
    }
   ],
   "source": [
    "set_B.plot(kind='scatter',\n",
    "            x='SelfEmployed', y='IncomePerCap', figsize=(15, 8), grid=True,\n",
    "            title='Relation between the percentage of self-employed people in counties of set B (%) and their income per capita ($)')"
   ]
  },
  {
   "cell_type": "code",
   "execution_count": 22,
   "metadata": {},
   "outputs": [
    {
     "data": {
      "text/html": [
       "<div>\n",
       "<style scoped>\n",
       "    .dataframe tbody tr th:only-of-type {\n",
       "        vertical-align: middle;\n",
       "    }\n",
       "\n",
       "    .dataframe tbody tr th {\n",
       "        vertical-align: top;\n",
       "    }\n",
       "\n",
       "    .dataframe thead th {\n",
       "        text-align: right;\n",
       "    }\n",
       "</style>\n",
       "<table border=\"1\" class=\"dataframe\">\n",
       "  <thead>\n",
       "    <tr style=\"text-align: right;\">\n",
       "      <th></th>\n",
       "      <th>IncomePerCap</th>\n",
       "      <th>SelfEmployed</th>\n",
       "    </tr>\n",
       "  </thead>\n",
       "  <tbody>\n",
       "    <tr>\n",
       "      <th>IncomePerCap</th>\n",
       "      <td>1.000000</td>\n",
       "      <td>-0.232221</td>\n",
       "    </tr>\n",
       "    <tr>\n",
       "      <th>SelfEmployed</th>\n",
       "      <td>-0.232221</td>\n",
       "      <td>1.000000</td>\n",
       "    </tr>\n",
       "  </tbody>\n",
       "</table>\n",
       "</div>"
      ],
      "text/plain": [
       "              IncomePerCap  SelfEmployed\n",
       "IncomePerCap      1.000000     -0.232221\n",
       "SelfEmployed     -0.232221      1.000000"
      ]
     },
     "execution_count": 22,
     "metadata": {},
     "output_type": "execute_result"
    }
   ],
   "source": [
    "set_B.corr()"
   ]
  },
  {
   "cell_type": "markdown",
   "metadata": {},
   "source": [
    "<br>\n",
    "\n",
    "Once again, we get a very low correlation score, which means there is not dependency between per-capita income on self-employment rates across all the counties in set B.\n",
    "\n",
    "<br>\n",
    "\n",
    "Let's see in which state within set B is the observed effect of self-employment on per-capita income the strongest:"
   ]
  },
  {
   "cell_type": "code",
   "execution_count": 23,
   "metadata": {},
   "outputs": [],
   "source": [
    "# New Jersey\n",
    "new_jersey_data = county_data[county_data['State'] == 'New Jersey'] # Filtering on the state name\n",
    "new_jersey_data = new_jersey_data[['CensusId','IncomePerCap', 'SelfEmployed']].set_index(['CensusId']) # Keeping only useful information\n",
    "\n",
    "# Kansas\n",
    "kansas_data = county_data[county_data['State'] == 'Kansas'] # Filtering on the state name\n",
    "kansas_data = kansas_data[['CensusId','IncomePerCap', 'SelfEmployed']].set_index(['CensusId']) # Keeping only useful information\n",
    "\n",
    "# Rhode Island\n",
    "rhode_island_data = county_data[county_data['State'] == 'Rhode Island'] # Filtering on the state name\n",
    "rhode_island_data = rhode_island_data[['CensusId','IncomePerCap', 'SelfEmployed']].set_index(['CensusId']) # Keeping only useful information"
   ]
  },
  {
   "cell_type": "code",
   "execution_count": 24,
   "metadata": {},
   "outputs": [
    {
     "data": {
      "text/plain": [
       "<matplotlib.axes._subplots.AxesSubplot at 0x1a24285c50>"
      ]
     },
     "execution_count": 24,
     "metadata": {},
     "output_type": "execute_result"
    },
    {
     "data": {
      "image/png": "[encoded data removed]",
      "text/plain": [
       "<Figure size 1080x576 with 3 Axes>"
      ]
     },
     "metadata": {},
     "output_type": "display_data"
    }
   ],
   "source": [
    "fig, axs = plt.subplots(1, 3, sharex=True, sharey=True)\n",
    "\n",
    "new_jersey_data.plot(kind='scatter', x='SelfEmployed', y='IncomePerCap', ax=axs[0], grid=True, title='New Jersey', figsize=(15, 8))\n",
    "kansas_data.plot(kind='scatter', x='SelfEmployed', y='IncomePerCap', ax=axs[1], grid=True, title='Kansas')\n",
    "rhode_island_data.plot(kind='scatter', x='SelfEmployed', y='IncomePerCap', ax=axs[2], grid=True, title='Rhode Island')"
   ]
  },
  {
   "cell_type": "code",
   "execution_count": 25,
   "metadata": {},
   "outputs": [
    {
     "data": {
      "text/html": [
       "<div>\n",
       "<style scoped>\n",
       "    .dataframe tbody tr th:only-of-type {\n",
       "        vertical-align: middle;\n",
       "    }\n",
       "\n",
       "    .dataframe tbody tr th {\n",
       "        vertical-align: top;\n",
       "    }\n",
       "\n",
       "    .dataframe thead th {\n",
       "        text-align: right;\n",
       "    }\n",
       "</style>\n",
       "<table border=\"1\" class=\"dataframe\">\n",
       "  <thead>\n",
       "    <tr style=\"text-align: right;\">\n",
       "      <th></th>\n",
       "      <th>IncomePerCap</th>\n",
       "      <th>SelfEmployed</th>\n",
       "    </tr>\n",
       "  </thead>\n",
       "  <tbody>\n",
       "    <tr>\n",
       "      <th>IncomePerCap</th>\n",
       "      <td>1.000000</td>\n",
       "      <td>0.480448</td>\n",
       "    </tr>\n",
       "    <tr>\n",
       "      <th>SelfEmployed</th>\n",
       "      <td>0.480448</td>\n",
       "      <td>1.000000</td>\n",
       "    </tr>\n",
       "  </tbody>\n",
       "</table>\n",
       "</div>"
      ],
      "text/plain": [
       "              IncomePerCap  SelfEmployed\n",
       "IncomePerCap      1.000000      0.480448\n",
       "SelfEmployed      0.480448      1.000000"
      ]
     },
     "execution_count": 25,
     "metadata": {},
     "output_type": "execute_result"
    }
   ],
   "source": [
    "new_jersey_data.corr()"
   ]
  },
  {
   "cell_type": "code",
   "execution_count": 26,
   "metadata": {},
   "outputs": [
    {
     "data": {
      "text/html": [
       "<div>\n",
       "<style scoped>\n",
       "    .dataframe tbody tr th:only-of-type {\n",
       "        vertical-align: middle;\n",
       "    }\n",
       "\n",
       "    .dataframe tbody tr th {\n",
       "        vertical-align: top;\n",
       "    }\n",
       "\n",
       "    .dataframe thead th {\n",
       "        text-align: right;\n",
       "    }\n",
       "</style>\n",
       "<table border=\"1\" class=\"dataframe\">\n",
       "  <thead>\n",
       "    <tr style=\"text-align: right;\">\n",
       "      <th></th>\n",
       "      <th>IncomePerCap</th>\n",
       "      <th>SelfEmployed</th>\n",
       "    </tr>\n",
       "  </thead>\n",
       "  <tbody>\n",
       "    <tr>\n",
       "      <th>IncomePerCap</th>\n",
       "      <td>1.000000</td>\n",
       "      <td>0.258103</td>\n",
       "    </tr>\n",
       "    <tr>\n",
       "      <th>SelfEmployed</th>\n",
       "      <td>0.258103</td>\n",
       "      <td>1.000000</td>\n",
       "    </tr>\n",
       "  </tbody>\n",
       "</table>\n",
       "</div>"
      ],
      "text/plain": [
       "              IncomePerCap  SelfEmployed\n",
       "IncomePerCap      1.000000      0.258103\n",
       "SelfEmployed      0.258103      1.000000"
      ]
     },
     "execution_count": 26,
     "metadata": {},
     "output_type": "execute_result"
    }
   ],
   "source": [
    "kansas_data.corr()"
   ]
  },
  {
   "cell_type": "code",
   "execution_count": 27,
   "metadata": {
    "scrolled": true
   },
   "outputs": [
    {
     "data": {
      "text/html": [
       "<div>\n",
       "<style scoped>\n",
       "    .dataframe tbody tr th:only-of-type {\n",
       "        vertical-align: middle;\n",
       "    }\n",
       "\n",
       "    .dataframe tbody tr th {\n",
       "        vertical-align: top;\n",
       "    }\n",
       "\n",
       "    .dataframe thead th {\n",
       "        text-align: right;\n",
       "    }\n",
       "</style>\n",
       "<table border=\"1\" class=\"dataframe\">\n",
       "  <thead>\n",
       "    <tr style=\"text-align: right;\">\n",
       "      <th></th>\n",
       "      <th>IncomePerCap</th>\n",
       "      <th>SelfEmployed</th>\n",
       "    </tr>\n",
       "  </thead>\n",
       "  <tbody>\n",
       "    <tr>\n",
       "      <th>IncomePerCap</th>\n",
       "      <td>1.000000</td>\n",
       "      <td>0.902179</td>\n",
       "    </tr>\n",
       "    <tr>\n",
       "      <th>SelfEmployed</th>\n",
       "      <td>0.902179</td>\n",
       "      <td>1.000000</td>\n",
       "    </tr>\n",
       "  </tbody>\n",
       "</table>\n",
       "</div>"
      ],
      "text/plain": [
       "              IncomePerCap  SelfEmployed\n",
       "IncomePerCap      1.000000      0.902179\n",
       "SelfEmployed      0.902179      1.000000"
      ]
     },
     "execution_count": 27,
     "metadata": {},
     "output_type": "execute_result"
    }
   ],
   "source": [
    "rhode_island_data.corr()"
   ]
  },
  {
   "cell_type": "markdown",
   "metadata": {},
   "source": [
    "\n"
   ]
  },
  {
   "cell_type": "markdown",
   "metadata": {
    "collapsed": true
   },
   "source": [
    "<br>\n",
    "\n",
    "---\n",
    "\n",
    "<br>\n",
    "\n",
    "## Task 2: All you need is love… And a dog!\n",
    "\n",
    "Here we are going to build a classifier to predict whether an animal from an animal shelter will be adopted or not (aac_intakes_outcomes.csv, available at: https://www.kaggle.com/aaronschlegel/austin-animal-center-shelter-intakes-and-outcomes/version/1#aac_intakes_outcomes.csv). You will be working with the following features:\n",
    "\n",
    "1. *animal_type:* Type of animal. May be one of 'cat', 'dog', 'bird', etc.\n",
    "2. *intake_year:* Year of intake\n",
    "3. *intake_condition:* The intake condition of the animal. Can be one of 'normal', 'injured', 'sick', etc.\n",
    "4. *intake_number:* The intake number denoting the number of occurrences the animal has been brought into the shelter. Values higher than 1 indicate the animal has been taken into the shelter on more than one occasion.\n",
    "5. *intake_type:* The type of intake, for example, 'stray', 'owner surrender', etc.\n",
    "6. *sex_upon_intake:* The gender of the animal and if it has been spayed or neutered at the time of intake\n",
    "7. *age_upon\\_intake_(years):* The age of the animal upon intake represented in years\n",
    "8. *time_in_shelter_days:* Numeric value denoting the number of days the animal remained at the shelter from intake to outcome.\n",
    "9. *sex_upon_outcome:* The gender of the animal and if it has been spayed or neutered at time of outcome\n",
    "10. *age_upon\\_outcome_(years):* The age of the animal upon outcome represented in years\n",
    "11. *outcome_type:* The outcome type. Can be one of ‘adopted’, ‘transferred’, etc.\n",
    "\n",
    "**A)** Load the dataset and convert categorical features to a suitable numerical representation (use dummy-variable encoding). Split the data into a training set (80%) and a test set (20%). Pair each feature vector with the corresponding label, i.e., whether the outcome_type is adoption or not. Standardize the values of each feature in the data to have mean 0 and variance 1. The use of external libraries is not permitted in part A, except for numpy and pandas.\n",
    "\n",
    "**B)** Train a logistic regression classifier on your training set. Logistic regression returns probabilities as predictions, so in order to arrive at a binary prediction, you need to put a threshold on the predicted probabilities. For the decision threshold of 0.5, present the performance of your classifier on the test set by displaying the confusion matrix. Based on the confusion matrix, manually calculate accuracy, precision, recall, and F1-score with respect to the positive and the negative class. Vary the value of the threshold in the range from 0 to 1 and visualize the value of accuracy, precision, recall, and F1-score (with respect to both classes) as a function of the threshold. The shelter has a limited capacity and has no other option but to put to sleep animals with a low probability of adoption. What metric (precision, recall, accuracy, or F1-score) and with respect to what class is the most relevant when choosing the threshold in this scenario, and why? Explain your reasoning.\n",
    "\n",
    "**C)** Reduce the number of features by selecting the subset of the k best features. Use greedy backward selection to iteratively remove features. Evaluate performance and visualize the result using 5-fold cross-validation on the training set as a function of k, where k = 1, 5, 10, 15, 20, 25, 30. Choose the optimal k and justify your choice. Interpret the top-k features and their impact on the probability of adoption.\n",
    "\n",
    "**D)** Train a random forest. Use 5-fold cross-validation on the training set to fine-tune the parameters of the classifier using a grid search on the number of estimators \"n_estimators\" and the max depth of the trees \"max_depth\". For the chosen parameters, estimate the performance of your classifier on the test set by presenting the confusion matrix, accuracy, precision, recall, and F1-score with respect to both classes and compare the performance with the performance of the logistic regression. Interpret the results.\n",
    "\n",
    "You are allowed to use the scikit-learn library to implement your classifiers."
   ]
  },
  {
   "cell_type": "markdown",
   "metadata": {},
   "source": [
    "> A) Load the dataset and convert categorical features to a suitable numerical representation (use dummy-variable encoding). Split the data into a training set (80%) and a test set (20%). Pair each feature vector with the corresponding label, i.e., whether the outcome_type is adoption or not. Standardize the values of each feature in the data to have mean 0 and variance 1. "
   ]
  },
  {
   "cell_type": "markdown",
   "metadata": {},
   "source": [
    "First of all we will load the csv file 'aac_intakes_outcomes' as required. Since we only need some specific features described previously, we will then extract and store the selected features data."
   ]
  },
  {
   "cell_type": "code",
   "execution_count": 28,
   "metadata": {},
   "outputs": [],
   "source": [
    "# Load the dataset\n",
    "task_2_folder = data_folder + 'task2/'\n",
    "data = pd.read_csv(task_2_folder+'aac_intakes_outcomes.csv.zip')"
   ]
  },
  {
   "cell_type": "code",
   "execution_count": 29,
   "metadata": {},
   "outputs": [],
   "source": [
    "# Select features described in the Task\n",
    "extr_data = data[['animal_type','intake_year', 'intake_condition', 'intake_number', 'intake_type', 'sex_upon_intake','age_upon_intake_(years)', 'time_in_shelter_days', 'sex_upon_outcome','age_upon_outcome_(years)','outcome_type' ]]"
   ]
  },
  {
   "cell_type": "markdown",
   "metadata": {},
   "source": [
    "Now that we have the data, we will create the 'output' vector containing a '1' value if the outcome is 'Adopted' and 0 otherwise. We will then obivously remove the 'outcome_type' feature to have a correct training set without the result.\n",
    "\n",
    "So for the next of the exercie, **class 1** will be adopted and **class 0** not adopted."
   ]
  },
  {
   "cell_type": "code",
   "execution_count": 30,
   "metadata": {
    "scrolled": true
   },
   "outputs": [],
   "source": [
    "# Convert outpt feature to 1 if Adoption and 0 otherwise\n",
    "y = np.where(extr_data['outcome_type']=='Adoption', 1, 0)\n",
    "# Remove the output feature in the training set (X)\n",
    "extr_data = extr_data.drop('outcome_type', axis=1)"
   ]
  },
  {
   "cell_type": "markdown",
   "metadata": {},
   "source": [
    "We would like to have a training dataset composed only of quantitative values. We'll then turn the Categorical features into numerical columns. "
   ]
  },
  {
   "cell_type": "code",
   "execution_count": 31,
   "metadata": {},
   "outputs": [
    {
     "name": "stdout",
     "output_type": "stream",
     "text": [
      "Before transformation of categorical features \n",
      "Number of features in dataset : 10\n"
     ]
    }
   ],
   "source": [
    "print(\"Before transformation of categorical features \\nNumber of features in dataset : %d\" % (extr_data.shape[1]))"
   ]
  },
  {
   "cell_type": "code",
   "execution_count": 32,
   "metadata": {},
   "outputs": [],
   "source": [
    "# Turn the categorical data into numerical\n",
    "X = pd.get_dummies(extr_data)"
   ]
  },
  {
   "cell_type": "code",
   "execution_count": 33,
   "metadata": {
    "scrolled": false
   },
   "outputs": [
    {
     "data": {
      "text/html": [
       "<div>\n",
       "<style scoped>\n",
       "    .dataframe tbody tr th:only-of-type {\n",
       "        vertical-align: middle;\n",
       "    }\n",
       "\n",
       "    .dataframe tbody tr th {\n",
       "        vertical-align: top;\n",
       "    }\n",
       "\n",
       "    .dataframe thead th {\n",
       "        text-align: right;\n",
       "    }\n",
       "</style>\n",
       "<table border=\"1\" class=\"dataframe\">\n",
       "  <thead>\n",
       "    <tr style=\"text-align: right;\">\n",
       "      <th></th>\n",
       "      <th>intake_year</th>\n",
       "      <th>intake_number</th>\n",
       "      <th>age_upon_intake_(years)</th>\n",
       "      <th>time_in_shelter_days</th>\n",
       "      <th>age_upon_outcome_(years)</th>\n",
       "      <th>animal_type_Bird</th>\n",
       "      <th>animal_type_Cat</th>\n",
       "      <th>animal_type_Dog</th>\n",
       "      <th>animal_type_Other</th>\n",
       "      <th>intake_condition_Aged</th>\n",
       "      <th>...</th>\n",
       "      <th>sex_upon_intake_Intact Female</th>\n",
       "      <th>sex_upon_intake_Intact Male</th>\n",
       "      <th>sex_upon_intake_Neutered Male</th>\n",
       "      <th>sex_upon_intake_Spayed Female</th>\n",
       "      <th>sex_upon_intake_Unknown</th>\n",
       "      <th>sex_upon_outcome_Intact Female</th>\n",
       "      <th>sex_upon_outcome_Intact Male</th>\n",
       "      <th>sex_upon_outcome_Neutered Male</th>\n",
       "      <th>sex_upon_outcome_Spayed Female</th>\n",
       "      <th>sex_upon_outcome_Unknown</th>\n",
       "    </tr>\n",
       "  </thead>\n",
       "  <tbody>\n",
       "    <tr>\n",
       "      <th>0</th>\n",
       "      <td>2017</td>\n",
       "      <td>1.0</td>\n",
       "      <td>10.0</td>\n",
       "      <td>0.588194</td>\n",
       "      <td>10.0</td>\n",
       "      <td>0</td>\n",
       "      <td>0</td>\n",
       "      <td>1</td>\n",
       "      <td>0</td>\n",
       "      <td>0</td>\n",
       "      <td>...</td>\n",
       "      <td>0</td>\n",
       "      <td>0</td>\n",
       "      <td>1</td>\n",
       "      <td>0</td>\n",
       "      <td>0</td>\n",
       "      <td>0</td>\n",
       "      <td>0</td>\n",
       "      <td>1</td>\n",
       "      <td>0</td>\n",
       "      <td>0</td>\n",
       "    </tr>\n",
       "    <tr>\n",
       "      <th>1</th>\n",
       "      <td>2014</td>\n",
       "      <td>2.0</td>\n",
       "      <td>7.0</td>\n",
       "      <td>1.259722</td>\n",
       "      <td>7.0</td>\n",
       "      <td>0</td>\n",
       "      <td>0</td>\n",
       "      <td>1</td>\n",
       "      <td>0</td>\n",
       "      <td>0</td>\n",
       "      <td>...</td>\n",
       "      <td>0</td>\n",
       "      <td>0</td>\n",
       "      <td>1</td>\n",
       "      <td>0</td>\n",
       "      <td>0</td>\n",
       "      <td>0</td>\n",
       "      <td>0</td>\n",
       "      <td>1</td>\n",
       "      <td>0</td>\n",
       "      <td>0</td>\n",
       "    </tr>\n",
       "    <tr>\n",
       "      <th>2</th>\n",
       "      <td>2014</td>\n",
       "      <td>3.0</td>\n",
       "      <td>6.0</td>\n",
       "      <td>1.113889</td>\n",
       "      <td>6.0</td>\n",
       "      <td>0</td>\n",
       "      <td>0</td>\n",
       "      <td>1</td>\n",
       "      <td>0</td>\n",
       "      <td>0</td>\n",
       "      <td>...</td>\n",
       "      <td>0</td>\n",
       "      <td>0</td>\n",
       "      <td>1</td>\n",
       "      <td>0</td>\n",
       "      <td>0</td>\n",
       "      <td>0</td>\n",
       "      <td>0</td>\n",
       "      <td>1</td>\n",
       "      <td>0</td>\n",
       "      <td>0</td>\n",
       "    </tr>\n",
       "    <tr>\n",
       "      <th>3</th>\n",
       "      <td>2014</td>\n",
       "      <td>1.0</td>\n",
       "      <td>10.0</td>\n",
       "      <td>4.970139</td>\n",
       "      <td>10.0</td>\n",
       "      <td>0</td>\n",
       "      <td>0</td>\n",
       "      <td>1</td>\n",
       "      <td>0</td>\n",
       "      <td>0</td>\n",
       "      <td>...</td>\n",
       "      <td>0</td>\n",
       "      <td>0</td>\n",
       "      <td>1</td>\n",
       "      <td>0</td>\n",
       "      <td>0</td>\n",
       "      <td>0</td>\n",
       "      <td>0</td>\n",
       "      <td>1</td>\n",
       "      <td>0</td>\n",
       "      <td>0</td>\n",
       "    </tr>\n",
       "    <tr>\n",
       "      <th>4</th>\n",
       "      <td>2013</td>\n",
       "      <td>1.0</td>\n",
       "      <td>16.0</td>\n",
       "      <td>0.119444</td>\n",
       "      <td>16.0</td>\n",
       "      <td>0</td>\n",
       "      <td>0</td>\n",
       "      <td>1</td>\n",
       "      <td>0</td>\n",
       "      <td>0</td>\n",
       "      <td>...</td>\n",
       "      <td>0</td>\n",
       "      <td>0</td>\n",
       "      <td>1</td>\n",
       "      <td>0</td>\n",
       "      <td>0</td>\n",
       "      <td>0</td>\n",
       "      <td>0</td>\n",
       "      <td>1</td>\n",
       "      <td>0</td>\n",
       "      <td>0</td>\n",
       "    </tr>\n",
       "  </tbody>\n",
       "</table>\n",
       "<p>5 rows × 32 columns</p>\n",
       "</div>"
      ],
      "text/plain": [
       "   intake_year  intake_number  age_upon_intake_(years)  time_in_shelter_days  \\\n",
       "0         2017            1.0                     10.0              0.588194   \n",
       "1         2014            2.0                      7.0              1.259722   \n",
       "2         2014            3.0                      6.0              1.113889   \n",
       "3         2014            1.0                     10.0              4.970139   \n",
       "4         2013            1.0                     16.0              0.119444   \n",
       "\n",
       "   age_upon_outcome_(years)  animal_type_Bird  animal_type_Cat  \\\n",
       "0                      10.0                 0                0   \n",
       "1                       7.0                 0                0   \n",
       "2                       6.0                 0                0   \n",
       "3                      10.0                 0                0   \n",
       "4                      16.0                 0                0   \n",
       "\n",
       "   animal_type_Dog  animal_type_Other  intake_condition_Aged  \\\n",
       "0                1                  0                      0   \n",
       "1                1                  0                      0   \n",
       "2                1                  0                      0   \n",
       "3                1                  0                      0   \n",
       "4                1                  0                      0   \n",
       "\n",
       "             ...             sex_upon_intake_Intact Female  \\\n",
       "0            ...                                         0   \n",
       "1            ...                                         0   \n",
       "2            ...                                         0   \n",
       "3            ...                                         0   \n",
       "4            ...                                         0   \n",
       "\n",
       "   sex_upon_intake_Intact Male  sex_upon_intake_Neutered Male  \\\n",
       "0                            0                              1   \n",
       "1                            0                              1   \n",
       "2                            0                              1   \n",
       "3                            0                              1   \n",
       "4                            0                              1   \n",
       "\n",
       "   sex_upon_intake_Spayed Female  sex_upon_intake_Unknown  \\\n",
       "0                              0                        0   \n",
       "1                              0                        0   \n",
       "2                              0                        0   \n",
       "3                              0                        0   \n",
       "4                              0                        0   \n",
       "\n",
       "   sex_upon_outcome_Intact Female  sex_upon_outcome_Intact Male  \\\n",
       "0                               0                             0   \n",
       "1                               0                             0   \n",
       "2                               0                             0   \n",
       "3                               0                             0   \n",
       "4                               0                             0   \n",
       "\n",
       "   sex_upon_outcome_Neutered Male  sex_upon_outcome_Spayed Female  \\\n",
       "0                               1                               0   \n",
       "1                               1                               0   \n",
       "2                               1                               0   \n",
       "3                               1                               0   \n",
       "4                               1                               0   \n",
       "\n",
       "   sex_upon_outcome_Unknown  \n",
       "0                         0  \n",
       "1                         0  \n",
       "2                         0  \n",
       "3                         0  \n",
       "4                         0  \n",
       "\n",
       "[5 rows x 32 columns]"
      ]
     },
     "execution_count": 33,
     "metadata": {},
     "output_type": "execute_result"
    }
   ],
   "source": [
    "X.head(5)"
   ]
  },
  {
   "cell_type": "code",
   "execution_count": 34,
   "metadata": {
    "scrolled": true
   },
   "outputs": [
    {
     "name": "stdout",
     "output_type": "stream",
     "text": [
      "After transformation of categorical features \n",
      "Number of features in dataset : 32\n"
     ]
    }
   ],
   "source": [
    "print(\"After transformation of categorical features \\nNumber of features in dataset : %d\" % (X.shape[1]))"
   ]
  },
  {
   "cell_type": "markdown",
   "metadata": {},
   "source": [
    "We can see that the transformation is increasing the dimension size of the training set. Indeed there is a multiplication factor of 3. For example the animal type feature could be 'Bird', 'Cat', 'Dog' or 'Other'. The operation is then turning the 1 column type into 4 numerical (boolean) features. "
   ]
  },
  {
   "cell_type": "markdown",
   "metadata": {},
   "source": [
    "Now the dataset needs to be splitted into a Training set part (80%) and a Test set (20%). \n",
    "To avoid bias and to have a generalized model, we would like to split randomly. \n",
    "\n",
    "We will then keep the indexes of the selected samples (for the training set) and use them to associate with the y output vector, and to get the rest for the test set."
   ]
  },
  {
   "cell_type": "code",
   "execution_count": 35,
   "metadata": {},
   "outputs": [],
   "source": [
    "# Split dataset : 80% for training and 20% for test\n",
    "train=X.sample(frac=0.8,random_state=100)\n",
    "test=X.drop(train.index)"
   ]
  },
  {
   "cell_type": "code",
   "execution_count": 36,
   "metadata": {},
   "outputs": [],
   "source": [
    "# Use the index to associate each features vector to the output\n",
    "y_train = y[train.index]\n",
    "y_test = y[test.index]"
   ]
  },
  {
   "cell_type": "code",
   "execution_count": 37,
   "metadata": {},
   "outputs": [
    {
     "name": "stdout",
     "output_type": "stream",
     "text": [
      "Size of initial dataset : 79672 \n",
      "Training set 80/100 perc., Size : 63738 \n",
      "Test set 20/100 perc., Size : 15934 \n"
     ]
    }
   ],
   "source": [
    "print(\"Size of initial dataset : %d \" %(len(X)))\n",
    "print(\"Training set 80/100 perc., Size : %d \" %(len(train)))\n",
    "print(\"Test set 20/100 perc., Size : %d \" %(len(test)))"
   ]
  },
  {
   "cell_type": "markdown",
   "metadata": {},
   "source": [
    "We now want to standardize the dataset. in order to have a mean of 0 and a standard deviation of 1 for each feature. This will improve the efficiency of the ML model."
   ]
  },
  {
   "cell_type": "code",
   "execution_count": 38,
   "metadata": {},
   "outputs": [
    {
     "data": {
      "text/html": [
       "<div>\n",
       "<style scoped>\n",
       "    .dataframe tbody tr th:only-of-type {\n",
       "        vertical-align: middle;\n",
       "    }\n",
       "\n",
       "    .dataframe tbody tr th {\n",
       "        vertical-align: top;\n",
       "    }\n",
       "\n",
       "    .dataframe thead th {\n",
       "        text-align: right;\n",
       "    }\n",
       "</style>\n",
       "<table border=\"1\" class=\"dataframe\">\n",
       "  <thead>\n",
       "    <tr style=\"text-align: right;\">\n",
       "      <th></th>\n",
       "      <th>intake_year</th>\n",
       "      <th>intake_number</th>\n",
       "      <th>age_upon_intake_(years)</th>\n",
       "      <th>time_in_shelter_days</th>\n",
       "      <th>age_upon_outcome_(years)</th>\n",
       "      <th>animal_type_Bird</th>\n",
       "      <th>animal_type_Cat</th>\n",
       "      <th>animal_type_Dog</th>\n",
       "      <th>animal_type_Other</th>\n",
       "      <th>intake_condition_Aged</th>\n",
       "      <th>...</th>\n",
       "      <th>sex_upon_intake_Intact Female</th>\n",
       "      <th>sex_upon_intake_Intact Male</th>\n",
       "      <th>sex_upon_intake_Neutered Male</th>\n",
       "      <th>sex_upon_intake_Spayed Female</th>\n",
       "      <th>sex_upon_intake_Unknown</th>\n",
       "      <th>sex_upon_outcome_Intact Female</th>\n",
       "      <th>sex_upon_outcome_Intact Male</th>\n",
       "      <th>sex_upon_outcome_Neutered Male</th>\n",
       "      <th>sex_upon_outcome_Spayed Female</th>\n",
       "      <th>sex_upon_outcome_Unknown</th>\n",
       "    </tr>\n",
       "  </thead>\n",
       "  <tbody>\n",
       "    <tr>\n",
       "      <th>69004</th>\n",
       "      <td>2017</td>\n",
       "      <td>1.0</td>\n",
       "      <td>0.038356</td>\n",
       "      <td>0.779167</td>\n",
       "      <td>0.038356</td>\n",
       "      <td>0</td>\n",
       "      <td>1</td>\n",
       "      <td>0</td>\n",
       "      <td>0</td>\n",
       "      <td>0</td>\n",
       "      <td>...</td>\n",
       "      <td>1</td>\n",
       "      <td>0</td>\n",
       "      <td>0</td>\n",
       "      <td>0</td>\n",
       "      <td>0</td>\n",
       "      <td>1</td>\n",
       "      <td>0</td>\n",
       "      <td>0</td>\n",
       "      <td>0</td>\n",
       "      <td>0</td>\n",
       "    </tr>\n",
       "    <tr>\n",
       "      <th>17025</th>\n",
       "      <td>2014</td>\n",
       "      <td>1.0</td>\n",
       "      <td>2.000000</td>\n",
       "      <td>2.237500</td>\n",
       "      <td>2.000000</td>\n",
       "      <td>0</td>\n",
       "      <td>1</td>\n",
       "      <td>0</td>\n",
       "      <td>0</td>\n",
       "      <td>0</td>\n",
       "      <td>...</td>\n",
       "      <td>1</td>\n",
       "      <td>0</td>\n",
       "      <td>0</td>\n",
       "      <td>0</td>\n",
       "      <td>0</td>\n",
       "      <td>0</td>\n",
       "      <td>0</td>\n",
       "      <td>0</td>\n",
       "      <td>1</td>\n",
       "      <td>0</td>\n",
       "    </tr>\n",
       "    <tr>\n",
       "      <th>27714</th>\n",
       "      <td>2015</td>\n",
       "      <td>1.0</td>\n",
       "      <td>2.000000</td>\n",
       "      <td>7.104861</td>\n",
       "      <td>2.000000</td>\n",
       "      <td>0</td>\n",
       "      <td>0</td>\n",
       "      <td>1</td>\n",
       "      <td>0</td>\n",
       "      <td>0</td>\n",
       "      <td>...</td>\n",
       "      <td>0</td>\n",
       "      <td>0</td>\n",
       "      <td>1</td>\n",
       "      <td>0</td>\n",
       "      <td>0</td>\n",
       "      <td>0</td>\n",
       "      <td>0</td>\n",
       "      <td>1</td>\n",
       "      <td>0</td>\n",
       "      <td>0</td>\n",
       "    </tr>\n",
       "    <tr>\n",
       "      <th>64559</th>\n",
       "      <td>2017</td>\n",
       "      <td>2.0</td>\n",
       "      <td>1.000000</td>\n",
       "      <td>2.222917</td>\n",
       "      <td>2.000000</td>\n",
       "      <td>0</td>\n",
       "      <td>0</td>\n",
       "      <td>1</td>\n",
       "      <td>0</td>\n",
       "      <td>0</td>\n",
       "      <td>...</td>\n",
       "      <td>0</td>\n",
       "      <td>1</td>\n",
       "      <td>0</td>\n",
       "      <td>0</td>\n",
       "      <td>0</td>\n",
       "      <td>0</td>\n",
       "      <td>1</td>\n",
       "      <td>0</td>\n",
       "      <td>0</td>\n",
       "      <td>0</td>\n",
       "    </tr>\n",
       "    <tr>\n",
       "      <th>23592</th>\n",
       "      <td>2014</td>\n",
       "      <td>1.0</td>\n",
       "      <td>0.164384</td>\n",
       "      <td>1.989583</td>\n",
       "      <td>0.164384</td>\n",
       "      <td>0</td>\n",
       "      <td>1</td>\n",
       "      <td>0</td>\n",
       "      <td>0</td>\n",
       "      <td>0</td>\n",
       "      <td>...</td>\n",
       "      <td>0</td>\n",
       "      <td>0</td>\n",
       "      <td>0</td>\n",
       "      <td>1</td>\n",
       "      <td>0</td>\n",
       "      <td>0</td>\n",
       "      <td>0</td>\n",
       "      <td>0</td>\n",
       "      <td>1</td>\n",
       "      <td>0</td>\n",
       "    </tr>\n",
       "  </tbody>\n",
       "</table>\n",
       "<p>5 rows × 32 columns</p>\n",
       "</div>"
      ],
      "text/plain": [
       "       intake_year  intake_number  age_upon_intake_(years)  \\\n",
       "69004         2017            1.0                 0.038356   \n",
       "17025         2014            1.0                 2.000000   \n",
       "27714         2015            1.0                 2.000000   \n",
       "64559         2017            2.0                 1.000000   \n",
       "23592         2014            1.0                 0.164384   \n",
       "\n",
       "       time_in_shelter_days  age_upon_outcome_(years)  animal_type_Bird  \\\n",
       "69004              0.779167                  0.038356                 0   \n",
       "17025              2.237500                  2.000000                 0   \n",
       "27714              7.104861                  2.000000                 0   \n",
       "64559              2.222917                  2.000000                 0   \n",
       "23592              1.989583                  0.164384                 0   \n",
       "\n",
       "       animal_type_Cat  animal_type_Dog  animal_type_Other  \\\n",
       "69004                1                0                  0   \n",
       "17025                1                0                  0   \n",
       "27714                0                1                  0   \n",
       "64559                0                1                  0   \n",
       "23592                1                0                  0   \n",
       "\n",
       "       intake_condition_Aged            ...             \\\n",
       "69004                      0            ...              \n",
       "17025                      0            ...              \n",
       "27714                      0            ...              \n",
       "64559                      0            ...              \n",
       "23592                      0            ...              \n",
       "\n",
       "       sex_upon_intake_Intact Female  sex_upon_intake_Intact Male  \\\n",
       "69004                              1                            0   \n",
       "17025                              1                            0   \n",
       "27714                              0                            0   \n",
       "64559                              0                            1   \n",
       "23592                              0                            0   \n",
       "\n",
       "       sex_upon_intake_Neutered Male  sex_upon_intake_Spayed Female  \\\n",
       "69004                              0                              0   \n",
       "17025                              0                              0   \n",
       "27714                              1                              0   \n",
       "64559                              0                              0   \n",
       "23592                              0                              1   \n",
       "\n",
       "       sex_upon_intake_Unknown  sex_upon_outcome_Intact Female  \\\n",
       "69004                        0                               1   \n",
       "17025                        0                               0   \n",
       "27714                        0                               0   \n",
       "64559                        0                               0   \n",
       "23592                        0                               0   \n",
       "\n",
       "       sex_upon_outcome_Intact Male  sex_upon_outcome_Neutered Male  \\\n",
       "69004                             0                               0   \n",
       "17025                             0                               0   \n",
       "27714                             0                               1   \n",
       "64559                             1                               0   \n",
       "23592                             0                               0   \n",
       "\n",
       "       sex_upon_outcome_Spayed Female  sex_upon_outcome_Unknown  \n",
       "69004                               0                         0  \n",
       "17025                               1                         0  \n",
       "27714                               0                         0  \n",
       "64559                               0                         0  \n",
       "23592                               1                         0  \n",
       "\n",
       "[5 rows x 32 columns]"
      ]
     },
     "execution_count": 38,
     "metadata": {},
     "output_type": "execute_result"
    }
   ],
   "source": [
    "train.head(5)"
   ]
  },
  {
   "cell_type": "code",
   "execution_count": 39,
   "metadata": {
    "scrolled": false
   },
   "outputs": [],
   "source": [
    "# Normalize by substracting the mean and diving by the difference between min and max, for each column.\n",
    "train_norm = (train - train.mean()) / (train.std())\n",
    "test_norm = (test - train.mean()) / (train.std())"
   ]
  },
  {
   "cell_type": "markdown",
   "metadata": {},
   "source": [
    "Note : The mean value and max-min value should be taken from the training set. \n",
    "Indeed, assuming that this is a real case, then we should not normalize using the test data. \n",
    "The values from the training set are approved and correct, while the test set are not, which could then corrupt some samples of the test set. (If we use the mean of the test set, and some of the test samples are really noisy and not adequate, then it will influence the mean and the normalization.) \n",
    "\n",
    "__Thats is why we normalize the test set using the mean/max/min from the training set.__"
   ]
  },
  {
   "cell_type": "code",
   "execution_count": 40,
   "metadata": {
    "scrolled": true
   },
   "outputs": [
    {
     "data": {
      "text/html": [
       "<div>\n",
       "<style scoped>\n",
       "    .dataframe tbody tr th:only-of-type {\n",
       "        vertical-align: middle;\n",
       "    }\n",
       "\n",
       "    .dataframe tbody tr th {\n",
       "        vertical-align: top;\n",
       "    }\n",
       "\n",
       "    .dataframe thead th {\n",
       "        text-align: right;\n",
       "    }\n",
       "</style>\n",
       "<table border=\"1\" class=\"dataframe\">\n",
       "  <thead>\n",
       "    <tr style=\"text-align: right;\">\n",
       "      <th></th>\n",
       "      <th>intake_year</th>\n",
       "      <th>intake_number</th>\n",
       "      <th>age_upon_intake_(years)</th>\n",
       "      <th>time_in_shelter_days</th>\n",
       "      <th>age_upon_outcome_(years)</th>\n",
       "      <th>animal_type_Bird</th>\n",
       "      <th>animal_type_Cat</th>\n",
       "      <th>animal_type_Dog</th>\n",
       "      <th>animal_type_Other</th>\n",
       "      <th>intake_condition_Aged</th>\n",
       "      <th>...</th>\n",
       "      <th>sex_upon_intake_Intact Female</th>\n",
       "      <th>sex_upon_intake_Intact Male</th>\n",
       "      <th>sex_upon_intake_Neutered Male</th>\n",
       "      <th>sex_upon_intake_Spayed Female</th>\n",
       "      <th>sex_upon_intake_Unknown</th>\n",
       "      <th>sex_upon_outcome_Intact Female</th>\n",
       "      <th>sex_upon_outcome_Intact Male</th>\n",
       "      <th>sex_upon_outcome_Neutered Male</th>\n",
       "      <th>sex_upon_outcome_Spayed Female</th>\n",
       "      <th>sex_upon_outcome_Unknown</th>\n",
       "    </tr>\n",
       "  </thead>\n",
       "  <tbody>\n",
       "    <tr>\n",
       "      <th>69004</th>\n",
       "      <td>1.198929</td>\n",
       "      <td>-0.279536</td>\n",
       "      <td>-0.716274</td>\n",
       "      <td>-0.380531</td>\n",
       "      <td>-0.726451</td>\n",
       "      <td>-0.066186</td>\n",
       "      <td>1.307948</td>\n",
       "      <td>-1.154665</td>\n",
       "      <td>-0.241989</td>\n",
       "      <td>-0.063253</td>\n",
       "      <td>...</td>\n",
       "      <td>1.536485</td>\n",
       "      <td>-0.681192</td>\n",
       "      <td>-0.437423</td>\n",
       "      <td>-0.403593</td>\n",
       "      <td>-0.304395</td>\n",
       "      <td>2.759400</td>\n",
       "      <td>-0.373605</td>\n",
       "      <td>-0.742003</td>\n",
       "      <td>-0.68841</td>\n",
       "      <td>-0.304395</td>\n",
       "    </tr>\n",
       "    <tr>\n",
       "      <th>17025</th>\n",
       "      <td>-1.104370</td>\n",
       "      <td>-0.279536</td>\n",
       "      <td>-0.039612</td>\n",
       "      <td>-0.345679</td>\n",
       "      <td>-0.051408</td>\n",
       "      <td>-0.066186</td>\n",
       "      <td>1.307948</td>\n",
       "      <td>-1.154665</td>\n",
       "      <td>-0.241989</td>\n",
       "      <td>-0.063253</td>\n",
       "      <td>...</td>\n",
       "      <td>1.536485</td>\n",
       "      <td>-0.681192</td>\n",
       "      <td>-0.437423</td>\n",
       "      <td>-0.403593</td>\n",
       "      <td>-0.304395</td>\n",
       "      <td>-0.362392</td>\n",
       "      <td>-0.373605</td>\n",
       "      <td>-0.742003</td>\n",
       "      <td>1.45260</td>\n",
       "      <td>-0.304395</td>\n",
       "    </tr>\n",
       "    <tr>\n",
       "      <th>27714</th>\n",
       "      <td>-0.336604</td>\n",
       "      <td>-0.279536</td>\n",
       "      <td>-0.039612</td>\n",
       "      <td>-0.229357</td>\n",
       "      <td>-0.051408</td>\n",
       "      <td>-0.066186</td>\n",
       "      <td>-0.764544</td>\n",
       "      <td>0.866038</td>\n",
       "      <td>-0.241989</td>\n",
       "      <td>-0.063253</td>\n",
       "      <td>...</td>\n",
       "      <td>-0.650826</td>\n",
       "      <td>-0.681192</td>\n",
       "      <td>2.286079</td>\n",
       "      <td>-0.403593</td>\n",
       "      <td>-0.304395</td>\n",
       "      <td>-0.362392</td>\n",
       "      <td>-0.373605</td>\n",
       "      <td>1.347683</td>\n",
       "      <td>-0.68841</td>\n",
       "      <td>-0.304395</td>\n",
       "    </tr>\n",
       "    <tr>\n",
       "      <th>64559</th>\n",
       "      <td>1.198929</td>\n",
       "      <td>1.920374</td>\n",
       "      <td>-0.384558</td>\n",
       "      <td>-0.346028</td>\n",
       "      <td>-0.051408</td>\n",
       "      <td>-0.066186</td>\n",
       "      <td>-0.764544</td>\n",
       "      <td>0.866038</td>\n",
       "      <td>-0.241989</td>\n",
       "      <td>-0.063253</td>\n",
       "      <td>...</td>\n",
       "      <td>-0.650826</td>\n",
       "      <td>1.467992</td>\n",
       "      <td>-0.437423</td>\n",
       "      <td>-0.403593</td>\n",
       "      <td>-0.304395</td>\n",
       "      <td>-0.362392</td>\n",
       "      <td>2.676583</td>\n",
       "      <td>-0.742003</td>\n",
       "      <td>-0.68841</td>\n",
       "      <td>-0.304395</td>\n",
       "    </tr>\n",
       "    <tr>\n",
       "      <th>23592</th>\n",
       "      <td>-1.104370</td>\n",
       "      <td>-0.279536</td>\n",
       "      <td>-0.672801</td>\n",
       "      <td>-0.351604</td>\n",
       "      <td>-0.683082</td>\n",
       "      <td>-0.066186</td>\n",
       "      <td>1.307948</td>\n",
       "      <td>-1.154665</td>\n",
       "      <td>-0.241989</td>\n",
       "      <td>-0.063253</td>\n",
       "      <td>...</td>\n",
       "      <td>-0.650826</td>\n",
       "      <td>-0.681192</td>\n",
       "      <td>-0.437423</td>\n",
       "      <td>2.477704</td>\n",
       "      <td>-0.304395</td>\n",
       "      <td>-0.362392</td>\n",
       "      <td>-0.373605</td>\n",
       "      <td>-0.742003</td>\n",
       "      <td>1.45260</td>\n",
       "      <td>-0.304395</td>\n",
       "    </tr>\n",
       "  </tbody>\n",
       "</table>\n",
       "<p>5 rows × 32 columns</p>\n",
       "</div>"
      ],
      "text/plain": [
       "       intake_year  intake_number  age_upon_intake_(years)  \\\n",
       "69004     1.198929      -0.279536                -0.716274   \n",
       "17025    -1.104370      -0.279536                -0.039612   \n",
       "27714    -0.336604      -0.279536                -0.039612   \n",
       "64559     1.198929       1.920374                -0.384558   \n",
       "23592    -1.104370      -0.279536                -0.672801   \n",
       "\n",
       "       time_in_shelter_days  age_upon_outcome_(years)  animal_type_Bird  \\\n",
       "69004             -0.380531                 -0.726451         -0.066186   \n",
       "17025             -0.345679                 -0.051408         -0.066186   \n",
       "27714             -0.229357                 -0.051408         -0.066186   \n",
       "64559             -0.346028                 -0.051408         -0.066186   \n",
       "23592             -0.351604                 -0.683082         -0.066186   \n",
       "\n",
       "       animal_type_Cat  animal_type_Dog  animal_type_Other  \\\n",
       "69004         1.307948        -1.154665          -0.241989   \n",
       "17025         1.307948        -1.154665          -0.241989   \n",
       "27714        -0.764544         0.866038          -0.241989   \n",
       "64559        -0.764544         0.866038          -0.241989   \n",
       "23592         1.307948        -1.154665          -0.241989   \n",
       "\n",
       "       intake_condition_Aged            ...             \\\n",
       "69004              -0.063253            ...              \n",
       "17025              -0.063253            ...              \n",
       "27714              -0.063253            ...              \n",
       "64559              -0.063253            ...              \n",
       "23592              -0.063253            ...              \n",
       "\n",
       "       sex_upon_intake_Intact Female  sex_upon_intake_Intact Male  \\\n",
       "69004                       1.536485                    -0.681192   \n",
       "17025                       1.536485                    -0.681192   \n",
       "27714                      -0.650826                    -0.681192   \n",
       "64559                      -0.650826                     1.467992   \n",
       "23592                      -0.650826                    -0.681192   \n",
       "\n",
       "       sex_upon_intake_Neutered Male  sex_upon_intake_Spayed Female  \\\n",
       "69004                      -0.437423                      -0.403593   \n",
       "17025                      -0.437423                      -0.403593   \n",
       "27714                       2.286079                      -0.403593   \n",
       "64559                      -0.437423                      -0.403593   \n",
       "23592                      -0.437423                       2.477704   \n",
       "\n",
       "       sex_upon_intake_Unknown  sex_upon_outcome_Intact Female  \\\n",
       "69004                -0.304395                        2.759400   \n",
       "17025                -0.304395                       -0.362392   \n",
       "27714                -0.304395                       -0.362392   \n",
       "64559                -0.304395                       -0.362392   \n",
       "23592                -0.304395                       -0.362392   \n",
       "\n",
       "       sex_upon_outcome_Intact Male  sex_upon_outcome_Neutered Male  \\\n",
       "69004                     -0.373605                       -0.742003   \n",
       "17025                     -0.373605                       -0.742003   \n",
       "27714                     -0.373605                        1.347683   \n",
       "64559                      2.676583                       -0.742003   \n",
       "23592                     -0.373605                       -0.742003   \n",
       "\n",
       "       sex_upon_outcome_Spayed Female  sex_upon_outcome_Unknown  \n",
       "69004                        -0.68841                 -0.304395  \n",
       "17025                         1.45260                 -0.304395  \n",
       "27714                        -0.68841                 -0.304395  \n",
       "64559                        -0.68841                 -0.304395  \n",
       "23592                         1.45260                 -0.304395  \n",
       "\n",
       "[5 rows x 32 columns]"
      ]
     },
     "execution_count": 40,
     "metadata": {},
     "output_type": "execute_result"
    }
   ],
   "source": [
    "train_norm.head()"
   ]
  },
  {
   "cell_type": "markdown",
   "metadata": {},
   "source": [
    "Here we can see that the normalization is well performed for each column. For the categorical column like \"animal_type_Cat\" containing only 0 and 1, we can see that there is only 2 different probabilities."
   ]
  },
  {
   "cell_type": "code",
   "execution_count": 41,
   "metadata": {
    "scrolled": false
   },
   "outputs": [
    {
     "data": {
      "text/plain": [
       "intake_year                -9.576467e-15\n",
       "intake_number               5.525278e-15\n",
       "age_upon_intake_(years)     1.384616e-13\n",
       "time_in_shelter_days       -1.021216e-15\n",
       "age_upon_outcome_(years)    1.736350e-13\n",
       "dtype: float64"
      ]
     },
     "execution_count": 41,
     "metadata": {},
     "output_type": "execute_result"
    }
   ],
   "source": [
    "train_norm.mean().head()"
   ]
  },
  {
   "cell_type": "code",
   "execution_count": 42,
   "metadata": {
    "scrolled": true
   },
   "outputs": [
    {
     "data": {
      "text/plain": [
       "intake_year                 1.0\n",
       "intake_number               1.0\n",
       "age_upon_intake_(years)     1.0\n",
       "time_in_shelter_days        1.0\n",
       "age_upon_outcome_(years)    1.0\n",
       "dtype: float64"
      ]
     },
     "execution_count": 42,
     "metadata": {},
     "output_type": "execute_result"
    }
   ],
   "source": [
    "(train_norm.std()).head()"
   ]
  },
  {
   "cell_type": "markdown",
   "metadata": {},
   "source": [
    "For the training set we can see that the mean for each column is indeed closed to 0 (really small), and the standard deviation is 1."
   ]
  },
  {
   "cell_type": "code",
   "execution_count": 43,
   "metadata": {},
   "outputs": [
    {
     "data": {
      "text/plain": [
       "intake_year                -0.008904\n",
       "intake_number              -0.002718\n",
       "age_upon_intake_(years)    -0.012157\n",
       "time_in_shelter_days        0.006579\n",
       "age_upon_outcome_(years)   -0.011696\n",
       "dtype: float64"
      ]
     },
     "execution_count": 43,
     "metadata": {},
     "output_type": "execute_result"
    }
   ],
   "source": [
    "test_norm.mean().head()"
   ]
  },
  {
   "cell_type": "code",
   "execution_count": 44,
   "metadata": {
    "scrolled": true
   },
   "outputs": [
    {
     "data": {
      "text/plain": [
       "intake_year                 1.002597\n",
       "intake_number               1.016344\n",
       "age_upon_intake_(years)     0.989885\n",
       "time_in_shelter_days        0.980199\n",
       "age_upon_outcome_(years)    0.989825\n",
       "dtype: float64"
      ]
     },
     "execution_count": 44,
     "metadata": {},
     "output_type": "execute_result"
    }
   ],
   "source": [
    "(test_norm.std()).head()"
   ]
  },
  {
   "cell_type": "markdown",
   "metadata": {},
   "source": [
    "For the test set we can see that the mean for each column is indeed closed to 0 but less small than the training set, and the standard deviation is close to 1 but less precise.\n",
    "\n",
    "This is because we are using the values from the training set. If we had more data then the differences should be minimal. This method is more safe to avoid outliers and wrong values from the test set. (In this case we are simulating the test set so this was not really a problem)."
   ]
  },
  {
   "cell_type": "markdown",
   "metadata": {},
   "source": [
    "> We now have a correct dataset splitted in training part and test part with standardized values.\n",
    "We will then use this data correctly prepared to train and implement machine learning models."
   ]
  },
  {
   "cell_type": "markdown",
   "metadata": {},
   "source": [
    "__B)__ Train a logistic regression classifier on your training set. Logistic regression returns probabilities as predictions, so in order to arrive at a binary prediction, you need to put a threshold on the predicted probabilities. For the decision threshold of 0.5, present the performance of your classifier on the test set by displaying the confusion matrix. Based on the confusion matrix, manually calculate accuracy, precision, recall, and F1-score with respect to the positive and the negative class. Vary the value of the threshold in the range from 0 to 1 and visualize the value of accuracy, precision, recall, and F1-score (with respect to both classes) as a function of the threshold. The shelter has a limited capacity and has no other option but to put to sleep animals with a low probability of adoption. What metric (precision, recall, accuracy, or F1-score) and with respect to what class is the most relevant when choosing the threshold in this scenario, and why? Explain your reasoning."
   ]
  },
  {
   "cell_type": "code",
   "execution_count": 45,
   "metadata": {},
   "outputs": [],
   "source": [
    "# Create the model with lbfgs to handle L2 penalty\n",
    "logistic = LogisticRegression(penalty='l2',solver='lbfgs', max_iter = 500)"
   ]
  },
  {
   "cell_type": "code",
   "execution_count": 46,
   "metadata": {},
   "outputs": [
    {
     "data": {
      "text/plain": [
       "LogisticRegression(C=1.0, class_weight=None, dual=False, fit_intercept=True,\n",
       "          intercept_scaling=1, max_iter=500, multi_class='ovr', n_jobs=1,\n",
       "          penalty='l2', random_state=None, solver='lbfgs', tol=0.0001,\n",
       "          verbose=0, warm_start=False)"
      ]
     },
     "execution_count": 46,
     "metadata": {},
     "output_type": "execute_result"
    }
   ],
   "source": [
    "# Train the model\n",
    "logistic.fit(train_norm,y_train)"
   ]
  },
  {
   "cell_type": "code",
   "execution_count": 47,
   "metadata": {},
   "outputs": [
    {
     "data": {
      "text/plain": [
       "array([[0.90072205, 0.09927795],\n",
       "       [0.18913461, 0.81086539],\n",
       "       [0.49588333, 0.50411667],\n",
       "       ...,\n",
       "       [0.25475007, 0.74524993],\n",
       "       [0.40292267, 0.59707733],\n",
       "       [0.23945586, 0.76054414]])"
      ]
     },
     "execution_count": 47,
     "metadata": {},
     "output_type": "execute_result"
    }
   ],
   "source": [
    "logistic.predict_proba(train_norm)"
   ]
  },
  {
   "cell_type": "code",
   "execution_count": 48,
   "metadata": {},
   "outputs": [],
   "source": [
    "# Apply the logistic regression on the test set\n",
    "y_pred = logistic.predict(test_norm)"
   ]
  },
  {
   "cell_type": "code",
   "execution_count": 49,
   "metadata": {},
   "outputs": [
    {
     "data": {
      "text/plain": [
       "array([0, 0, 0, ..., 1, 0, 0])"
      ]
     },
     "execution_count": 49,
     "metadata": {},
     "output_type": "execute_result"
    }
   ],
   "source": [
    "y_pred"
   ]
  },
  {
   "cell_type": "markdown",
   "metadata": {},
   "source": [
    "A confusion matrix C is such that Ci,j is equal to the number of observations known to be in group i but predicted to be in group j.\n",
    "Thus in binary classification, the count of true negatives (TN) is C0,0, false negatives(FN) is C1,0, true positives (TP) is C1,1 and false positives (FP) is C0,1.\n",
    "\n",
    "We define the **Recall** such as **Proportion of data correcly classified in class 1**.\n",
    "\n",
    "\\begin{equation*}Recall = \\frac{TP}{(TP + FN)} \\end{equation*}\n",
    "\n",
    "And **Precision** the **proportion of data in class 1 correctly classified overall data in class 1**.\n",
    "\n",
    "\\begin{equation*}Precision = \\frac{TP}{(TP + FP)} \\end{equation*}\n",
    "\n",
    "The F1 score is a measure of a test's accuracy. It considers both the precision P and the recall R of the test to compute the score. The F1 score is the harmonic average of the precision and recall, where an F1 score reaches its best value at 1 (perfect precision and recall) and worst at 0.\n",
    "\n",
    "\\begin{equation*}F1 =2 * \\frac{Precision * Recall}{(Precision + Recall)} \\end{equation*}\n"
   ]
  },
  {
   "cell_type": "code",
   "execution_count": 50,
   "metadata": {
    "scrolled": false
   },
   "outputs": [
    {
     "data": {
      "text/plain": [
       "array([[7646, 1579],\n",
       "       [1223, 5486]])"
      ]
     },
     "execution_count": 50,
     "metadata": {},
     "output_type": "execute_result"
    }
   ],
   "source": [
    "# Compute de confusion matrix\n",
    "conf_matrice = confusion_matrix(y_test,y_pred)\n",
    "conf_matrice"
   ]
  },
  {
   "cell_type": "code",
   "execution_count": 51,
   "metadata": {},
   "outputs": [
    {
     "name": "stdout",
     "output_type": "stream",
     "text": [
      "7646 1579 1223 5486\n"
     ]
    }
   ],
   "source": [
    "# Manually compute the conf_matrice\n",
    "TP = sum(np.where((y_pred == y_test) & (y_pred == 1) >= 0.5, 1, 0))\n",
    "TN = sum(np.where((y_pred == y_test) & (y_pred == 0) >= 0.5, 1, 0))\n",
    "FP = sum(np.where((y_pred != y_test) & (y_pred == 1) >= 0.5, 1, 0))\n",
    "FN = sum(np.where((y_pred != y_test) & (y_pred == 0) >= 0.5, 1, 0))\n",
    "\n",
    "print(TN, FP, FN, TP)"
   ]
  },
  {
   "cell_type": "code",
   "execution_count": 52,
   "metadata": {},
   "outputs": [
    {
     "name": "stdout",
     "output_type": "stream",
     "text": [
      "Precision: 0.78\n",
      "Recall: 0.82\n",
      "F1: 0.80\n"
     ]
    }
   ],
   "source": [
    "Recall = TP / (TP + FN)\n",
    "Precision = TP / (TP + FP)\n",
    "F1 = 2*Precision*Recall/(Precision+Recall)\n",
    "\n",
    "print(\"Precision: %0.2f\" % (Precision))\n",
    "print(\"Recall: %0.2f\" % (Recall))\n",
    "print(\"F1: %0.2f\" % (F1))"
   ]
  },
  {
   "cell_type": "markdown",
   "metadata": {},
   "source": [
    "Above we used a decision threshold of 0,5. Now we are going to vary the value of the threshold in the range from 0 to 1 and visualize the value of accuracy, precision, recall, and F1-score (with respect to both classes) as a function of the threshold."
   ]
  },
  {
   "cell_type": "code",
   "execution_count": 53,
   "metadata": {},
   "outputs": [],
   "source": [
    "Precision_threshold_class0 = np.zeros(10)\n",
    "Recall_threshold_class0 = np.zeros(10)\n",
    "F1_threshold_class0 = np.zeros(10)\n",
    "\n",
    "Precision_threshold_class1 = np.zeros(10)\n",
    "Recall_threshold_class1 = np.zeros(10)\n",
    "F1_threshold_class1 = np.zeros(10)\n",
    "Accuracy = np.zeros(10)\n",
    "\n",
    "y_pred = logistic.predict_proba(test_norm)\n",
    "\n",
    "for i in range(0, 10):\n",
    "    threshold = i/10;\n",
    "    # Apply the model to test set and apply the decision threshold\n",
    "    y_pred_threshold = np.where(y_pred[:,1] >= threshold, 1, 0)\n",
    "    y_pred_threshold_class0 = np.where(y_pred[:,0] <= threshold, 1, 0)\n",
    "    \n",
    "    # Confusion matrix class 1\n",
    "    TP = sum(np.where((y_pred_threshold == y_test) & (y_pred_threshold == 1) >= 0.5, 1, 0))\n",
    "    TN = sum(np.where((y_pred_threshold == y_test) & (y_pred_threshold == 0) >= 0.5, 1, 0))\n",
    "    FP = sum(np.where((y_pred_threshold != y_test) & (y_pred_threshold == 1) >= 0.5, 1, 0))\n",
    "    FN = sum(np.where((y_pred_threshold != y_test) & (y_pred_threshold == 0) >= 0.5, 1, 0))\n",
    "    \n",
    "    #Compute the precision, recall, F1 and accuracy for class 1\n",
    "    Precision_threshold_class1[i] = TP / (TP + FP)\n",
    "    Recall_threshold_class1[i] = TP / (TP + FN)\n",
    "    F1_threshold_class1[i] = 2*Precision_threshold_class1[i]*Recall_threshold_class1[i]/(Precision_threshold_class1[i]+Recall_threshold_class1[i])\n",
    "    Accuracy[i] = sum((y_pred_threshold == y_test))/len(y_test)*100 \n",
    "     \n",
    "    # Confusion matrix class 0\n",
    "    TP = sum(np.where((y_pred_threshold_class0 == y_test) & (y_pred_threshold_class0 == 1) >= 0.5, 1, 0))\n",
    "    TN = sum(np.where((y_pred_threshold_class0 == y_test) & (y_pred_threshold_class0 == 0) >= 0.5, 1, 0))\n",
    "    FP = sum(np.where((y_pred_threshold_class0 != y_test) & (y_pred_threshold_class0 == 1) >= 0.5, 1, 0))\n",
    "    FN = sum(np.where((y_pred_threshold_class0 != y_test) & (y_pred_threshold_class0 == 0) >= 0.5, 1, 0))\n",
    "    \n",
    "    #Compute the precision, recall, F1 and accuracy for class 0\n",
    "    Precision_threshold_class0[i] = TN / (TN + FN)\n",
    "    Recall_threshold_class0[i] =  TN / (TN + FP)\n",
    "    F1_threshold_class0[i] = 2*Precision_threshold_class0[i]*Recall_threshold_class0[i]/(Precision_threshold_class0[i]+Recall_threshold_class0[i])"
   ]
  },
  {
   "cell_type": "code",
   "execution_count": 54,
   "metadata": {},
   "outputs": [
    {
     "data": {
      "image/png": "[encoded data removed]",
      "text/plain": [
       "<Figure size 864x504 with 1 Axes>"
      ]
     },
     "metadata": {},
     "output_type": "display_data"
    }
   ],
   "source": [
    "# Plot the performance measurment as function of the threshold\n",
    "t = np.linspace(0,1,10)\n",
    "plt.figure(figsize=(12,7))\n",
    "plt.plot(t, 100*Precision_threshold_class1, 'r') \n",
    "plt.plot(t, 100*Recall_threshold_class1, 'b') \n",
    "plt.plot(t, 100*F1_threshold_class1, 'g')\n",
    "plt.plot(t, Accuracy,'k')\n",
    "plt.grid(axis='both')\n",
    "plt.xlabel('Threshold')\n",
    "plt.legend(['Precision','Recall','F1','Accuracy'])\n",
    "plt.ylabel('%')\n",
    "plt.title('Performance as a function of the threshold class 1')\n",
    "plt.show()"
   ]
  },
  {
   "cell_type": "markdown",
   "metadata": {},
   "source": [
    "The curves are not really smooth because we used a step of 0,1. But as we can see all curves in one graph, it can be very easy to analyse and compare. First of all there is only the precision curve which stay rising. Indeed, the more the threshold is close to 1, the more the model classify the feature in class 1, and so increas the precision.\n",
    "\n",
    "Nevertherless, the Recall function is downwarding. Because at the contrary, the more the threshold is close to 1, the more we classify feature of class 0 in class 1.\n",
    "If we look at the F1 curve, it never reach 1. Its maximal value is 80 for a threshold of 0,5.\n",
    "\n",
    "Total accuracy is maximised for a threshold of 0.6, but this does not maximise either the precision or recall."
   ]
  },
  {
   "cell_type": "code",
   "execution_count": 55,
   "metadata": {
    "scrolled": true
   },
   "outputs": [
    {
     "data": {
      "image/png": "[encoded data removed]",
      "text/plain": [
       "<Figure size 864x504 with 1 Axes>"
      ]
     },
     "metadata": {},
     "output_type": "display_data"
    }
   ],
   "source": [
    "# Plot the performance measurment as function of the threshold\n",
    "t = np.linspace(0,1,10)\n",
    "plt.figure(figsize=(12,7))\n",
    "plt.plot(t, 100*Precision_threshold_class0, 'r') \n",
    "plt.plot(t, 100*Recall_threshold_class0, 'b') \n",
    "plt.plot(t, 100*F1_threshold_class0, 'g')\n",
    "plt.plot(t, Accuracy,'k')\n",
    "plt.grid(axis='both')\n",
    "plt.xlabel('Threshold')\n",
    "plt.legend(['Precision','Recall','F1','Accuracy'])\n",
    "plt.ylabel('%')\n",
    "plt.title('Performance as a function of the threshold class 0')\n",
    "plt.show();"
   ]
  },
  {
   "cell_type": "markdown",
   "metadata": {},
   "source": [
    "As we can see, recall and precision curves cross each other with the 0.5 threshold. The accurcay does not change and the f1 measure is quite the same. To get more precision on which of those measuring scores to use, we are going to have a look to the precision-recall curve plot."
   ]
  },
  {
   "cell_type": "code",
   "execution_count": 56,
   "metadata": {
    "scrolled": false
   },
   "outputs": [
    {
     "data": {
      "text/plain": [
       "<function matplotlib.pyplot.show(*args, **kw)>"
      ]
     },
     "execution_count": 56,
     "metadata": {},
     "output_type": "execute_result"
    },
    {
     "data": {
      "image/png": "[encoded data removed]",
      "text/plain": [
       "<Figure size 1080x432 with 2 Axes>"
      ]
     },
     "metadata": {},
     "output_type": "display_data"
    }
   ],
   "source": [
    "plt.figure(figsize=(15,6))\n",
    "\n",
    "plt.subplot(121)\n",
    "plt.plot(Recall_threshold_class1,Precision_threshold_class1)\n",
    "plt.grid(axis='both')\n",
    "plt.xlabel('Recall')\n",
    "plt.ylabel('Precision')\n",
    "plt.title('Precision-Recall curve for class 1')\n",
    "plt.show\n",
    "\n",
    "plt.subplot(122)\n",
    "plt.plot(Recall_threshold_class0,Precision_threshold_class0)\n",
    "plt.grid(axis='both')\n",
    "plt.xlabel('Recall')\n",
    "plt.ylabel('Precision')\n",
    "plt.title('Precision-Recall curve for class 0')\n",
    "plt.show"
   ]
  },
  {
   "cell_type": "markdown",
   "metadata": {},
   "source": [
    "Precision is sort of like accuracy but it looks only at the data you predicted positive (in this example you’re only looking at data where you predict a adoption). Recall is also sort of like accuracy but it looks only at the data that is “relevant”. But there will be always a tradeoff between classifying correctly all data points of the class OR making sure each class contains data point of only one class.\n",
    "\n",
    "If you change a binary classifier parameter (the threshold for a logistic regression classifier in our case), it turns out the precision and recall will change. But if the precision increases (the chance of adopting an animal), the recall (the number of betting opportunities to get an animal adopted) will decrease. And vice versa\n",
    "\n",
    "As the shelter has a limited capacity and has no other option but to put to sleep animals with a low probability of adoption, the best threshold is the one that give an acceptable tradeoff between Recall and Precision. We do not want to put to sleep an adoptable animal, so focus on the **recall**. In our case, the best threshold parameter would be for a recall value of 0.8, which corresponds to a threshold around **0.6** for class 1, being adopted (where recall and precision curves crossed each other in the first graph). If we look at class 0, it might be a threshold around 0.5. For a 0.55 threshold, the F1 score is really close to its maximal value. So it helps us to comfirm in our choice."
   ]
  },
  {
   "cell_type": "markdown",
   "metadata": {},
   "source": [
    "**Question C)** Reduce the number of features by selecting the subset of the k best features. Use greedy backward selection to iteratively remove features. Evaluate performance and visualize the result using 5-fold cross-validation on the training set as a function of k, where k = 1, 5, 10, 15, 20, 25, 30. Choose the optimal k and justify your choice. Interpret the top-k features and their impact on the probability of adoption."
   ]
  },
  {
   "cell_type": "code",
   "execution_count": 57,
   "metadata": {},
   "outputs": [],
   "source": [
    "K = [1, 5, 10, 15, 20, 25, 30]"
   ]
  },
  {
   "cell_type": "code",
   "execution_count": 58,
   "metadata": {},
   "outputs": [
    {
     "data": {
      "text/plain": [
       "(63738, 32)"
      ]
     },
     "execution_count": 58,
     "metadata": {},
     "output_type": "execute_result"
    }
   ],
   "source": [
    "train_norm.shape"
   ]
  },
  {
   "cell_type": "code",
   "execution_count": 59,
   "metadata": {},
   "outputs": [],
   "source": [
    "features = list(train_norm)"
   ]
  },
  {
   "cell_type": "markdown",
   "metadata": {},
   "source": [
    "So actually, in our train set, there are 32 differents features available (i.e 32 columns). So we are going to train a model using the k best defined by greedy backward selection.\n",
    "\n",
    "The Recursive Feature Elimination (RFE) method is a feature selection approach. It works by recursively removing attributes and building a model on those attributes that remain. It uses the model accuracy to identify which attributes (and combination of attributes) contribute the most to predicting the target attribute."
   ]
  },
  {
   "cell_type": "code",
   "execution_count": 60,
   "metadata": {},
   "outputs": [
    {
     "name": "stdout",
     "output_type": "stream",
     "text": [
      "Number of feature selected : 1 \n"
     ]
    },
    {
     "name": "stderr",
     "output_type": "stream",
     "text": [
      "/Users/eliottjoulot/anaconda3/lib/python3.6/site-packages/sklearn/metrics/classification.py:1135: UndefinedMetricWarning: F-score is ill-defined and being set to 0.0 due to no predicted samples.\n",
      "  'precision', 'predicted', average, warn_for)\n",
      "/Users/eliottjoulot/anaconda3/lib/python3.6/site-packages/sklearn/metrics/classification.py:1135: UndefinedMetricWarning: F-score is ill-defined and being set to 0.0 due to no predicted samples.\n",
      "  'precision', 'predicted', average, warn_for)\n",
      "/Users/eliottjoulot/anaconda3/lib/python3.6/site-packages/sklearn/metrics/classification.py:1135: UndefinedMetricWarning: F-score is ill-defined and being set to 0.0 due to no predicted samples.\n",
      "  'precision', 'predicted', average, warn_for)\n",
      "/Users/eliottjoulot/anaconda3/lib/python3.6/site-packages/sklearn/metrics/classification.py:1135: UndefinedMetricWarning: F-score is ill-defined and being set to 0.0 due to no predicted samples.\n",
      "  'precision', 'predicted', average, warn_for)\n",
      "/Users/eliottjoulot/anaconda3/lib/python3.6/site-packages/sklearn/metrics/classification.py:1135: UndefinedMetricWarning: F-score is ill-defined and being set to 0.0 due to no predicted samples.\n",
      "  'precision', 'predicted', average, warn_for)\n"
     ]
    },
    {
     "name": "stdout",
     "output_type": "stream",
     "text": [
      "[0. 0. 0. 0. 0.]\n",
      "Number of feature selected : 5 \n",
      "[0.74297879 0.74207257 0.74328749 0.76103551 0.74390144]\n",
      "Number of feature selected : 10 \n",
      "[0.79063884 0.78868672 0.79201869 0.79239871 0.79338843]\n",
      "Number of feature selected : 15 \n",
      "[0.79024831 0.78877799 0.79167041 0.79219268 0.79346264]\n",
      "Number of feature selected : 20 \n",
      "[0.79173464 0.79234381 0.79251395 0.79511363 0.79675676]\n",
      "Number of feature selected : 25 \n",
      "[0.79238095 0.79186624 0.79409913 0.79698167 0.79780141]\n",
      "Number of feature selected : 30 \n",
      "[0.79244941 0.79157247 0.79384228 0.79662235 0.7975858 ]\n"
     ]
    }
   ],
   "source": [
    "# Create a base classifier\n",
    "model = LogisticRegression(penalty='l2',solver='lbfgs', max_iter = 500);\n",
    "CV_scores = np.zeros(len(K));\n",
    "\n",
    "i=0;\n",
    "for k in K :\n",
    "    # create the RFE model and select 3 attributes\n",
    "    rfe = RFE(model, k, step=1, verbose=0)\n",
    "    rfe = rfe.fit(train_norm, y_train)\n",
    "    print('Number of feature selected : %d ' %rfe.n_features_)\n",
    "    \n",
    "    # Do the cross validation for model \n",
    "    cross_val = cross_val_score(rfe, train_norm, y_train, cv=5, scoring='f1',n_jobs=-1)\n",
    "    print(cross_val)\n",
    "    \n",
    "    # Compute the mean of the CV and keep it\n",
    "    CV_scores[i] = cross_val.mean()\n",
    "    i += 1;"
   ]
  },
  {
   "cell_type": "markdown",
   "metadata": {},
   "source": [
    "As we can see above, for each cross validation made with k selected feature, the cross validation returns an array of scores of the estimator for each fold of the cross validation.\n",
    "\n",
    "So after each CV, we compute the means of the score and plot below the cross validation score depending on the number of features selected"
   ]
  },
  {
   "cell_type": "code",
   "execution_count": 61,
   "metadata": {},
   "outputs": [
    {
     "data": {
      "image/png": "[encoded data removed]",
      "text/plain": [
       "<Figure size 432x288 with 1 Axes>"
      ]
     },
     "metadata": {},
     "output_type": "display_data"
    }
   ],
   "source": [
    "# Plot number of features VS. cross-validation scores\n",
    "plt.figure()\n",
    "plt.xlabel(\"Number of features selected\")\n",
    "plt.ylabel(\"Cross validation recall score (nb of correct classifications)\")\n",
    "plt.grid(axis='both')\n",
    "plt.title('5-fold CV as a function of k')\n",
    "plt.plot(K, CV_scores)\n",
    "plt.show()   "
   ]
  },
  {
   "cell_type": "markdown",
   "metadata": {},
   "source": [
    "So as we can see, the model rapidly reaches its best performance for k=10. So only one third of the feature is sufficient to build our model for an accuracy of 80%. Using more than the 10 best feature will not bring more usefull information and will increase the computational cost. Now let's have a look at those best 10 features"
   ]
  },
  {
   "cell_type": "code",
   "execution_count": 62,
   "metadata": {},
   "outputs": [
    {
     "name": "stdout",
     "output_type": "stream",
     "text": [
      "[False False  True  True  True False False False False False False False\n",
      " False False False False False False  True False  True  True  True  True\n",
      " False False False False False  True  True False]\n"
     ]
    }
   ],
   "source": [
    "# Do the feature selection for k=10\n",
    "rfe = RFE(model, 10, step=1, verbose=0)\n",
    "rfe = rfe.fit(train_norm, y_train)\n",
    "best_10 = rfe.support_\n",
    "print(best_10)"
   ]
  },
  {
   "cell_type": "code",
   "execution_count": 63,
   "metadata": {},
   "outputs": [
    {
     "data": {
      "text/plain": [
       "array([ 2,  3,  4, 18, 20, 21, 22, 23, 29, 30])"
      ]
     },
     "execution_count": 63,
     "metadata": {},
     "output_type": "execute_result"
    }
   ],
   "source": [
    "# Get the index of the best features in the list\n",
    "best_features_index = [i for i, x in enumerate(best_10) if x]\n",
    "best_features_index = np.array(best_features_index)\n",
    "best_features_index"
   ]
  },
  {
   "cell_type": "code",
   "execution_count": 64,
   "metadata": {},
   "outputs": [
    {
     "data": {
      "text/plain": [
       "['age_upon_intake_(years)',\n",
       " 'time_in_shelter_days',\n",
       " 'age_upon_outcome_(years)',\n",
       " 'intake_type_Owner Surrender',\n",
       " 'intake_type_Stray',\n",
       " 'intake_type_Wildlife',\n",
       " 'sex_upon_intake_Intact Female',\n",
       " 'sex_upon_intake_Intact Male',\n",
       " 'sex_upon_outcome_Neutered Male',\n",
       " 'sex_upon_outcome_Spayed Female']"
      ]
     },
     "execution_count": 64,
     "metadata": {},
     "output_type": "execute_result"
    }
   ],
   "source": [
    "# Get the best 10 features\n",
    "best_features = [features[index] for index in best_features_index]\n",
    "best_features"
   ]
  },
  {
   "cell_type": "markdown",
   "metadata": {},
   "source": [
    "So now we are able to see in more details which features are the most relevants for an adoption. At first comes the age, which might not be surprising. An old animal has less chance to get adopted than a young one. Then comes the time remains in the shelter. \n",
    "\n",
    "The three following features are concerning the intake type. For example, an animal strayed by its owner can make people more sentimental toward it. So people might have more pity for those animals.  Then the sex at the intake and outcome. It seems that people are also interested int the sex and either the animal is neutered or not. That is an important fact to take into account : knowing if the animal you are going to adopt can reproduce or not (and the choice can depends on if you want to let this happend or not). \n",
    "\n",
    "A surprise in this features is the lack of the type (such as bird, dog or cat). Indeed the type seems to be important in a choice like type_bird. Because a  bird is really different than a cat or a dog (animals which require more contraints than a bird), this is why we though this features could be powerfull to seperate better the data. Or maybe because when people come at the shelter they already know which type of animal they want to adopt, this features canno't be very helpfull in prediction."
   ]
  },
  {
   "cell_type": "markdown",
   "metadata": {},
   "source": [
    "Once, the final model is the once train on the best 10 feature with a threshold of 0.55 :"
   ]
  },
  {
   "cell_type": "code",
   "execution_count": 65,
   "metadata": {},
   "outputs": [
    {
     "name": "stdout",
     "output_type": "stream",
     "text": [
      "Accuracy class 1: 0.82\n",
      "Precision class 1: 0.78\n",
      "Recall    class 1: 0.79\n",
      "F1        class 1: 0.79\n",
      "\n",
      "Accuracy class 0: 0.82\n",
      "Precision class 0: 0.81\n",
      "Recall    class 0: 0.87\n",
      "F1        class 0: 0.84\n"
     ]
    }
   ],
   "source": [
    "# Select the 10 best features\n",
    "train_features = train_norm[best_features].copy();\n",
    "\n",
    "# Train the model based on the selected features\n",
    "logistic.fit(train_features,y_train);\n",
    "\n",
    "# Apply the model to the test set\n",
    "predicted_labels = logistic.predict_proba(test_norm[best_features]);\n",
    "\n",
    "threshold = 0.55;\n",
    "\n",
    "\n",
    "y_class1 = np.where(predicted_labels[:,1] >= threshold, 1, 0);\n",
    "y_class0 = np.where(predicted_labels[:,0] <= threshold, 1, 0);\n",
    "\n",
    "# Class 1 score\n",
    "TP = sum(np.where((y_class1 == y_test) & (y_class1 == 1) >= threshold, 1, 0))\n",
    "TN = sum(np.where((y_class1 == y_test) & (y_class1 == 0) >= threshold, 1, 0))\n",
    "FP = sum(np.where((y_class1 != y_test) & (y_class1 == 1) >= threshold, 1, 0))\n",
    "FN = sum(np.where((y_class1 != y_test) & (y_class1 == 0) >= threshold, 1, 0))\n",
    "Recall_logistic = TP / (TP + FN)\n",
    "Precision_logistic = TP / (TP + FP)\n",
    "F1_logistic = 2*Precision_logistic*Recall_logistic/(Precision_logistic+Recall_logistic)\n",
    "Accuracy_logistic = (TP+TN)/len(y_test)\n",
    "print(\"Accuracy class 1: %0.2f\" % (Accuracy_logistic))\n",
    "print(\"Precision class 1: %0.2f\" % (Precision_logistic));\n",
    "print(\"Recall    class 1: %0.2f\" % (Recall_logistic));\n",
    "print(\"F1        class 1: %0.2f\" % (F1_logistic));\n",
    "\n",
    "# Class 0 score\n",
    "TP = sum(np.where((y_class0 == y_test) & (y_class0 == 1) >= threshold, 1, 0))\n",
    "TN = sum(np.where((y_class0 == y_test) & (y_class0 == 0) >= threshold, 1, 0))\n",
    "FP = sum(np.where((y_class0 != y_test) & (y_class0 == 1) >= threshold, 1, 0))\n",
    "FN = sum(np.where((y_class0 != y_test) & (y_class0 == 0) >= threshold, 1, 0))\n",
    "Recall = TN / (TN + FN)\n",
    "Precision = TN / (TN + FP)\n",
    "F1 = 2*Precision*Recall/(Precision+Recall)\n",
    "Accuracy = (TP+TN)/len(y_test)\n",
    "print(\"\\nAccuracy class 0: %0.2f\" % (Accuracy))\n",
    "print(\"Precision class 0: %0.2f\" % (Precision));\n",
    "print(\"Recall    class 0: %0.2f\" % (Recall));\n",
    "print(\"F1        class 0: %0.2f\" % (F1));\n"
   ]
  },
  {
   "cell_type": "markdown",
   "metadata": {},
   "source": [
    "As we can see, the precision of both class is quite the same. Whereas the recall is much more high for class 0. SO globally our model is 80% accurate.\n"
   ]
  },
  {
   "cell_type": "markdown",
   "metadata": {},
   "source": [
    "> **Question D)** Train a random forest. Use 5-fold cross-validation on the training set to fine-tune the parameters of the classifier using a grid search on the number of estimators \"n_estimators\" and the max depth of the trees \"max_depth\". For the chosen parameters, estimate the performance of your classifier on the test set by presenting the confusion matrix, accuracy, precision, recall, and F1-score with respect to both classes and compare the performance with the performance of the logistic regression. Interpret the results."
   ]
  },
  {
   "cell_type": "markdown",
   "metadata": {},
   "source": [
    "As the grid search is a heavy computational process we would to implement it once, and then store the result in a variable file using pickle. That is why we implemented a function 'get_n_estimators_gridsearch' which will load the pickle file if it is available and will generate it otherwise. "
   ]
  },
  {
   "cell_type": "code",
   "execution_count": 66,
   "metadata": {},
   "outputs": [],
   "source": [
    "def get_n_estimators_gridsearch():\n",
    "    # Try to load the file alrezady computed 'n_estimators'\n",
    "    try:\n",
    "        return load_pickle('n_estimators')\n",
    "    # If the file does not exist, compute it\n",
    "    except (FileNotFoundError, EOFError) as e:\n",
    "        vec_n_estimators = []\n",
    "        vec_precision = []\n",
    "        vec_recall = []\n",
    "        \n",
    "        # For each value of n _estimators, we implement the model and compute the value of precision & recall.\n",
    "        # We store it in lists\n",
    "        for val_n_estimators in range(10, 400, 10):\n",
    "            random_forest = RandomForestClassifier(n_estimators= val_n_estimators)\n",
    "            \n",
    "            precision_rf = cross_val_score(random_forest, train_norm, y_train, cv=5, scoring=\"precision\")\n",
    "            recall_rf = cross_val_score(random_forest, train_norm, y_train, cv=5, scoring=\"recall\")\n",
    "            \n",
    "            vec_n_estimators.append(val_n_estimators)\n",
    "            vec_precision.append(precision_rf.mean())\n",
    "            vec_recall.append(recall_rf.mean())\n",
    "        \n",
    "        #Compute F1 score for all values using previously computed Recall and Precision\n",
    "        vec_F1 = []\n",
    "        for i in range(len(vec_precision)):\n",
    "            vec_F1.append( 2*(vec_precision[i]*vec_recall[i])/(vec_precision[i]+ vec_recall[i]) )\n",
    "        \n",
    "        # Create a DataFrame with Recall/Precision/F1 score for each value of n_estimators\n",
    "        df_n_estimators = pd.DataFrame({'n_estimators': vec_n_estimators,\n",
    "                                            'Precision': vec_precision,\n",
    "                                            'Recall': vec_recall,\n",
    "                                            'F1 score': vec_F1})\n",
    "        # Save the computed Dataframe into a pickle file\n",
    "        save_pickle(df_n_estimators, 'n_estimators')\n",
    "        return df_max_depth\n"
   ]
  },
  {
   "cell_type": "markdown",
   "metadata": {},
   "source": [
    "The cost increases when we set a greater value for n_estimations."
   ]
  },
  {
   "cell_type": "code",
   "execution_count": 67,
   "metadata": {},
   "outputs": [],
   "source": [
    "# Load the data describing the model for each value of n estimator\n",
    "df_n_estimators = get_n_estimators_gridsearch()"
   ]
  },
  {
   "cell_type": "code",
   "execution_count": 68,
   "metadata": {
    "scrolled": false
   },
   "outputs": [
    {
     "data": {
      "text/html": [
       "<div>\n",
       "<style scoped>\n",
       "    .dataframe tbody tr th:only-of-type {\n",
       "        vertical-align: middle;\n",
       "    }\n",
       "\n",
       "    .dataframe tbody tr th {\n",
       "        vertical-align: top;\n",
       "    }\n",
       "\n",
       "    .dataframe thead th {\n",
       "        text-align: right;\n",
       "    }\n",
       "</style>\n",
       "<table border=\"1\" class=\"dataframe\">\n",
       "  <thead>\n",
       "    <tr style=\"text-align: right;\">\n",
       "      <th></th>\n",
       "      <th>F1 score</th>\n",
       "      <th>Precision</th>\n",
       "      <th>Recall</th>\n",
       "      <th>n_estimators</th>\n",
       "    </tr>\n",
       "  </thead>\n",
       "  <tbody>\n",
       "    <tr>\n",
       "      <th>0</th>\n",
       "      <td>0.790834</td>\n",
       "      <td>0.797474</td>\n",
       "      <td>0.784304</td>\n",
       "      <td>10</td>\n",
       "    </tr>\n",
       "    <tr>\n",
       "      <th>1</th>\n",
       "      <td>0.796577</td>\n",
       "      <td>0.796799</td>\n",
       "      <td>0.796355</td>\n",
       "      <td>20</td>\n",
       "    </tr>\n",
       "    <tr>\n",
       "      <th>2</th>\n",
       "      <td>0.798203</td>\n",
       "      <td>0.795054</td>\n",
       "      <td>0.801376</td>\n",
       "      <td>30</td>\n",
       "    </tr>\n",
       "    <tr>\n",
       "      <th>3</th>\n",
       "      <td>0.798235</td>\n",
       "      <td>0.794059</td>\n",
       "      <td>0.802455</td>\n",
       "      <td>40</td>\n",
       "    </tr>\n",
       "    <tr>\n",
       "      <th>4</th>\n",
       "      <td>0.797570</td>\n",
       "      <td>0.793144</td>\n",
       "      <td>0.802046</td>\n",
       "      <td>50</td>\n",
       "    </tr>\n",
       "  </tbody>\n",
       "</table>\n",
       "</div>"
      ],
      "text/plain": [
       "   F1 score  Precision    Recall  n_estimators\n",
       "0  0.790834   0.797474  0.784304            10\n",
       "1  0.796577   0.796799  0.796355            20\n",
       "2  0.798203   0.795054  0.801376            30\n",
       "3  0.798235   0.794059  0.802455            40\n",
       "4  0.797570   0.793144  0.802046            50"
      ]
     },
     "execution_count": 68,
     "metadata": {},
     "output_type": "execute_result"
    }
   ],
   "source": [
    "df_n_estimators.head()"
   ]
  },
  {
   "cell_type": "markdown",
   "metadata": {},
   "source": [
    "We select the best n_estimators by taking the maximum value of F1 score and its corresponding n_estimator."
   ]
  },
  {
   "cell_type": "code",
   "execution_count": 69,
   "metadata": {},
   "outputs": [
    {
     "name": "stdout",
     "output_type": "stream",
     "text": [
      "The best F1 score is using : n_estimators = 310\n"
     ]
    }
   ],
   "source": [
    "best_n_estimators = df_n_estimators['n_estimators'][df_n_estimators['F1 score'].idxmax()]\n",
    "print(\"The best F1 score is using : n_estimators = %d\" % best_n_estimators)"
   ]
  },
  {
   "cell_type": "code",
   "execution_count": 70,
   "metadata": {},
   "outputs": [
    {
     "name": "stdout",
     "output_type": "stream",
     "text": [
      "The best F1 score is 0.799882\n"
     ]
    }
   ],
   "source": [
    "val_best_n_estimators = df_n_estimators['F1 score'][df_n_estimators['F1 score'].idxmax()]\n",
    "print(\"The best F1 score is %f\" % val_best_n_estimators)"
   ]
  },
  {
   "cell_type": "code",
   "execution_count": 71,
   "metadata": {},
   "outputs": [
    {
     "data": {
      "text/plain": [
       "Text(0.5,1,\"Gridsearch, F1 score with variable 'n estimators'\")"
      ]
     },
     "execution_count": 71,
     "metadata": {},
     "output_type": "execute_result"
    },
    {
     "data": {
      "image/png": "[encoded data removed]",
      "text/plain": [
       "<Figure size 1152x288 with 1 Axes>"
      ]
     },
     "metadata": {},
     "output_type": "display_data"
    }
   ],
   "source": [
    "fig, axes = plt.subplots()\n",
    "fig.set_size_inches(16,4)\n",
    "\n",
    "axes.plot(df_n_estimators['n_estimators'], df_n_estimators['F1 score'], color='coral') \n",
    "\n",
    "axes.plot(best_n_estimators, val_best_n_estimators,'b*')\n",
    "axes.annotate(\"Best n_estimators\", (310, 0.7985))\n",
    "\n",
    "axes.plot(170, val_best_n_estimators,'r*')\n",
    "axes.annotate(\"2nd best\\n n_estimators\", (170, 0.798))\n",
    "\n",
    "axes.set_xlabel(\"n estimators\")\n",
    "axes.set_ylabel(\"F1 Score\")\n",
    "axes.set_title(\"Gridsearch, F1 score with variable 'n estimators'\")"
   ]
  },
  {
   "cell_type": "markdown",
   "metadata": {},
   "source": [
    "We can see in this graph that some values are close to the optimal. Indeed the n_estimator = 170 is really close. It could then be interesting to take this one instead of n_estimator = 310, because this will reduce the complexity of the model and the computational cost. There is then a tradeoff. We will continue with the maximum value which is 310.\n",
    "\n",
    "We will now use the same approach to select the bext 'max_depth' value, using the preselected n_estimators = 310."
   ]
  },
  {
   "cell_type": "code",
   "execution_count": 72,
   "metadata": {},
   "outputs": [],
   "source": [
    "def get_max_depth_gridsearch(chosen_n_estimators):\n",
    "    # Try to load the file alrezady computed 'max_depth'\n",
    "    try:\n",
    "        return load_pickle('max_depth')\n",
    "    # If the file does not exist, compute it\n",
    "    except (FileNotFoundError, EOFError) as e:\n",
    "        vec_max_depth = []\n",
    "        vec_precision_max_depth = []\n",
    "        vec_recall_max_depth = []\n",
    "        \n",
    "        # For each value of max_depth, we implement the model and compute the value of precision & recall.\n",
    "        # We store it in lists\n",
    "        for val_max_depth in range(3, 20, 1):\n",
    "            random_forest = RandomForestClassifier(n_estimators= chosen_n_estimators, max_depth = val_max_depth)\n",
    "            \n",
    "            precision_rf = cross_val_score(random_forest, train_norm, y_train, cv=5, scoring=\"precision\")\n",
    "            recall_rf = cross_val_score(random_forest, train_norm, y_train, cv=5, scoring=\"recall\")\n",
    "            \n",
    "            vec_max_depth.append(val_max_depth)\n",
    "            vec_precision_max_depth.append(precision_rf.mean())\n",
    "            vec_recall_max_depth.append(recall_rf.mean())\n",
    "\n",
    "        \n",
    "        #Compute F1 score for all values using previously computed Recall and Precision\n",
    "        vec_F1 = []\n",
    "        for i in range(len(vec_precision_max_depth)):\n",
    "            vec_F1.append( 2*(vec_precision_max_depth[i]*vec_recall_max_depth[i])/(vec_precision_max_depth[i]+ vec_recall_max_depth[i]) )\n",
    "        \n",
    "        # Create a DataFrame with Recall/Precision/F1 score for each value of max_depth\n",
    "        df_max_depth = pd.DataFrame({'max_depth': vec_max_depth,\n",
    "                                    'Precision': vec_precision_max_depth,\n",
    "                                    'Recall': vec_recall_max_depth,\n",
    "                                    'F1 score': vec_F1})\n",
    "        # Save the computed Dataframe into a pickle file\n",
    "        save_pickle(df_max_depth, 'max_depth')\n",
    "        return df_max_depth"
   ]
  },
  {
   "cell_type": "code",
   "execution_count": 73,
   "metadata": {},
   "outputs": [],
   "source": [
    "# Load the data describing the model for each value of max_depth\n",
    "max_depth = get_max_depth_gridsearch(chosen_n_estimators = best_n_estimators)"
   ]
  },
  {
   "cell_type": "code",
   "execution_count": 74,
   "metadata": {
    "scrolled": true
   },
   "outputs": [
    {
     "data": {
      "text/html": [
       "<div>\n",
       "<style scoped>\n",
       "    .dataframe tbody tr th:only-of-type {\n",
       "        vertical-align: middle;\n",
       "    }\n",
       "\n",
       "    .dataframe tbody tr th {\n",
       "        vertical-align: top;\n",
       "    }\n",
       "\n",
       "    .dataframe thead th {\n",
       "        text-align: right;\n",
       "    }\n",
       "</style>\n",
       "<table border=\"1\" class=\"dataframe\">\n",
       "  <thead>\n",
       "    <tr style=\"text-align: right;\">\n",
       "      <th></th>\n",
       "      <th>F1 score</th>\n",
       "      <th>Precision</th>\n",
       "      <th>Recall</th>\n",
       "      <th>max_depth</th>\n",
       "    </tr>\n",
       "  </thead>\n",
       "  <tbody>\n",
       "    <tr>\n",
       "      <th>0</th>\n",
       "      <td>0.804029</td>\n",
       "      <td>0.751664</td>\n",
       "      <td>0.864237</td>\n",
       "      <td>3</td>\n",
       "    </tr>\n",
       "    <tr>\n",
       "      <th>1</th>\n",
       "      <td>0.812976</td>\n",
       "      <td>0.758475</td>\n",
       "      <td>0.875916</td>\n",
       "      <td>4</td>\n",
       "    </tr>\n",
       "    <tr>\n",
       "      <th>2</th>\n",
       "      <td>0.821255</td>\n",
       "      <td>0.768919</td>\n",
       "      <td>0.881235</td>\n",
       "      <td>5</td>\n",
       "    </tr>\n",
       "    <tr>\n",
       "      <th>3</th>\n",
       "      <td>0.822440</td>\n",
       "      <td>0.769159</td>\n",
       "      <td>0.883653</td>\n",
       "      <td>6</td>\n",
       "    </tr>\n",
       "    <tr>\n",
       "      <th>4</th>\n",
       "      <td>0.828469</td>\n",
       "      <td>0.774801</td>\n",
       "      <td>0.890125</td>\n",
       "      <td>7</td>\n",
       "    </tr>\n",
       "  </tbody>\n",
       "</table>\n",
       "</div>"
      ],
      "text/plain": [
       "   F1 score  Precision    Recall  max_depth\n",
       "0  0.804029   0.751664  0.864237          3\n",
       "1  0.812976   0.758475  0.875916          4\n",
       "2  0.821255   0.768919  0.881235          5\n",
       "3  0.822440   0.769159  0.883653          6\n",
       "4  0.828469   0.774801  0.890125          7"
      ]
     },
     "execution_count": 74,
     "metadata": {},
     "output_type": "execute_result"
    }
   ],
   "source": [
    "max_depth.head()"
   ]
  },
  {
   "cell_type": "code",
   "execution_count": 75,
   "metadata": {
    "scrolled": true
   },
   "outputs": [
    {
     "name": "stdout",
     "output_type": "stream",
     "text": [
      "The best F1 score is using : max_depth = 14\n"
     ]
    }
   ],
   "source": [
    "best_maxdepth = max_depth['max_depth'][max_depth['F1 score'].idxmax()]\n",
    "print(\"The best F1 score is using : max_depth = %d\" % best_maxdepth)"
   ]
  },
  {
   "cell_type": "code",
   "execution_count": 76,
   "metadata": {},
   "outputs": [
    {
     "name": "stdout",
     "output_type": "stream",
     "text": [
      "The best F1 score is 0.838470\n"
     ]
    }
   ],
   "source": [
    "val_best_maxdepth = max_depth['F1 score'].max()\n",
    "print(\"The best F1 score is %f\" % val_best_maxdepth)"
   ]
  },
  {
   "cell_type": "code",
   "execution_count": 77,
   "metadata": {
    "scrolled": true
   },
   "outputs": [
    {
     "data": {
      "text/plain": [
       "Text(0.5,1,\"Gridsearch, F1 score with variable 'max depth'\")"
      ]
     },
     "execution_count": 77,
     "metadata": {},
     "output_type": "execute_result"
    },
    {
     "data": {
      "image/png": "[encoded data removed]",
      "text/plain": [
       "<Figure size 1152x288 with 1 Axes>"
      ]
     },
     "metadata": {},
     "output_type": "display_data"
    }
   ],
   "source": [
    "\n",
    "fig, axes = plt.subplots()\n",
    "fig.set_size_inches(16,4)\n",
    "\n",
    "axes.plot(max_depth['max_depth'], max_depth['F1 score'], color='coral') \n",
    "\n",
    "axes.plot(best_maxdepth, val_best_maxdepth,'b*')\n",
    "axes.annotate(\"Best max_depth\", (13, 0.835))\n",
    "\n",
    "axes.set_xlabel(\"max depth\")\n",
    "axes.set_ylabel(\"F1 Score\")\n",
    "axes.set_title(\"Gridsearch, F1 score with variable 'max depth'\")"
   ]
  },
  {
   "cell_type": "markdown",
   "metadata": {},
   "source": [
    "After the computations and the selection we can say that the gridsearch of parameters 'n_estimators' and 'max_depth' gives :\n",
    "- __n_estimators = 310__ \n",
    "- __max_depth = 14__."
   ]
  },
  {
   "cell_type": "markdown",
   "metadata": {},
   "source": [
    "For the chosen parameters, estimate the performance of your classifier on the test set by presenting the confusion matrix, accuracy, precision, recall, and F1-score with respect to both classes and compare the performance with the performance of the logistic regression. Interpret the results."
   ]
  },
  {
   "cell_type": "code",
   "execution_count": 78,
   "metadata": {
    "scrolled": true
   },
   "outputs": [
    {
     "data": {
      "text/plain": [
       "RandomForestClassifier(bootstrap=True, class_weight=None, criterion='gini',\n",
       "            max_depth=14, max_features='auto', max_leaf_nodes=None,\n",
       "            min_impurity_decrease=0.0, min_impurity_split=None,\n",
       "            min_samples_leaf=1, min_samples_split=2,\n",
       "            min_weight_fraction_leaf=0.0, n_estimators=310, n_jobs=1,\n",
       "            oob_score=False, random_state=None, verbose=0,\n",
       "            warm_start=False)"
      ]
     },
     "execution_count": 78,
     "metadata": {},
     "output_type": "execute_result"
    }
   ],
   "source": [
    "# Implement the model using the selected parameters and the standardized training set\n",
    "random_forest = RandomForestClassifier(n_estimators= best_n_estimators, max_depth = best_maxdepth)\n",
    "random_forest.fit(train_norm, y_train)"
   ]
  },
  {
   "cell_type": "code",
   "execution_count": 79,
   "metadata": {},
   "outputs": [],
   "source": [
    "# Compute the output for the test set\n",
    "pred_rf = random_forest.predict_proba(test_norm)"
   ]
  },
  {
   "cell_type": "code",
   "execution_count": 80,
   "metadata": {},
   "outputs": [],
   "source": [
    "# Categorize the output (1 or 0) using the threshold 0.5\n",
    "pred_rf_val = np.where(pred_rf[:,1] >= 0.5, 1, 0)"
   ]
  },
  {
   "cell_type": "markdown",
   "metadata": {},
   "source": [
    "We are now able to construct the confusion matrix.\n",
    "- True positive : y_predicted = y_reference = 1\n",
    "- True negative : y_predicted = y_reference = 0\n",
    "- False positive : y_predicted(=1)  != y_reference \n",
    "- False negative : y_predicted(=0)  != y_reference"
   ]
  },
  {
   "cell_type": "code",
   "execution_count": 81,
   "metadata": {},
   "outputs": [],
   "source": [
    "true_positive = sum(np.where((pred_rf_val == y_test) & (pred_rf_val == 1) >= 0.5, 1, 0))\n",
    "true_negative = sum(np.where((pred_rf_val == y_test) & (pred_rf_val == 0) >= 0.5, 1, 0))\n",
    "false_positive = sum(np.where((pred_rf_val != y_test) & (pred_rf_val == 1) >= 0.5, 1, 0))\n",
    "false_negative = sum(np.where((pred_rf_val != y_test) & (pred_rf_val == 0) >= 0.5, 1, 0))"
   ]
  },
  {
   "cell_type": "code",
   "execution_count": 82,
   "metadata": {},
   "outputs": [],
   "source": [
    "confusion_matrix_RF = pd.DataFrame(columns=[\"y_pred = 1\", \"y_pred = 0\"], index=[\"y_ref = 1\",\"y_ref = 0\"], data=[[true_positive,false_positive],[false_negative,true_negative]])"
   ]
  },
  {
   "cell_type": "code",
   "execution_count": 83,
   "metadata": {},
   "outputs": [
    {
     "data": {
      "text/html": [
       "<div>\n",
       "<style scoped>\n",
       "    .dataframe tbody tr th:only-of-type {\n",
       "        vertical-align: middle;\n",
       "    }\n",
       "\n",
       "    .dataframe tbody tr th {\n",
       "        vertical-align: top;\n",
       "    }\n",
       "\n",
       "    .dataframe thead th {\n",
       "        text-align: right;\n",
       "    }\n",
       "</style>\n",
       "<table border=\"1\" class=\"dataframe\">\n",
       "  <thead>\n",
       "    <tr style=\"text-align: right;\">\n",
       "      <th></th>\n",
       "      <th>y_pred = 1</th>\n",
       "      <th>y_pred = 0</th>\n",
       "    </tr>\n",
       "  </thead>\n",
       "  <tbody>\n",
       "    <tr>\n",
       "      <th>y_ref = 1</th>\n",
       "      <td>6015</td>\n",
       "      <td>1559</td>\n",
       "    </tr>\n",
       "    <tr>\n",
       "      <th>y_ref = 0</th>\n",
       "      <td>694</td>\n",
       "      <td>7666</td>\n",
       "    </tr>\n",
       "  </tbody>\n",
       "</table>\n",
       "</div>"
      ],
      "text/plain": [
       "           y_pred = 1  y_pred = 0\n",
       "y_ref = 1        6015        1559\n",
       "y_ref = 0         694        7666"
      ]
     },
     "execution_count": 83,
     "metadata": {},
     "output_type": "execute_result"
    }
   ],
   "source": [
    "confusion_matrix_RF"
   ]
  },
  {
   "cell_type": "code",
   "execution_count": 84,
   "metadata": {},
   "outputs": [],
   "source": [
    "rf_accuracy = (true_positive+true_negative)/len(pred_rf_val)"
   ]
  },
  {
   "cell_type": "code",
   "execution_count": 85,
   "metadata": {},
   "outputs": [
    {
     "name": "stdout",
     "output_type": "stream",
     "text": [
      "The Accuracy is : 0.858604\n"
     ]
    }
   ],
   "source": [
    "print(\"The Accuracy is : %f\" % (rf_accuracy)) "
   ]
  },
  {
   "cell_type": "code",
   "execution_count": 86,
   "metadata": {},
   "outputs": [],
   "source": [
    "rf_precision = (true_positive)/(true_positive + false_positive)"
   ]
  },
  {
   "cell_type": "code",
   "execution_count": 87,
   "metadata": {},
   "outputs": [
    {
     "name": "stdout",
     "output_type": "stream",
     "text": [
      "The Precision is : 0.794164 \n"
     ]
    }
   ],
   "source": [
    "print(\"The Precision is : %f \" % (rf_precision))"
   ]
  },
  {
   "cell_type": "code",
   "execution_count": 88,
   "metadata": {},
   "outputs": [],
   "source": [
    "rf_recall = (true_positive)/(true_positive + false_negative)"
   ]
  },
  {
   "cell_type": "code",
   "execution_count": 89,
   "metadata": {},
   "outputs": [
    {
     "name": "stdout",
     "output_type": "stream",
     "text": [
      "The Recall is : 0.896557 \n"
     ]
    }
   ],
   "source": [
    "print(\"The Recall is : %f \" % (rf_recall))"
   ]
  },
  {
   "cell_type": "code",
   "execution_count": 90,
   "metadata": {},
   "outputs": [],
   "source": [
    "rf_f1score = 2*(rf_precision*rf_recall)/(rf_precision+rf_recall)"
   ]
  },
  {
   "cell_type": "code",
   "execution_count": 91,
   "metadata": {},
   "outputs": [
    {
     "name": "stdout",
     "output_type": "stream",
     "text": [
      "The F1 Score is : 0.842260 \n"
     ]
    }
   ],
   "source": [
    "print(\"The F1 Score is : %f \" % (rf_f1score))"
   ]
  },
  {
   "cell_type": "code",
   "execution_count": 92,
   "metadata": {},
   "outputs": [],
   "source": [
    "data_compare = [ [Accuracy_logistic,rf_accuracy],[Precision_logistic,rf_precision],[Recall_logistic,rf_recall],[F1_logistic,rf_f1score]]\n",
    "compare_models_DF = pd.DataFrame(index=[\"Accuracy\", \"Precision\", \"Recall\", \"F1-score\"], columns=[\"Logistic Regression\",\"Random Forest\"], data=data_compare)"
   ]
  },
  {
   "cell_type": "code",
   "execution_count": 93,
   "metadata": {},
   "outputs": [
    {
     "data": {
      "text/html": [
       "<div>\n",
       "<style scoped>\n",
       "    .dataframe tbody tr th:only-of-type {\n",
       "        vertical-align: middle;\n",
       "    }\n",
       "\n",
       "    .dataframe tbody tr th {\n",
       "        vertical-align: top;\n",
       "    }\n",
       "\n",
       "    .dataframe thead th {\n",
       "        text-align: right;\n",
       "    }\n",
       "</style>\n",
       "<table border=\"1\" class=\"dataframe\">\n",
       "  <thead>\n",
       "    <tr style=\"text-align: right;\">\n",
       "      <th></th>\n",
       "      <th>Logistic Regression</th>\n",
       "      <th>Random Forest</th>\n",
       "    </tr>\n",
       "  </thead>\n",
       "  <tbody>\n",
       "    <tr>\n",
       "      <th>Accuracy</th>\n",
       "      <td>0.817874</td>\n",
       "      <td>0.858604</td>\n",
       "    </tr>\n",
       "    <tr>\n",
       "      <th>Precision</th>\n",
       "      <td>0.778412</td>\n",
       "      <td>0.794164</td>\n",
       "    </tr>\n",
       "    <tr>\n",
       "      <th>Recall</th>\n",
       "      <td>0.793263</td>\n",
       "      <td>0.896557</td>\n",
       "    </tr>\n",
       "    <tr>\n",
       "      <th>F1-score</th>\n",
       "      <td>0.785767</td>\n",
       "      <td>0.842260</td>\n",
       "    </tr>\n",
       "  </tbody>\n",
       "</table>\n",
       "</div>"
      ],
      "text/plain": [
       "           Logistic Regression  Random Forest\n",
       "Accuracy              0.817874       0.858604\n",
       "Precision             0.778412       0.794164\n",
       "Recall                0.793263       0.896557\n",
       "F1-score              0.785767       0.842260"
      ]
     },
     "execution_count": 93,
     "metadata": {},
     "output_type": "execute_result"
    }
   ],
   "source": [
    "compare_models_DF"
   ]
  },
  {
   "cell_type": "code",
   "execution_count": 94,
   "metadata": {
    "scrolled": true
   },
   "outputs": [
    {
     "data": {
      "text/plain": [
       "<matplotlib.legend.Legend at 0x11808dd68>"
      ]
     },
     "execution_count": 94,
     "metadata": {},
     "output_type": "execute_result"
    },
    {
     "data": {
      "image/png": "[encoded data removed]",
      "text/plain": [
       "<Figure size 1152x288 with 1 Axes>"
      ]
     },
     "metadata": {},
     "output_type": "display_data"
    }
   ],
   "source": [
    "compare_models_DF.plot(kind='bar', figsize=(16,4), title=\"Performance Comparison : Logistic VS Random Forest\", grid=True)\n",
    "plt.legend(loc='center left', bbox_to_anchor=(1.0, 0.5))"
   ]
  },
  {
   "cell_type": "markdown",
   "metadata": {},
   "source": [
    "We can observe that the __Random Forest model is much more efficient__ than the Logistic Regression model. Indeed except the Precision where it is slightly better, the Accuracy, Recall and F1-score have a really higher value. \n",
    "The Random Forest is a more complex one with some well selected parameters. \n",
    "\n",
    "The Recall is also really high (0.897 for Random Forest) which is why it is definitely the best model (among the 2) for the shelter, as the recall is more important for our case. There will be less error and less \"accidentally\" killed animals. "
   ]
  }
 ],
 "metadata": {
  "kernelspec": {
   "display_name": "Python [default]",
   "language": "python",
   "name": "python3"
  },
  "language_info": {
   "codemirror_mode": {
    "name": "ipython",
    "version": 3
   },
   "file_extension": ".py",
   "mimetype": "text/x-python",
   "name": "python",
   "nbconvert_exporter": "python",
   "pygments_lexer": "ipython3",
   "version": "3.6.5"
  },
  "varInspector": {
   "cols": {
    "lenName": 16,
    "lenType": 16,
    "lenVar": 40
   },
   "kernels_config": {
    "python": {
     "delete_cmd_postfix": "",
     "delete_cmd_prefix": "del ",
     "library": "var_list.py",
     "varRefreshCmd": "print(var_dic_list())"
    },
    "r": {
     "delete_cmd_postfix": ") ",
     "delete_cmd_prefix": "rm(",
     "library": "var_list.r",
     "varRefreshCmd": "cat(var_dic_list()) "
    }
   },
   "types_to_exclude": [
    "module",
    "function",
    "builtin_function_or_method",
    "instance",
    "_Feature"
   ],
   "window_display": false
  }
 },
 "nbformat": 4,
 "nbformat_minor": 2
}
